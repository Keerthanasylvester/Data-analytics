{
 "cells": [
  {
   "attachments": {},
   "cell_type": "markdown",
   "id": "8974da59",
   "metadata": {},
   "source": [
    "## PROBLEM STATEMENT\n",
    "X-Education, an education company which sells online courses to industry professionals collects leads through various sources. The lead conversion rate is only around 30% .The company wants to make the process efficient by identifying the most potential leads and increase the conversion rate.The company requires us to build a model wherein we need to assign a lead score to each of the leads such that the customers with higher lead score have a higher conversion chance and the customers with lower lead score have a lower conversion chance. The CEO, in particular, has given a ballpark of the target lead conversion rate to be around 80%.\n",
    "\n",
    "### Objectives\n",
    "- To build a logistic regression model which would assign a score between 0 and 100 to the leads.High score denotes a hot lead and a low score denotes a cold lead.\n",
    "- To handle problems which may arise due to the company’s requirement changes.\n"
   ]
  },
  {
   "cell_type": "markdown",
   "id": "8f30a9a2",
   "metadata": {},
   "source": [
    "## Reading the data"
   ]
  },
  {
   "cell_type": "code",
   "execution_count": 1,
   "id": "c6e495b9",
   "metadata": {},
   "outputs": [],
   "source": [
    "#Importing all the necessary libraries\n",
    "import warnings\n",
    "warnings.filterwarnings(\"ignore\")\n",
    "\n",
    "import pandas as pd\n",
    "import numpy as np\n",
    "\n",
    "import seaborn as sns\n",
    "import matplotlib.pyplot as plt\n",
    "from sklearn.model_selection import train_test_split\n",
    "from sklearn.preprocessing import StandardScaler\n",
    "from sklearn.linear_model import LogisticRegression\n",
    "\n",
    "import statsmodels.api as sm\n",
    "from statsmodels.stats.outliers_influence import variance_inflation_factor\n",
    "from sklearn import metrics\n",
    "from sklearn.metrics import precision_recall_curve"
   ]
  },
  {
   "cell_type": "code",
   "execution_count": 2,
   "id": "78fdaaf4",
   "metadata": {},
   "outputs": [
    {
     "data": {
      "text/html": [
       "<div>\n",
       "<style scoped>\n",
       "    .dataframe tbody tr th:only-of-type {\n",
       "        vertical-align: middle;\n",
       "    }\n",
       "\n",
       "    .dataframe tbody tr th {\n",
       "        vertical-align: top;\n",
       "    }\n",
       "\n",
       "    .dataframe thead th {\n",
       "        text-align: right;\n",
       "    }\n",
       "</style>\n",
       "<table border=\"1\" class=\"dataframe\">\n",
       "  <thead>\n",
       "    <tr style=\"text-align: right;\">\n",
       "      <th></th>\n",
       "      <th>Prospect ID</th>\n",
       "      <th>Lead Number</th>\n",
       "      <th>Lead Origin</th>\n",
       "      <th>Lead Source</th>\n",
       "      <th>Do Not Email</th>\n",
       "      <th>Do Not Call</th>\n",
       "      <th>Converted</th>\n",
       "      <th>TotalVisits</th>\n",
       "      <th>Total Time Spent on Website</th>\n",
       "      <th>Page Views Per Visit</th>\n",
       "      <th>...</th>\n",
       "      <th>Get updates on DM Content</th>\n",
       "      <th>Lead Profile</th>\n",
       "      <th>City</th>\n",
       "      <th>Asymmetrique Activity Index</th>\n",
       "      <th>Asymmetrique Profile Index</th>\n",
       "      <th>Asymmetrique Activity Score</th>\n",
       "      <th>Asymmetrique Profile Score</th>\n",
       "      <th>I agree to pay the amount through cheque</th>\n",
       "      <th>A free copy of Mastering The Interview</th>\n",
       "      <th>Last Notable Activity</th>\n",
       "    </tr>\n",
       "  </thead>\n",
       "  <tbody>\n",
       "    <tr>\n",
       "      <th>0</th>\n",
       "      <td>7927b2df-8bba-4d29-b9a2-b6e0beafe620</td>\n",
       "      <td>660737</td>\n",
       "      <td>API</td>\n",
       "      <td>Olark Chat</td>\n",
       "      <td>No</td>\n",
       "      <td>No</td>\n",
       "      <td>0</td>\n",
       "      <td>0.0</td>\n",
       "      <td>0</td>\n",
       "      <td>0.0</td>\n",
       "      <td>...</td>\n",
       "      <td>No</td>\n",
       "      <td>Select</td>\n",
       "      <td>Select</td>\n",
       "      <td>02.Medium</td>\n",
       "      <td>02.Medium</td>\n",
       "      <td>15.0</td>\n",
       "      <td>15.0</td>\n",
       "      <td>No</td>\n",
       "      <td>No</td>\n",
       "      <td>Modified</td>\n",
       "    </tr>\n",
       "    <tr>\n",
       "      <th>1</th>\n",
       "      <td>2a272436-5132-4136-86fa-dcc88c88f482</td>\n",
       "      <td>660728</td>\n",
       "      <td>API</td>\n",
       "      <td>Organic Search</td>\n",
       "      <td>No</td>\n",
       "      <td>No</td>\n",
       "      <td>0</td>\n",
       "      <td>5.0</td>\n",
       "      <td>674</td>\n",
       "      <td>2.5</td>\n",
       "      <td>...</td>\n",
       "      <td>No</td>\n",
       "      <td>Select</td>\n",
       "      <td>Select</td>\n",
       "      <td>02.Medium</td>\n",
       "      <td>02.Medium</td>\n",
       "      <td>15.0</td>\n",
       "      <td>15.0</td>\n",
       "      <td>No</td>\n",
       "      <td>No</td>\n",
       "      <td>Email Opened</td>\n",
       "    </tr>\n",
       "    <tr>\n",
       "      <th>2</th>\n",
       "      <td>8cc8c611-a219-4f35-ad23-fdfd2656bd8a</td>\n",
       "      <td>660727</td>\n",
       "      <td>Landing Page Submission</td>\n",
       "      <td>Direct Traffic</td>\n",
       "      <td>No</td>\n",
       "      <td>No</td>\n",
       "      <td>1</td>\n",
       "      <td>2.0</td>\n",
       "      <td>1532</td>\n",
       "      <td>2.0</td>\n",
       "      <td>...</td>\n",
       "      <td>No</td>\n",
       "      <td>Potential Lead</td>\n",
       "      <td>Mumbai</td>\n",
       "      <td>02.Medium</td>\n",
       "      <td>01.High</td>\n",
       "      <td>14.0</td>\n",
       "      <td>20.0</td>\n",
       "      <td>No</td>\n",
       "      <td>Yes</td>\n",
       "      <td>Email Opened</td>\n",
       "    </tr>\n",
       "    <tr>\n",
       "      <th>3</th>\n",
       "      <td>0cc2df48-7cf4-4e39-9de9-19797f9b38cc</td>\n",
       "      <td>660719</td>\n",
       "      <td>Landing Page Submission</td>\n",
       "      <td>Direct Traffic</td>\n",
       "      <td>No</td>\n",
       "      <td>No</td>\n",
       "      <td>0</td>\n",
       "      <td>1.0</td>\n",
       "      <td>305</td>\n",
       "      <td>1.0</td>\n",
       "      <td>...</td>\n",
       "      <td>No</td>\n",
       "      <td>Select</td>\n",
       "      <td>Mumbai</td>\n",
       "      <td>02.Medium</td>\n",
       "      <td>01.High</td>\n",
       "      <td>13.0</td>\n",
       "      <td>17.0</td>\n",
       "      <td>No</td>\n",
       "      <td>No</td>\n",
       "      <td>Modified</td>\n",
       "    </tr>\n",
       "    <tr>\n",
       "      <th>4</th>\n",
       "      <td>3256f628-e534-4826-9d63-4a8b88782852</td>\n",
       "      <td>660681</td>\n",
       "      <td>Landing Page Submission</td>\n",
       "      <td>Google</td>\n",
       "      <td>No</td>\n",
       "      <td>No</td>\n",
       "      <td>1</td>\n",
       "      <td>2.0</td>\n",
       "      <td>1428</td>\n",
       "      <td>1.0</td>\n",
       "      <td>...</td>\n",
       "      <td>No</td>\n",
       "      <td>Select</td>\n",
       "      <td>Mumbai</td>\n",
       "      <td>02.Medium</td>\n",
       "      <td>01.High</td>\n",
       "      <td>15.0</td>\n",
       "      <td>18.0</td>\n",
       "      <td>No</td>\n",
       "      <td>No</td>\n",
       "      <td>Modified</td>\n",
       "    </tr>\n",
       "  </tbody>\n",
       "</table>\n",
       "<p>5 rows × 37 columns</p>\n",
       "</div>"
      ],
      "text/plain": [
       "                            Prospect ID  Lead Number              Lead Origin  \\\n",
       "0  7927b2df-8bba-4d29-b9a2-b6e0beafe620       660737                      API   \n",
       "1  2a272436-5132-4136-86fa-dcc88c88f482       660728                      API   \n",
       "2  8cc8c611-a219-4f35-ad23-fdfd2656bd8a       660727  Landing Page Submission   \n",
       "3  0cc2df48-7cf4-4e39-9de9-19797f9b38cc       660719  Landing Page Submission   \n",
       "4  3256f628-e534-4826-9d63-4a8b88782852       660681  Landing Page Submission   \n",
       "\n",
       "      Lead Source Do Not Email Do Not Call  Converted  TotalVisits  \\\n",
       "0      Olark Chat           No          No          0          0.0   \n",
       "1  Organic Search           No          No          0          5.0   \n",
       "2  Direct Traffic           No          No          1          2.0   \n",
       "3  Direct Traffic           No          No          0          1.0   \n",
       "4          Google           No          No          1          2.0   \n",
       "\n",
       "   Total Time Spent on Website  Page Views Per Visit  ...  \\\n",
       "0                            0                   0.0  ...   \n",
       "1                          674                   2.5  ...   \n",
       "2                         1532                   2.0  ...   \n",
       "3                          305                   1.0  ...   \n",
       "4                         1428                   1.0  ...   \n",
       "\n",
       "  Get updates on DM Content    Lead Profile    City  \\\n",
       "0                        No          Select  Select   \n",
       "1                        No          Select  Select   \n",
       "2                        No  Potential Lead  Mumbai   \n",
       "3                        No          Select  Mumbai   \n",
       "4                        No          Select  Mumbai   \n",
       "\n",
       "  Asymmetrique Activity Index Asymmetrique Profile Index  \\\n",
       "0                   02.Medium                  02.Medium   \n",
       "1                   02.Medium                  02.Medium   \n",
       "2                   02.Medium                    01.High   \n",
       "3                   02.Medium                    01.High   \n",
       "4                   02.Medium                    01.High   \n",
       "\n",
       "  Asymmetrique Activity Score Asymmetrique Profile Score  \\\n",
       "0                        15.0                       15.0   \n",
       "1                        15.0                       15.0   \n",
       "2                        14.0                       20.0   \n",
       "3                        13.0                       17.0   \n",
       "4                        15.0                       18.0   \n",
       "\n",
       "  I agree to pay the amount through cheque  \\\n",
       "0                                       No   \n",
       "1                                       No   \n",
       "2                                       No   \n",
       "3                                       No   \n",
       "4                                       No   \n",
       "\n",
       "  A free copy of Mastering The Interview Last Notable Activity  \n",
       "0                                     No              Modified  \n",
       "1                                     No          Email Opened  \n",
       "2                                    Yes          Email Opened  \n",
       "3                                     No              Modified  \n",
       "4                                     No              Modified  \n",
       "\n",
       "[5 rows x 37 columns]"
      ]
     },
     "execution_count": 2,
     "metadata": {},
     "output_type": "execute_result"
    }
   ],
   "source": [
    "#Reading the dataset\n",
    "leads = pd.read_csv(\"Leads.csv\")\n",
    "leads.head()"
   ]
  },
  {
   "cell_type": "code",
   "execution_count": 3,
   "id": "ce02c369",
   "metadata": {},
   "outputs": [
    {
     "data": {
      "text/plain": [
       "(9240, 37)"
      ]
     },
     "execution_count": 3,
     "metadata": {},
     "output_type": "execute_result"
    }
   ],
   "source": [
    "#Checking the number of rows and columns\n",
    "leads.shape"
   ]
  },
  {
   "cell_type": "code",
   "execution_count": 4,
   "id": "907c0f79",
   "metadata": {},
   "outputs": [
    {
     "name": "stdout",
     "output_type": "stream",
     "text": [
      "<class 'pandas.core.frame.DataFrame'>\n",
      "RangeIndex: 9240 entries, 0 to 9239\n",
      "Data columns (total 37 columns):\n",
      " #   Column                                         Non-Null Count  Dtype  \n",
      "---  ------                                         --------------  -----  \n",
      " 0   Prospect ID                                    9240 non-null   object \n",
      " 1   Lead Number                                    9240 non-null   int64  \n",
      " 2   Lead Origin                                    9240 non-null   object \n",
      " 3   Lead Source                                    9204 non-null   object \n",
      " 4   Do Not Email                                   9240 non-null   object \n",
      " 5   Do Not Call                                    9240 non-null   object \n",
      " 6   Converted                                      9240 non-null   int64  \n",
      " 7   TotalVisits                                    9103 non-null   float64\n",
      " 8   Total Time Spent on Website                    9240 non-null   int64  \n",
      " 9   Page Views Per Visit                           9103 non-null   float64\n",
      " 10  Last Activity                                  9137 non-null   object \n",
      " 11  Country                                        6779 non-null   object \n",
      " 12  Specialization                                 7802 non-null   object \n",
      " 13  How did you hear about X Education             7033 non-null   object \n",
      " 14  What is your current occupation                6550 non-null   object \n",
      " 15  What matters most to you in choosing a course  6531 non-null   object \n",
      " 16  Search                                         9240 non-null   object \n",
      " 17  Magazine                                       9240 non-null   object \n",
      " 18  Newspaper Article                              9240 non-null   object \n",
      " 19  X Education Forums                             9240 non-null   object \n",
      " 20  Newspaper                                      9240 non-null   object \n",
      " 21  Digital Advertisement                          9240 non-null   object \n",
      " 22  Through Recommendations                        9240 non-null   object \n",
      " 23  Receive More Updates About Our Courses         9240 non-null   object \n",
      " 24  Tags                                           5887 non-null   object \n",
      " 25  Lead Quality                                   4473 non-null   object \n",
      " 26  Update me on Supply Chain Content              9240 non-null   object \n",
      " 27  Get updates on DM Content                      9240 non-null   object \n",
      " 28  Lead Profile                                   6531 non-null   object \n",
      " 29  City                                           7820 non-null   object \n",
      " 30  Asymmetrique Activity Index                    5022 non-null   object \n",
      " 31  Asymmetrique Profile Index                     5022 non-null   object \n",
      " 32  Asymmetrique Activity Score                    5022 non-null   float64\n",
      " 33  Asymmetrique Profile Score                     5022 non-null   float64\n",
      " 34  I agree to pay the amount through cheque       9240 non-null   object \n",
      " 35  A free copy of Mastering The Interview         9240 non-null   object \n",
      " 36  Last Notable Activity                          9240 non-null   object \n",
      "dtypes: float64(4), int64(3), object(30)\n",
      "memory usage: 2.6+ MB\n"
     ]
    }
   ],
   "source": [
    "#Checking the datatype of the columns\n",
    "leads.info()"
   ]
  },
  {
   "cell_type": "code",
   "execution_count": 5,
   "id": "9229a1e9",
   "metadata": {},
   "outputs": [
    {
     "data": {
      "text/html": [
       "<div>\n",
       "<style scoped>\n",
       "    .dataframe tbody tr th:only-of-type {\n",
       "        vertical-align: middle;\n",
       "    }\n",
       "\n",
       "    .dataframe tbody tr th {\n",
       "        vertical-align: top;\n",
       "    }\n",
       "\n",
       "    .dataframe thead th {\n",
       "        text-align: right;\n",
       "    }\n",
       "</style>\n",
       "<table border=\"1\" class=\"dataframe\">\n",
       "  <thead>\n",
       "    <tr style=\"text-align: right;\">\n",
       "      <th></th>\n",
       "      <th>Lead Number</th>\n",
       "      <th>Converted</th>\n",
       "      <th>TotalVisits</th>\n",
       "      <th>Total Time Spent on Website</th>\n",
       "      <th>Page Views Per Visit</th>\n",
       "      <th>Asymmetrique Activity Score</th>\n",
       "      <th>Asymmetrique Profile Score</th>\n",
       "    </tr>\n",
       "  </thead>\n",
       "  <tbody>\n",
       "    <tr>\n",
       "      <th>count</th>\n",
       "      <td>9240.000000</td>\n",
       "      <td>9240.000000</td>\n",
       "      <td>9103.000000</td>\n",
       "      <td>9240.000000</td>\n",
       "      <td>9103.000000</td>\n",
       "      <td>5022.000000</td>\n",
       "      <td>5022.000000</td>\n",
       "    </tr>\n",
       "    <tr>\n",
       "      <th>mean</th>\n",
       "      <td>617188.435606</td>\n",
       "      <td>0.385390</td>\n",
       "      <td>3.445238</td>\n",
       "      <td>487.698268</td>\n",
       "      <td>2.362820</td>\n",
       "      <td>14.306252</td>\n",
       "      <td>16.344883</td>\n",
       "    </tr>\n",
       "    <tr>\n",
       "      <th>std</th>\n",
       "      <td>23405.995698</td>\n",
       "      <td>0.486714</td>\n",
       "      <td>4.854853</td>\n",
       "      <td>548.021466</td>\n",
       "      <td>2.161418</td>\n",
       "      <td>1.386694</td>\n",
       "      <td>1.811395</td>\n",
       "    </tr>\n",
       "    <tr>\n",
       "      <th>min</th>\n",
       "      <td>579533.000000</td>\n",
       "      <td>0.000000</td>\n",
       "      <td>0.000000</td>\n",
       "      <td>0.000000</td>\n",
       "      <td>0.000000</td>\n",
       "      <td>7.000000</td>\n",
       "      <td>11.000000</td>\n",
       "    </tr>\n",
       "    <tr>\n",
       "      <th>25%</th>\n",
       "      <td>596484.500000</td>\n",
       "      <td>0.000000</td>\n",
       "      <td>1.000000</td>\n",
       "      <td>12.000000</td>\n",
       "      <td>1.000000</td>\n",
       "      <td>14.000000</td>\n",
       "      <td>15.000000</td>\n",
       "    </tr>\n",
       "    <tr>\n",
       "      <th>50%</th>\n",
       "      <td>615479.000000</td>\n",
       "      <td>0.000000</td>\n",
       "      <td>3.000000</td>\n",
       "      <td>248.000000</td>\n",
       "      <td>2.000000</td>\n",
       "      <td>14.000000</td>\n",
       "      <td>16.000000</td>\n",
       "    </tr>\n",
       "    <tr>\n",
       "      <th>75%</th>\n",
       "      <td>637387.250000</td>\n",
       "      <td>1.000000</td>\n",
       "      <td>5.000000</td>\n",
       "      <td>936.000000</td>\n",
       "      <td>3.000000</td>\n",
       "      <td>15.000000</td>\n",
       "      <td>18.000000</td>\n",
       "    </tr>\n",
       "    <tr>\n",
       "      <th>max</th>\n",
       "      <td>660737.000000</td>\n",
       "      <td>1.000000</td>\n",
       "      <td>251.000000</td>\n",
       "      <td>2272.000000</td>\n",
       "      <td>55.000000</td>\n",
       "      <td>18.000000</td>\n",
       "      <td>20.000000</td>\n",
       "    </tr>\n",
       "  </tbody>\n",
       "</table>\n",
       "</div>"
      ],
      "text/plain": [
       "         Lead Number    Converted  TotalVisits  Total Time Spent on Website  \\\n",
       "count    9240.000000  9240.000000  9103.000000                  9240.000000   \n",
       "mean   617188.435606     0.385390     3.445238                   487.698268   \n",
       "std     23405.995698     0.486714     4.854853                   548.021466   \n",
       "min    579533.000000     0.000000     0.000000                     0.000000   \n",
       "25%    596484.500000     0.000000     1.000000                    12.000000   \n",
       "50%    615479.000000     0.000000     3.000000                   248.000000   \n",
       "75%    637387.250000     1.000000     5.000000                   936.000000   \n",
       "max    660737.000000     1.000000   251.000000                  2272.000000   \n",
       "\n",
       "       Page Views Per Visit  Asymmetrique Activity Score  \\\n",
       "count           9103.000000                  5022.000000   \n",
       "mean               2.362820                    14.306252   \n",
       "std                2.161418                     1.386694   \n",
       "min                0.000000                     7.000000   \n",
       "25%                1.000000                    14.000000   \n",
       "50%                2.000000                    14.000000   \n",
       "75%                3.000000                    15.000000   \n",
       "max               55.000000                    18.000000   \n",
       "\n",
       "       Asymmetrique Profile Score  \n",
       "count                 5022.000000  \n",
       "mean                    16.344883  \n",
       "std                      1.811395  \n",
       "min                     11.000000  \n",
       "25%                     15.000000  \n",
       "50%                     16.000000  \n",
       "75%                     18.000000  \n",
       "max                     20.000000  "
      ]
     },
     "execution_count": 5,
     "metadata": {},
     "output_type": "execute_result"
    }
   ],
   "source": [
    "#Obtaining statistical information on the numerical data\n",
    "leads.describe()"
   ]
  },
  {
   "cell_type": "markdown",
   "id": "c4ba800a",
   "metadata": {},
   "source": [
    "#### It can be seen that some columns have null values and there are also outliers in the numerical columns which have to be treated."
   ]
  },
  {
   "cell_type": "markdown",
   "id": "5d5f1e1d",
   "metadata": {},
   "source": [
    "# DATA CLEANING"
   ]
  },
  {
   "cell_type": "code",
   "execution_count": 6,
   "id": "6028cd8a",
   "metadata": {},
   "outputs": [
    {
     "data": {
      "text/plain": [
       "Lead Quality                                     51.59\n",
       "Asymmetrique Activity Index                      45.65\n",
       "Asymmetrique Profile Score                       45.65\n",
       "Asymmetrique Activity Score                      45.65\n",
       "Asymmetrique Profile Index                       45.65\n",
       "Tags                                             36.29\n",
       "Lead Profile                                     29.32\n",
       "What matters most to you in choosing a course    29.32\n",
       "What is your current occupation                  29.11\n",
       "Country                                          26.63\n",
       "How did you hear about X Education               23.89\n",
       "Specialization                                   15.56\n",
       "City                                             15.37\n",
       "Page Views Per Visit                              1.48\n",
       "TotalVisits                                       1.48\n",
       "Last Activity                                     1.11\n",
       "Lead Source                                       0.39\n",
       "Receive More Updates About Our Courses            0.00\n",
       "I agree to pay the amount through cheque          0.00\n",
       "Get updates on DM Content                         0.00\n",
       "Update me on Supply Chain Content                 0.00\n",
       "A free copy of Mastering The Interview            0.00\n",
       "Prospect ID                                       0.00\n",
       "Newspaper Article                                 0.00\n",
       "Through Recommendations                           0.00\n",
       "Digital Advertisement                             0.00\n",
       "Newspaper                                         0.00\n",
       "X Education Forums                                0.00\n",
       "Lead Number                                       0.00\n",
       "Magazine                                          0.00\n",
       "Search                                            0.00\n",
       "Total Time Spent on Website                       0.00\n",
       "Converted                                         0.00\n",
       "Do Not Call                                       0.00\n",
       "Do Not Email                                      0.00\n",
       "Lead Origin                                       0.00\n",
       "Last Notable Activity                             0.00\n",
       "dtype: float64"
      ]
     },
     "execution_count": 6,
     "metadata": {},
     "output_type": "execute_result"
    }
   ],
   "source": [
    "#Checking the percentage of null values\n",
    "round(100*(leads.isnull().sum()/len(leads)),2).sort_values(ascending = False)"
   ]
  },
  {
   "cell_type": "markdown",
   "id": "3bc4ab7b",
   "metadata": {},
   "source": [
    "#### We can see that there are some columns which have a high percentage of null values greater than 45%.Imputing such a large amount of null values would interfere with the originality of the data.Hence it is better to drop these columns."
   ]
  },
  {
   "cell_type": "code",
   "execution_count": 7,
   "id": "1e182ceb",
   "metadata": {},
   "outputs": [],
   "source": [
    "#Dropping all columns having null values greater than 45%\n",
    "for col in leads.columns:\n",
    "    if (leads[col].isnull().sum()/len(leads)) > 0.45:\n",
    "        leads.drop(col,inplace=True,axis=1)"
   ]
  },
  {
   "cell_type": "code",
   "execution_count": 8,
   "id": "8ce1f1d5",
   "metadata": {},
   "outputs": [
    {
     "data": {
      "text/plain": [
       "Tags                                             36.29\n",
       "Lead Profile                                     29.32\n",
       "What matters most to you in choosing a course    29.32\n",
       "What is your current occupation                  29.11\n",
       "Country                                          26.63\n",
       "How did you hear about X Education               23.89\n",
       "Specialization                                   15.56\n",
       "City                                             15.37\n",
       "TotalVisits                                       1.48\n",
       "Page Views Per Visit                              1.48\n",
       "Last Activity                                     1.11\n",
       "Lead Source                                       0.39\n",
       "Receive More Updates About Our Courses            0.00\n",
       "Update me on Supply Chain Content                 0.00\n",
       "Prospect ID                                       0.00\n",
       "Digital Advertisement                             0.00\n",
       "Get updates on DM Content                         0.00\n",
       "I agree to pay the amount through cheque          0.00\n",
       "A free copy of Mastering The Interview            0.00\n",
       "Through Recommendations                           0.00\n",
       "Search                                            0.00\n",
       "Newspaper                                         0.00\n",
       "X Education Forums                                0.00\n",
       "Newspaper Article                                 0.00\n",
       "Magazine                                          0.00\n",
       "Lead Number                                       0.00\n",
       "Total Time Spent on Website                       0.00\n",
       "Converted                                         0.00\n",
       "Do Not Call                                       0.00\n",
       "Do Not Email                                      0.00\n",
       "Lead Origin                                       0.00\n",
       "Last Notable Activity                             0.00\n",
       "dtype: float64"
      ]
     },
     "execution_count": 8,
     "metadata": {},
     "output_type": "execute_result"
    }
   ],
   "source": [
    "#Checking the remaining percentage of null values\n",
    "round(100*(leads.isnull().sum()/len(leads)),2).sort_values(ascending=False)"
   ]
  },
  {
   "cell_type": "markdown",
   "id": "8efa9977",
   "metadata": {},
   "source": [
    "### The remaining columns having null values can be imputed with suitable values or dropped if not necessary.We proceed with the analysis by checking each column."
   ]
  },
  {
   "cell_type": "markdown",
   "id": "ee84697b",
   "metadata": {},
   "source": [
    "### Tags"
   ]
  },
  {
   "cell_type": "code",
   "execution_count": 9,
   "id": "767a52a5",
   "metadata": {},
   "outputs": [
    {
     "data": {
      "text/plain": [
       "NaN                                                  3353\n",
       "Will revert after reading the email                  2072\n",
       "Ringing                                              1203\n",
       "Interested in other courses                           513\n",
       "Already a student                                     465\n",
       "Closed by Horizzon                                    358\n",
       "switched off                                          240\n",
       "Busy                                                  186\n",
       "Lost to EINS                                          175\n",
       "Not doing further education                           145\n",
       "Interested  in full time MBA                          117\n",
       "Graduation in progress                                111\n",
       "invalid number                                         83\n",
       "Diploma holder (Not Eligible)                          63\n",
       "wrong number given                                     47\n",
       "opp hangup                                             33\n",
       "number not provided                                    27\n",
       "in touch with EINS                                     12\n",
       "Lost to Others                                          7\n",
       "Still Thinking                                          6\n",
       "Want to take admission but has financial problems       6\n",
       "Interested in Next batch                                5\n",
       "In confusion whether part time or DLP                   5\n",
       "Lateral student                                         3\n",
       "Shall take in the next coming month                     2\n",
       "University not recognized                               2\n",
       "Recognition issue (DEC approval)                        1\n",
       "Name: Tags, dtype: int64"
      ]
     },
     "execution_count": 9,
     "metadata": {},
     "output_type": "execute_result"
    }
   ],
   "source": [
    "#Checking the values in the Tags column\n",
    "leads[\"Tags\"].value_counts(dropna=False)"
   ]
  },
  {
   "cell_type": "markdown",
   "id": "118b7619",
   "metadata": {},
   "source": [
    "#### We can see that there are some values which come under the same category.\"Ringing\",\"switched off\",\"Busy\",\"invalid number\",\"wrong number given\",\"opp hangup\",\"number not provided\" all indicate that the customer was not able to be reached through phone.Hence all these can be categorized as \"Not Reachable\".\"Closed by Horizzon\",\"Lost to EINS\",\"in touch with EINS\",\"Lost to Others\" can be grouped under lost to others.\"Diploma holder (Not Eligible)\",\"University not recognized\",\"Recognition issue (DEC approval)\" as Not Eligible,\"Still Thinking\",\"Want to take admission but has financial problems\",\"In confusion whether part time or DLP\" as Undecided and \"Interested in Next batch\",\"Shall take in the next coming month\" as \"Next batch\".The null values can be imputed as \"Not specified\""
   ]
  },
  {
   "cell_type": "code",
   "execution_count": 10,
   "id": "e8fb8ccd",
   "metadata": {},
   "outputs": [],
   "source": [
    "#Groupng similar values and imputing null values  \n",
    "leads.Tags = leads.Tags.replace([\"Ringing\",\"switched off\",\"Busy\",\"invalid number\",\"wrong number given\",\"opp hangup\",\"number not provided\"],\"Not Reachable\")\n",
    "leads.Tags = leads.Tags.replace([\"Closed by Horizzon\",\"Lost to EINS\",\"in touch with EINS\",\"Lost to Others\"],\"Lost to others\")\n",
    "leads.Tags = leads.Tags.replace([\"Diploma holder (Not Eligible)\",\"University not recognized\",\"Recognition issue (DEC approval)\"],\"Not Eligible\")\n",
    "leads.Tags = leads.Tags.replace([\"Still Thinking\",\"Want to take admission but has financial problems\",\"In confusion whether part time or DLP\"],\"Undecided\")\n",
    "leads.Tags = leads.Tags.replace([\"Interested in Next batch\",\"Shall take in the next coming month\"],\"Next_batch\")\n",
    "leads.Tags.fillna(\"Not Specified\",inplace=True)\n"
   ]
  },
  {
   "cell_type": "code",
   "execution_count": 11,
   "id": "f5deaa7e",
   "metadata": {},
   "outputs": [
    {
     "data": {
      "text/plain": [
       "Not Specified                          3353\n",
       "Will revert after reading the email    2072\n",
       "Not Reachable                          1819\n",
       "Lost to others                          552\n",
       "Interested in other courses             513\n",
       "Already a student                       465\n",
       "Not doing further education             145\n",
       "Interested  in full time MBA            117\n",
       "Graduation in progress                  111\n",
       "Not Eligible                             66\n",
       "Undecided                                17\n",
       "Next_batch                                7\n",
       "Lateral student                           3\n",
       "Name: Tags, dtype: int64"
      ]
     },
     "execution_count": 11,
     "metadata": {},
     "output_type": "execute_result"
    }
   ],
   "source": [
    "#Checking Tags column\n",
    "leads.Tags.value_counts()"
   ]
  },
  {
   "cell_type": "markdown",
   "id": "a4f19848",
   "metadata": {},
   "source": [
    "### City"
   ]
  },
  {
   "cell_type": "code",
   "execution_count": 12,
   "id": "a15fa07e",
   "metadata": {},
   "outputs": [
    {
     "data": {
      "text/plain": [
       "Mumbai                         3222\n",
       "Select                         2249\n",
       "NaN                            1420\n",
       "Thane & Outskirts               752\n",
       "Other Cities                    686\n",
       "Other Cities of Maharashtra     457\n",
       "Other Metro Cities              380\n",
       "Tier II Cities                   74\n",
       "Name: City, dtype: int64"
      ]
     },
     "execution_count": 12,
     "metadata": {},
     "output_type": "execute_result"
    }
   ],
   "source": [
    "#Checking the city column\n",
    "leads.City.value_counts(dropna=False)"
   ]
  },
  {
   "cell_type": "markdown",
   "id": "cc382aa5",
   "metadata": {},
   "source": [
    "#### We can see that about 34.8% of the leads belong to Mumbai and about 39.71% are indicated as \"Select\" which means no value was entered by the customer.Both of these constitute a major chunk of the values in the column indicating that the data is highly skewed.Hence this column can be dropped."
   ]
  },
  {
   "cell_type": "code",
   "execution_count": 13,
   "id": "41d630a3",
   "metadata": {},
   "outputs": [],
   "source": [
    "#Dropping City column\n",
    "leads.drop(\"City\",inplace = True,axis=1)"
   ]
  },
  {
   "cell_type": "markdown",
   "id": "b6f6fad3",
   "metadata": {},
   "source": [
    "### Lead Profile"
   ]
  },
  {
   "cell_type": "code",
   "execution_count": 14,
   "id": "c58e752e",
   "metadata": {},
   "outputs": [
    {
     "data": {
      "text/plain": [
       "Select                         4146\n",
       "NaN                            2709\n",
       "Potential Lead                 1613\n",
       "Other Leads                     487\n",
       "Student of SomeSchool           241\n",
       "Lateral Student                  24\n",
       "Dual Specialization Student      20\n",
       "Name: Lead Profile, dtype: int64"
      ]
     },
     "execution_count": 14,
     "metadata": {},
     "output_type": "execute_result"
    }
   ],
   "source": [
    "#Checking leads profile column\n",
    "leads[\"Lead Profile\"].value_counts(dropna=False)"
   ]
  },
  {
   "cell_type": "markdown",
   "id": "6424a635",
   "metadata": {},
   "source": [
    "#### We can see that there are a lot of values indicated as Select which are actually null values.Hence they can be replaced as null values."
   ]
  },
  {
   "cell_type": "code",
   "execution_count": 15,
   "id": "e3afb46b",
   "metadata": {},
   "outputs": [],
   "source": [
    "#Replacing Select values as Null values\n",
    "leads[\"Lead Profile\"].replace(\"Select\",np.NaN,inplace=True)"
   ]
  },
  {
   "cell_type": "markdown",
   "id": "deae6e00",
   "metadata": {},
   "source": [
    "### What matters most to you in choosing a course"
   ]
  },
  {
   "cell_type": "code",
   "execution_count": 16,
   "id": "8cb42292",
   "metadata": {},
   "outputs": [
    {
     "data": {
      "text/plain": [
       "Better Career Prospects      6528\n",
       "NaN                          2709\n",
       "Flexibility & Convenience       2\n",
       "Other                           1\n",
       "Name: What matters most to you in choosing a course, dtype: int64"
      ]
     },
     "execution_count": 16,
     "metadata": {},
     "output_type": "execute_result"
    }
   ],
   "source": [
    "#Checking \"What matters most to you in choosing a course\" column\n",
    "leads[\"What matters most to you in choosing a course\"].value_counts(dropna=False)"
   ]
  },
  {
   "cell_type": "markdown",
   "id": "fff306a0",
   "metadata": {},
   "source": [
    "#### We can see that this column is skewed towards Better Career Prospects and hence can be dropped"
   ]
  },
  {
   "cell_type": "code",
   "execution_count": 17,
   "id": "023c1100",
   "metadata": {},
   "outputs": [],
   "source": [
    "#Dropping the column\n",
    "leads.drop(\"What matters most to you in choosing a course\",inplace=True,axis=1)"
   ]
  },
  {
   "cell_type": "markdown",
   "id": "b8a9d9b2",
   "metadata": {},
   "source": [
    "### Occupation"
   ]
  },
  {
   "cell_type": "code",
   "execution_count": 18,
   "id": "5c887758",
   "metadata": {},
   "outputs": [
    {
     "data": {
      "text/plain": [
       "Unemployed              5600\n",
       "NaN                     2690\n",
       "Working Professional     706\n",
       "Student                  210\n",
       "Other                     16\n",
       "Housewife                 10\n",
       "Businessman                8\n",
       "Name: What is your current occupation, dtype: int64"
      ]
     },
     "execution_count": 18,
     "metadata": {},
     "output_type": "execute_result"
    }
   ],
   "source": [
    "#Checking the Occupation column\n",
    "leads[\"What is your current occupation\"].value_counts(dropna=False)"
   ]
  },
  {
   "cell_type": "code",
   "execution_count": 19,
   "id": "1a38ab61",
   "metadata": {},
   "outputs": [],
   "source": [
    "#Imputing null values with \"Other\"\n",
    "leads[\"What is your current occupation\"].fillna(\"Others\",inplace=True)"
   ]
  },
  {
   "cell_type": "code",
   "execution_count": 20,
   "id": "822ac04f",
   "metadata": {},
   "outputs": [],
   "source": [
    "#Replacing \"Other\" with \"Others\"\n",
    "leads[\"What is your current occupation\"]=leads[\"What is your current occupation\"].replace(\"Other\",\"Others\")"
   ]
  },
  {
   "cell_type": "code",
   "execution_count": 21,
   "id": "f25cacfc",
   "metadata": {},
   "outputs": [
    {
     "data": {
      "text/plain": [
       "Unemployed              5600\n",
       "Others                  2706\n",
       "Working Professional     706\n",
       "Student                  210\n",
       "Housewife                 10\n",
       "Businessman                8\n",
       "Name: What is your current occupation, dtype: int64"
      ]
     },
     "execution_count": 21,
     "metadata": {},
     "output_type": "execute_result"
    }
   ],
   "source": [
    "#Checking the column\n",
    "leads[\"What is your current occupation\"].value_counts(dropna=False)"
   ]
  },
  {
   "cell_type": "markdown",
   "id": "d871e846",
   "metadata": {},
   "source": [
    "### Country"
   ]
  },
  {
   "cell_type": "code",
   "execution_count": 22,
   "id": "3d9fd0d8",
   "metadata": {},
   "outputs": [
    {
     "data": {
      "text/plain": [
       "India                   6492\n",
       "NaN                     2461\n",
       "United States             69\n",
       "United Arab Emirates      53\n",
       "Singapore                 24\n",
       "Saudi Arabia              21\n",
       "United Kingdom            15\n",
       "Australia                 13\n",
       "Qatar                     10\n",
       "Bahrain                    7\n",
       "Hong Kong                  7\n",
       "Oman                       6\n",
       "France                     6\n",
       "unknown                    5\n",
       "South Africa               4\n",
       "Germany                    4\n",
       "Canada                     4\n",
       "Kuwait                     4\n",
       "Nigeria                    4\n",
       "Sweden                     3\n",
       "Belgium                    2\n",
       "Italy                      2\n",
       "Netherlands                2\n",
       "Philippines                2\n",
       "Asia/Pacific Region        2\n",
       "Bangladesh                 2\n",
       "China                      2\n",
       "Ghana                      2\n",
       "Uganda                     2\n",
       "Malaysia                   1\n",
       "Denmark                    1\n",
       "Switzerland                1\n",
       "Indonesia                  1\n",
       "Russia                     1\n",
       "Tanzania                   1\n",
       "Liberia                    1\n",
       "Sri Lanka                  1\n",
       "Vietnam                    1\n",
       "Kenya                      1\n",
       "Name: Country, dtype: int64"
      ]
     },
     "execution_count": 22,
     "metadata": {},
     "output_type": "execute_result"
    }
   ],
   "source": [
    "#Checking the \"Country\" column\n",
    "leads[\"Country\"].value_counts(dropna=False)"
   ]
  },
  {
   "cell_type": "markdown",
   "id": "bebca2c0",
   "metadata": {},
   "source": [
    "#### It can be observed that more than 50% of the students belong to India and the remaining are distributed among countries outside India.Hence these countries can be grouped under a category called \"Other Countries\" for better analysis and visualisation.As the most common country present is \"India\" we can impute the null values also with \"India\"."
   ]
  },
  {
   "cell_type": "code",
   "execution_count": 23,
   "id": "c04e69c4",
   "metadata": {},
   "outputs": [],
   "source": [
    "#Grouping countries outside India as \"Other Countries\"\n",
    "leads['Country'] = leads['Country'].apply(lambda x: 'India' if x=='India' else 'Other Countries')\n",
    "leads['Country'].fillna(\"India\",inplace=True)"
   ]
  },
  {
   "cell_type": "code",
   "execution_count": 24,
   "id": "57d85602",
   "metadata": {},
   "outputs": [
    {
     "data": {
      "text/plain": [
       "India              6492\n",
       "Other Countries    2748\n",
       "Name: Country, dtype: int64"
      ]
     },
     "execution_count": 24,
     "metadata": {},
     "output_type": "execute_result"
    }
   ],
   "source": [
    "#Checking the country column\n",
    "leads['Country'].value_counts(dropna=False)"
   ]
  },
  {
   "cell_type": "markdown",
   "id": "c3e1661f",
   "metadata": {},
   "source": [
    "### \"How did you hear about X Education\""
   ]
  },
  {
   "cell_type": "code",
   "execution_count": 25,
   "id": "bafce88b",
   "metadata": {},
   "outputs": [
    {
     "data": {
      "text/plain": [
       "Select                   5043\n",
       "NaN                      2207\n",
       "Online Search             808\n",
       "Word Of Mouth             348\n",
       "Student of SomeSchool     310\n",
       "Other                     186\n",
       "Multiple Sources          152\n",
       "Advertisements             70\n",
       "Social Media               67\n",
       "Email                      26\n",
       "SMS                        23\n",
       "Name: How did you hear about X Education, dtype: int64"
      ]
     },
     "execution_count": 25,
     "metadata": {},
     "output_type": "execute_result"
    }
   ],
   "source": [
    "#Checking \"How did you hear about X Education\" column\n",
    "leads[\"How did you hear about X Education\"].value_counts(dropna=False)"
   ]
  },
  {
   "cell_type": "markdown",
   "id": "6766b41a",
   "metadata": {},
   "source": [
    "#### The values represented as \"Select\" can be replaced with null values."
   ]
  },
  {
   "cell_type": "code",
   "execution_count": 26,
   "id": "9b6dc1a7",
   "metadata": {},
   "outputs": [],
   "source": [
    "#Replacing Select values with Null values\n",
    "leads[\"How did you hear about X Education\"].replace(\"Select\",np.NaN,inplace=True)"
   ]
  },
  {
   "cell_type": "markdown",
   "id": "60345043",
   "metadata": {},
   "source": [
    "### Specialization"
   ]
  },
  {
   "cell_type": "code",
   "execution_count": 27,
   "id": "4b507861",
   "metadata": {
    "scrolled": true
   },
   "outputs": [
    {
     "data": {
      "text/plain": [
       "Select                               1942\n",
       "NaN                                  1438\n",
       "Finance Management                    976\n",
       "Human Resource Management             848\n",
       "Marketing Management                  838\n",
       "Operations Management                 503\n",
       "Business Administration               403\n",
       "IT Projects Management                366\n",
       "Supply Chain Management               349\n",
       "Banking, Investment And Insurance     338\n",
       "Travel and Tourism                    203\n",
       "Media and Advertising                 203\n",
       "International Business                178\n",
       "Healthcare Management                 159\n",
       "Hospitality Management                114\n",
       "E-COMMERCE                            112\n",
       "Retail Management                     100\n",
       "Rural and Agribusiness                 73\n",
       "E-Business                             57\n",
       "Services Excellence                    40\n",
       "Name: Specialization, dtype: int64"
      ]
     },
     "execution_count": 27,
     "metadata": {},
     "output_type": "execute_result"
    }
   ],
   "source": [
    "#Checking the column \"Specialization\"\n",
    "leads.Specialization.value_counts(dropna=False)"
   ]
  },
  {
   "cell_type": "markdown",
   "id": "12ce5eb0",
   "metadata": {},
   "source": [
    "#### There are a lot of specialisations belonging to management which can be merged.The null values in this column can be imputed with \"Unknown\" ."
   ]
  },
  {
   "cell_type": "code",
   "execution_count": 28,
   "id": "8508f85c",
   "metadata": {},
   "outputs": [],
   "source": [
    "#Replacing null values with \"Unknown\" and merging all management specializations as MBA specializations.\n",
    "leads.Specialization.fillna(\"Unknown\",inplace=True)\n",
    "leads.Specialization = leads.Specialization.replace([\"Finance Management\",\"Human Resource Management\",\"Marketing Management\",\"Operations Management\",\"IT Projects Management\",\"Supply Chain Management\",\"Healthcare Management\",\"Hospitality Management\",\"Retail Management\",\"Business Administration\"],\"MBA Specializations\")"
   ]
  },
  {
   "cell_type": "code",
   "execution_count": 29,
   "id": "370495a3",
   "metadata": {},
   "outputs": [],
   "source": [
    "leads[\"Specialization\"].replace(\"Select\",np.NaN,inplace=True)\n",
    "leads.Specialization.fillna(\"Unknown\",inplace=True)"
   ]
  },
  {
   "cell_type": "code",
   "execution_count": 30,
   "id": "7ec32ece",
   "metadata": {},
   "outputs": [
    {
     "data": {
      "text/plain": [
       "MBA Specializations                  4656\n",
       "Unknown                              3380\n",
       "Banking, Investment And Insurance     338\n",
       "Travel and Tourism                    203\n",
       "Media and Advertising                 203\n",
       "International Business                178\n",
       "E-COMMERCE                            112\n",
       "Rural and Agribusiness                 73\n",
       "E-Business                             57\n",
       "Services Excellence                    40\n",
       "Name: Specialization, dtype: int64"
      ]
     },
     "execution_count": 30,
     "metadata": {},
     "output_type": "execute_result"
    }
   ],
   "source": [
    "leads.Specialization.value_counts()"
   ]
  },
  {
   "cell_type": "markdown",
   "id": "8edd44b0",
   "metadata": {},
   "source": [
    "### Total Visits"
   ]
  },
  {
   "cell_type": "code",
   "execution_count": 31,
   "id": "4bd8c38f",
   "metadata": {},
   "outputs": [
    {
     "data": {
      "text/plain": [
       "0.0      2189\n",
       "2.0      1680\n",
       "3.0      1306\n",
       "4.0      1120\n",
       "5.0       783\n",
       "6.0       466\n",
       "1.0       395\n",
       "7.0       309\n",
       "8.0       224\n",
       "9.0       164\n",
       "NaN       137\n",
       "10.0      114\n",
       "11.0       86\n",
       "13.0       48\n",
       "12.0       45\n",
       "14.0       36\n",
       "16.0       21\n",
       "15.0       18\n",
       "17.0       16\n",
       "18.0       15\n",
       "20.0       12\n",
       "19.0        9\n",
       "23.0        6\n",
       "21.0        6\n",
       "24.0        5\n",
       "27.0        5\n",
       "25.0        5\n",
       "22.0        3\n",
       "28.0        2\n",
       "29.0        2\n",
       "26.0        2\n",
       "141.0       1\n",
       "41.0        1\n",
       "55.0        1\n",
       "115.0       1\n",
       "32.0        1\n",
       "54.0        1\n",
       "42.0        1\n",
       "251.0       1\n",
       "74.0        1\n",
       "43.0        1\n",
       "30.0        1\n",
       "Name: TotalVisits, dtype: int64"
      ]
     },
     "execution_count": 31,
     "metadata": {},
     "output_type": "execute_result"
    }
   ],
   "source": [
    "#Checking the \"Total Visits\" column\n",
    "leads[\"TotalVisits\"].value_counts(dropna=False)"
   ]
  },
  {
   "cell_type": "markdown",
   "id": "510ac8e0",
   "metadata": {},
   "source": [
    "#### The null values in this column indicate that the customers have not visited the website and can be imputed with 0.0"
   ]
  },
  {
   "cell_type": "code",
   "execution_count": 32,
   "id": "a95500cf",
   "metadata": {},
   "outputs": [],
   "source": [
    "#Imputing null values with 0.0\n",
    "leads[\"TotalVisits\"].fillna(\"0.0\",inplace=True)"
   ]
  },
  {
   "cell_type": "markdown",
   "id": "689b092a",
   "metadata": {},
   "source": [
    "### Page Views Per Visit"
   ]
  },
  {
   "cell_type": "code",
   "execution_count": 33,
   "id": "c3742317",
   "metadata": {},
   "outputs": [
    {
     "data": {
      "text/plain": [
       "0.00     2189\n",
       "2.00     1795\n",
       "3.00     1196\n",
       "4.00      896\n",
       "1.00      651\n",
       "         ... \n",
       "3.57        1\n",
       "1.93        1\n",
       "2.57        1\n",
       "12.33       1\n",
       "2.86        1\n",
       "Name: Page Views Per Visit, Length: 115, dtype: int64"
      ]
     },
     "execution_count": 33,
     "metadata": {},
     "output_type": "execute_result"
    }
   ],
   "source": [
    "#Checking the page views per visit column\n",
    "leads[\"Page Views Per Visit\"].value_counts(dropna=False)"
   ]
  },
  {
   "cell_type": "markdown",
   "id": "567cf7b0",
   "metadata": {},
   "source": [
    "#### The null values in the column indicate that the customer has not visited any page on the website and hence can be imputed with 0.00"
   ]
  },
  {
   "cell_type": "code",
   "execution_count": 34,
   "id": "1e7deab6",
   "metadata": {},
   "outputs": [],
   "source": [
    "#Imputing null values with 0.00\n",
    "leads[\"Page Views Per Visit\"].fillna(\"0.00\",inplace=True)"
   ]
  },
  {
   "cell_type": "markdown",
   "id": "f0ac0f09",
   "metadata": {},
   "source": [
    "### Last Activity"
   ]
  },
  {
   "cell_type": "code",
   "execution_count": 35,
   "id": "6ebd257b",
   "metadata": {},
   "outputs": [
    {
     "data": {
      "text/plain": [
       "Email Opened                    3437\n",
       "SMS Sent                        2745\n",
       "Olark Chat Conversation          973\n",
       "Page Visited on Website          640\n",
       "Converted to Lead                428\n",
       "Email Bounced                    326\n",
       "Email Link Clicked               267\n",
       "Form Submitted on Website        116\n",
       "NaN                              103\n",
       "Unreachable                       93\n",
       "Unsubscribed                      61\n",
       "Had a Phone Conversation          30\n",
       "Approached upfront                 9\n",
       "View in browser link Clicked       6\n",
       "Email Received                     2\n",
       "Email Marked Spam                  2\n",
       "Resubscribed to emails             1\n",
       "Visited Booth in Tradeshow         1\n",
       "Name: Last Activity, dtype: int64"
      ]
     },
     "execution_count": 35,
     "metadata": {},
     "output_type": "execute_result"
    }
   ],
   "source": [
    "#Checking the Last Activity column\n",
    "leads[\"Last Activity\"].value_counts(dropna=False)"
   ]
  },
  {
   "cell_type": "markdown",
   "id": "3c203eee",
   "metadata": {},
   "source": [
    "#### The null values in the column indicate that there was no activity done by the customer and hence can be imputed with \"None\""
   ]
  },
  {
   "cell_type": "code",
   "execution_count": 36,
   "id": "1ef46528",
   "metadata": {},
   "outputs": [],
   "source": [
    "#Imputing null values with \"None\"\n",
    "leads[\"Last Activity\"].fillna(\"None\",inplace=True)"
   ]
  },
  {
   "cell_type": "markdown",
   "id": "8dc25a41",
   "metadata": {},
   "source": [
    "### Lead Source"
   ]
  },
  {
   "cell_type": "code",
   "execution_count": 37,
   "id": "4ed470f8",
   "metadata": {},
   "outputs": [
    {
     "data": {
      "text/plain": [
       "Google               2868\n",
       "Direct Traffic       2543\n",
       "Olark Chat           1755\n",
       "Organic Search       1154\n",
       "Reference             534\n",
       "Welingak Website      142\n",
       "Referral Sites        125\n",
       "Facebook               55\n",
       "NaN                    36\n",
       "bing                    6\n",
       "google                  5\n",
       "Click2call              4\n",
       "Social Media            2\n",
       "Live Chat               2\n",
       "Press_Release           2\n",
       "youtubechannel          1\n",
       "Pay per Click Ads       1\n",
       "welearnblog_Home        1\n",
       "testone                 1\n",
       "blog                    1\n",
       "WeLearn                 1\n",
       "NC_EDM                  1\n",
       "Name: Lead Source, dtype: int64"
      ]
     },
     "execution_count": 37,
     "metadata": {},
     "output_type": "execute_result"
    }
   ],
   "source": [
    "#Checking the lead source column\n",
    "leads[\"Lead Source\"].value_counts(dropna=False)"
   ]
  },
  {
   "cell_type": "markdown",
   "id": "7199b0cb",
   "metadata": {},
   "source": [
    "#### In this column some values like \"google\" and \"WeLearn\" are repeated and therefore they can be merged into one category.The null values in this column can be imputed with the most common value which is \"Google\""
   ]
  },
  {
   "cell_type": "code",
   "execution_count": 38,
   "id": "dc88ec64",
   "metadata": {},
   "outputs": [],
   "source": [
    "#Merging repeated values and imputing null values with Google\n",
    "leads[\"Lead Source\"]=leads[\"Lead Source\"].replace([\"Google\",\"google\"],\"Google\")\n",
    "leads[\"Lead Source\"]=leads[\"Lead Source\"].replace([\"WeLearn\",\"welearnblog_Home\"],\"WeLearn\")\n",
    "leads[\"Lead Source\"].fillna(\"Google\",inplace=True)"
   ]
  },
  {
   "cell_type": "code",
   "execution_count": 39,
   "id": "d07a7261",
   "metadata": {},
   "outputs": [
    {
     "data": {
      "text/plain": [
       "Google               2909\n",
       "Direct Traffic       2543\n",
       "Olark Chat           1755\n",
       "Organic Search       1154\n",
       "Reference             534\n",
       "Welingak Website      142\n",
       "Referral Sites        125\n",
       "Facebook               55\n",
       "bing                    6\n",
       "Click2call              4\n",
       "Live Chat               2\n",
       "Social Media            2\n",
       "Press_Release           2\n",
       "WeLearn                 2\n",
       "Pay per Click Ads       1\n",
       "youtubechannel          1\n",
       "testone                 1\n",
       "NC_EDM                  1\n",
       "blog                    1\n",
       "Name: Lead Source, dtype: int64"
      ]
     },
     "execution_count": 39,
     "metadata": {},
     "output_type": "execute_result"
    }
   ],
   "source": [
    "#Checking the column again\n",
    "leads[\"Lead Source\"].value_counts(dropna=False)"
   ]
  },
  {
   "cell_type": "markdown",
   "id": "94f016df",
   "metadata": {},
   "source": [
    "### Prospect ID\n",
    "#### In the dataset there are two columns Lead Number and Prospect ID which serve as IDs for the customers.Hence the column Prospect ID can be dropped as it is redundant.Lead Number can be used to identify the customers"
   ]
  },
  {
   "cell_type": "code",
   "execution_count": 40,
   "id": "523fe183",
   "metadata": {},
   "outputs": [],
   "source": [
    "#Dropping Prospect ID column\n",
    "leads.drop(\"Prospect ID\",inplace=True,axis=1)"
   ]
  },
  {
   "cell_type": "code",
   "execution_count": 41,
   "id": "c00b5f87",
   "metadata": {},
   "outputs": [
    {
     "data": {
      "text/plain": [
       "How did you hear about X Education          78.46\n",
       "Lead Profile                                74.19\n",
       "Lead Number                                  0.00\n",
       "Magazine                                     0.00\n",
       "A free copy of Mastering The Interview       0.00\n",
       "I agree to pay the amount through cheque     0.00\n",
       "Get updates on DM Content                    0.00\n",
       "Update me on Supply Chain Content            0.00\n",
       "Tags                                         0.00\n",
       "Receive More Updates About Our Courses       0.00\n",
       "Through Recommendations                      0.00\n",
       "Digital Advertisement                        0.00\n",
       "Newspaper                                    0.00\n",
       "X Education Forums                           0.00\n",
       "Newspaper Article                            0.00\n",
       "Search                                       0.00\n",
       "Lead Origin                                  0.00\n",
       "What is your current occupation              0.00\n",
       "Specialization                               0.00\n",
       "Country                                      0.00\n",
       "Last Activity                                0.00\n",
       "Page Views Per Visit                         0.00\n",
       "Total Time Spent on Website                  0.00\n",
       "TotalVisits                                  0.00\n",
       "Converted                                    0.00\n",
       "Do Not Call                                  0.00\n",
       "Do Not Email                                 0.00\n",
       "Lead Source                                  0.00\n",
       "Last Notable Activity                        0.00\n",
       "dtype: float64"
      ]
     },
     "execution_count": 41,
     "metadata": {},
     "output_type": "execute_result"
    }
   ],
   "source": [
    "#Checking percentage of null values\n",
    "round(100*(leads.isnull().sum()/len(leads)),2).sort_values(ascending=False)"
   ]
  },
  {
   "cell_type": "markdown",
   "id": "e2bd3cb4",
   "metadata": {},
   "source": [
    "#### We can see that two columns \"How did you hear about X Education\",\"Lead Profile\" have high percentage of null values and hence can be dropped."
   ]
  },
  {
   "cell_type": "code",
   "execution_count": 42,
   "id": "4a15f37a",
   "metadata": {},
   "outputs": [],
   "source": [
    "#Dropping the two columns\n",
    "leads.drop([\"How did you hear about X Education\",\"Lead Profile\"],inplace=True,axis=1)"
   ]
  },
  {
   "cell_type": "code",
   "execution_count": 43,
   "id": "b217a10c",
   "metadata": {},
   "outputs": [
    {
     "data": {
      "text/plain": [
       "Lead Number                                 0.0\n",
       "Magazine                                    0.0\n",
       "A free copy of Mastering The Interview      0.0\n",
       "I agree to pay the amount through cheque    0.0\n",
       "Get updates on DM Content                   0.0\n",
       "Update me on Supply Chain Content           0.0\n",
       "Tags                                        0.0\n",
       "Receive More Updates About Our Courses      0.0\n",
       "Through Recommendations                     0.0\n",
       "Digital Advertisement                       0.0\n",
       "Newspaper                                   0.0\n",
       "X Education Forums                          0.0\n",
       "Newspaper Article                           0.0\n",
       "Search                                      0.0\n",
       "Lead Origin                                 0.0\n",
       "What is your current occupation             0.0\n",
       "Specialization                              0.0\n",
       "Country                                     0.0\n",
       "Last Activity                               0.0\n",
       "Page Views Per Visit                        0.0\n",
       "Total Time Spent on Website                 0.0\n",
       "TotalVisits                                 0.0\n",
       "Converted                                   0.0\n",
       "Do Not Call                                 0.0\n",
       "Do Not Email                                0.0\n",
       "Lead Source                                 0.0\n",
       "Last Notable Activity                       0.0\n",
       "dtype: float64"
      ]
     },
     "execution_count": 43,
     "metadata": {},
     "output_type": "execute_result"
    }
   ],
   "source": [
    "#hecking the percentage of null values\n",
    "round(100*(leads.isnull().sum()/len(leads)),2).sort_values(ascending=False)"
   ]
  },
  {
   "cell_type": "markdown",
   "id": "8e523244",
   "metadata": {},
   "source": [
    "#### Thus all the null values have been treated and the dataset can be used for further analysis"
   ]
  },
  {
   "cell_type": "markdown",
   "id": "64896d11",
   "metadata": {},
   "source": [
    "### Treating columns having Binary values"
   ]
  },
  {
   "cell_type": "code",
   "execution_count": 44,
   "id": "3fb7fc95",
   "metadata": {},
   "outputs": [
    {
     "name": "stdout",
     "output_type": "stream",
     "text": [
      "Lead Number\n",
      "Unique values:  9240\n",
      "Lead Origin\n",
      "Unique values:  5\n",
      "Lead Source\n",
      "Unique values:  19\n",
      "Do Not Email\n",
      "Unique values:  2\n",
      "Do Not Call\n",
      "Unique values:  2\n",
      "Converted\n",
      "Unique values:  2\n",
      "TotalVisits\n",
      "Unique values:  42\n",
      "Total Time Spent on Website\n",
      "Unique values:  1731\n",
      "Page Views Per Visit\n",
      "Unique values:  115\n",
      "Last Activity\n",
      "Unique values:  18\n",
      "Country\n",
      "Unique values:  2\n",
      "Specialization\n",
      "Unique values:  10\n",
      "What is your current occupation\n",
      "Unique values:  6\n",
      "Search\n",
      "Unique values:  2\n",
      "Magazine\n",
      "Unique values:  1\n",
      "Newspaper Article\n",
      "Unique values:  2\n",
      "X Education Forums\n",
      "Unique values:  2\n",
      "Newspaper\n",
      "Unique values:  2\n",
      "Digital Advertisement\n",
      "Unique values:  2\n",
      "Through Recommendations\n",
      "Unique values:  2\n",
      "Receive More Updates About Our Courses\n",
      "Unique values:  1\n",
      "Tags\n",
      "Unique values:  13\n",
      "Update me on Supply Chain Content\n",
      "Unique values:  1\n",
      "Get updates on DM Content\n",
      "Unique values:  1\n",
      "I agree to pay the amount through cheque\n",
      "Unique values:  1\n",
      "A free copy of Mastering The Interview\n",
      "Unique values:  2\n",
      "Last Notable Activity\n",
      "Unique values:  16\n"
     ]
    }
   ],
   "source": [
    "#Checking for unique values\n",
    "for cols in leads.columns:\n",
    "    print(cols)\n",
    "    print(\"Unique values: \",leads[cols].nunique())"
   ]
  },
  {
   "cell_type": "markdown",
   "id": "8b2811f0",
   "metadata": {},
   "source": [
    "#### We can see that the columns \"Magazine\",\"Receive More Updates About Our Courses\",\"Update me on Supply Chain Content\",\"Get updates on DM Content\" and \"I agree to pay the amount through cheque\" have only one unique value.These columns will not help in the prediction of the target variable as they have no variance in the data. "
   ]
  },
  {
   "cell_type": "code",
   "execution_count": 45,
   "id": "ad1089ed",
   "metadata": {},
   "outputs": [],
   "source": [
    "#Dropping columns with only 1 unique value\n",
    "leads.drop(columns=leads.columns[leads.nunique()==1],inplace=True)"
   ]
  },
  {
   "cell_type": "code",
   "execution_count": 46,
   "id": "6c1251e0",
   "metadata": {},
   "outputs": [
    {
     "name": "stdout",
     "output_type": "stream",
     "text": [
      "<class 'pandas.core.frame.DataFrame'>\n",
      "RangeIndex: 9240 entries, 0 to 9239\n",
      "Data columns (total 22 columns):\n",
      " #   Column                                  Non-Null Count  Dtype \n",
      "---  ------                                  --------------  ----- \n",
      " 0   Lead Number                             9240 non-null   int64 \n",
      " 1   Lead Origin                             9240 non-null   object\n",
      " 2   Lead Source                             9240 non-null   object\n",
      " 3   Do Not Email                            9240 non-null   object\n",
      " 4   Do Not Call                             9240 non-null   object\n",
      " 5   Converted                               9240 non-null   int64 \n",
      " 6   TotalVisits                             9240 non-null   object\n",
      " 7   Total Time Spent on Website             9240 non-null   int64 \n",
      " 8   Page Views Per Visit                    9240 non-null   object\n",
      " 9   Last Activity                           9240 non-null   object\n",
      " 10  Country                                 9240 non-null   object\n",
      " 11  Specialization                          9240 non-null   object\n",
      " 12  What is your current occupation         9240 non-null   object\n",
      " 13  Search                                  9240 non-null   object\n",
      " 14  Newspaper Article                       9240 non-null   object\n",
      " 15  X Education Forums                      9240 non-null   object\n",
      " 16  Newspaper                               9240 non-null   object\n",
      " 17  Digital Advertisement                   9240 non-null   object\n",
      " 18  Through Recommendations                 9240 non-null   object\n",
      " 19  Tags                                    9240 non-null   object\n",
      " 20  A free copy of Mastering The Interview  9240 non-null   object\n",
      " 21  Last Notable Activity                   9240 non-null   object\n",
      "dtypes: int64(3), object(19)\n",
      "memory usage: 1.6+ MB\n"
     ]
    }
   ],
   "source": [
    "leads.info()"
   ]
  },
  {
   "cell_type": "markdown",
   "id": "c5e79fd2",
   "metadata": {},
   "source": [
    "#### The remaining binary columns should be checked to see if they have good variance so that they do not affect the analysis"
   ]
  },
  {
   "cell_type": "code",
   "execution_count": 47,
   "id": "d81e9d25",
   "metadata": {
    "scrolled": false
   },
   "outputs": [
    {
     "data": {
      "image/png": "[encoded data removed]",
      "text/plain": [
       "<Figure size 1224x3600 with 9 Axes>"
      ]
     },
     "metadata": {
      "needs_background": "light"
     },
     "output_type": "display_data"
    }
   ],
   "source": [
    "#Visualising the remaining binary columns\n",
    "binary_columns = [\"Do Not Email\",\"Do Not Call\",\"Search\",\"Newspaper Article\",\"X Education Forums\",\"Newspaper\",\"Digital Advertisement\",\"Through Recommendations\",\"A free copy of Mastering The Interview\"]\n",
    "plt.figure(figsize=(17,50))\n",
    "for col,count in zip(binary_columns,range(len(binary_columns))):\n",
    "                     plt.subplot(10,2,count+1)\n",
    "                     sns.countplot(x=col,data=leads)\n",
    "                     plt.title(col)"
   ]
  },
  {
   "cell_type": "markdown",
   "id": "dcc086d2",
   "metadata": {},
   "source": [
    "#### It can be observed from the above graphs that some of these binary columns show very low variance.These columns do not have any impact on the target variable.Keeping these columns would delay the process of fitting the model and hence they can be dropped."
   ]
  },
  {
   "cell_type": "code",
   "execution_count": 48,
   "id": "d83ab32a",
   "metadata": {},
   "outputs": [],
   "source": [
    "#Dropping columns which show very low variance in the data\n",
    "cols_to_drop = [\"Do Not Email\",\"Do Not Call\",\"Search\",\"Newspaper Article\",\"X Education Forums\",\"Newspaper\",\"Digital Advertisement\",\"Through Recommendations\"]\n",
    "leads.drop(cols_to_drop,inplace=True,axis=1)"
   ]
  },
  {
   "cell_type": "markdown",
   "id": "16866dd7",
   "metadata": {},
   "source": [
    "#### The last notable activity column represents the activity performed by the student which is almost the same as Last Activity.As this column does not give any new information this column can be dropped."
   ]
  },
  {
   "cell_type": "code",
   "execution_count": 49,
   "id": "4c6a320e",
   "metadata": {},
   "outputs": [],
   "source": [
    "#Dropping the last notable acitivity column\n",
    "cols_to_drop =[\"Last Notable Activity\"]\n",
    "leads.drop(cols_to_drop,inplace=True,axis=1)"
   ]
  },
  {
   "cell_type": "code",
   "execution_count": 50,
   "id": "57ffc4f5",
   "metadata": {
    "scrolled": true
   },
   "outputs": [
    {
     "name": "stdout",
     "output_type": "stream",
     "text": [
      "<class 'pandas.core.frame.DataFrame'>\n",
      "RangeIndex: 9240 entries, 0 to 9239\n",
      "Data columns (total 13 columns):\n",
      " #   Column                                  Non-Null Count  Dtype \n",
      "---  ------                                  --------------  ----- \n",
      " 0   Lead Number                             9240 non-null   int64 \n",
      " 1   Lead Origin                             9240 non-null   object\n",
      " 2   Lead Source                             9240 non-null   object\n",
      " 3   Converted                               9240 non-null   int64 \n",
      " 4   TotalVisits                             9240 non-null   object\n",
      " 5   Total Time Spent on Website             9240 non-null   int64 \n",
      " 6   Page Views Per Visit                    9240 non-null   object\n",
      " 7   Last Activity                           9240 non-null   object\n",
      " 8   Country                                 9240 non-null   object\n",
      " 9   Specialization                          9240 non-null   object\n",
      " 10  What is your current occupation         9240 non-null   object\n",
      " 11  Tags                                    9240 non-null   object\n",
      " 12  A free copy of Mastering The Interview  9240 non-null   object\n",
      "dtypes: int64(3), object(10)\n",
      "memory usage: 938.6+ KB\n"
     ]
    }
   ],
   "source": [
    "#Checking the remaining columns\n",
    "leads.info()"
   ]
  },
  {
   "cell_type": "markdown",
   "id": "6e326a2f",
   "metadata": {},
   "source": [
    "## Visualizing categorical data"
   ]
  },
  {
   "cell_type": "code",
   "execution_count": 51,
   "id": "bf36fa2b",
   "metadata": {},
   "outputs": [
    {
     "data": {
      "image/png": "[encoded data removed]",
      "text/plain": [
       "<Figure size 1224x1440 with 3 Axes>"
      ]
     },
     "metadata": {
      "needs_background": "light"
     },
     "output_type": "display_data"
    }
   ],
   "source": [
    "#Visualising the remaining Categorical columns\n",
    "cat_columns = ['Lead Origin','Country','A free copy of Mastering The Interview']\n",
    "plt.figure(figsize=(17,20))\n",
    "sns.set_palette(\"Set2\")\n",
    "sns.plotting_context(font_scale=1.5)\n",
    "for col,count in zip(cat_columns,range(len(cat_columns))):\n",
    "                     plt.subplot(4,2,count+1)\n",
    "                     plt.subplots_adjust(left=None, bottom=None, right=None, top=None, wspace=2.5, hspace=2.5)\n",
    "                     sns.countplot(x=col,hue='Converted',data=leads)\n",
    "                     plt.xlabel(col,fontdict={'fontsize': 14, 'fontweight': \"bold\"})\n",
    "                     plt.title(col)\n",
    "plt.tight_layout()"
   ]
  },
  {
   "cell_type": "markdown",
   "id": "6c0e3c22",
   "metadata": {},
   "source": [
    "#### Leads which originated from “Landing page submission” have high conversion rate but people who are not converted are comparatively high.\n",
    "#### Customers from India show higher conversion rates compared to Other countries."
   ]
  },
  {
   "cell_type": "code",
   "execution_count": 52,
   "id": "236acf4d",
   "metadata": {},
   "outputs": [
    {
     "data": {
      "image/png": "[encoded data removed]",
      "text/plain": [
       "<Figure size 1080x720 with 1 Axes>"
      ]
     },
     "metadata": {
      "needs_background": "light"
     },
     "output_type": "display_data"
    }
   ],
   "source": [
    "plt.figure(figsize=(15,10))\n",
    "s1=sns.countplot(leads['What is your current occupation'], hue=leads.Converted,data=leads)\n",
    "sns.set_palette(\"Set2\")\n",
    "s1.set_xticklabels(s1.get_xticklabels(),rotation=90,fontsize=14)\n",
    "plt.xlabel(\"Occupation\",fontdict={'fontsize': 14, 'fontweight': \"bold\"})\n",
    "plt.ylabel(\"Customer_count\",fontdict={'fontsize': 14, 'fontweight': \"bold\"})\n",
    "plt.title(\"Occupation Vs Customer_count\",fontdict={'fontsize': 14, 'fontweight': \"bold\"})\n",
    "plt.show()"
   ]
  },
  {
   "cell_type": "code",
   "execution_count": 53,
   "id": "0f349d51",
   "metadata": {},
   "outputs": [
    {
     "data": {
      "image/png": "[encoded data removed]",
      "text/plain": [
       "<Figure size 1080x720 with 1 Axes>"
      ]
     },
     "metadata": {
      "needs_background": "light"
     },
     "output_type": "display_data"
    }
   ],
   "source": [
    "plt.figure(figsize=(15,10))\n",
    "s1=sns.countplot(leads['Tags'], hue=leads.Converted,data=leads)\n",
    "sns.set_palette(\"Set2\")\n",
    "s1.set_xticklabels(s1.get_xticklabels(),rotation=90,fontsize=14)\n",
    "plt.xlabel(\"Tags\",fontdict={'fontsize': 14, 'fontweight': \"bold\"})\n",
    "plt.ylabel(\"Customer_count\",fontdict={'fontsize': 14, 'fontweight': \"bold\"})\n",
    "plt.title(\"Tags Vs Customer_count\",fontdict={'fontsize': 14, 'fontweight': \"bold\"})\n",
    "plt.show()"
   ]
  },
  {
   "cell_type": "code",
   "execution_count": 54,
   "id": "5ac2982d",
   "metadata": {},
   "outputs": [
    {
     "data": {
      "image/png": "[encoded data removed]",
      "text/plain": [
       "<Figure size 1080x720 with 1 Axes>"
      ]
     },
     "metadata": {
      "needs_background": "light"
     },
     "output_type": "display_data"
    }
   ],
   "source": [
    "plt.figure(figsize=(15,10))\n",
    "s1=sns.countplot(leads['Specialization'], hue=leads.Converted,data=leads)\n",
    "sns.set_palette(\"Set2\")\n",
    "s1.set_xticklabels(s1.get_xticklabels(),rotation=90,fontsize=14)\n",
    "plt.xlabel(\"Specialization\",fontdict={'fontsize': 14, 'fontweight': \"bold\"})\n",
    "plt.ylabel(\"Customer_count\",fontdict={'fontsize': 14, 'fontweight': \"bold\"})\n",
    "plt.title(\"Specialization Vs Customer_count\",fontdict={'fontsize': 14, 'fontweight': \"bold\"})\n",
    "plt.show()"
   ]
  },
  {
   "cell_type": "code",
   "execution_count": 55,
   "id": "f4c68076",
   "metadata": {},
   "outputs": [
    {
     "data": {
      "image/png": "[encoded data removed]",
      "text/plain": [
       "<Figure size 1080x720 with 1 Axes>"
      ]
     },
     "metadata": {
      "needs_background": "light"
     },
     "output_type": "display_data"
    }
   ],
   "source": [
    "plt.figure(figsize=(15,10))\n",
    "s1=sns.countplot(leads['Last Activity'], hue=leads.Converted,data=leads)\n",
    "sns.set_palette(\"Set3\")\n",
    "s1.set_xticklabels(s1.get_xticklabels(),rotation=90,fontsize=14)\n",
    "plt.xlabel(\"Last Activity\",fontdict={'fontsize': 14, 'fontweight': \"bold\"})\n",
    "plt.ylabel(\"Customer_count\",fontdict={'fontsize': 14, 'fontweight': \"bold\"})\n",
    "plt.title(\"Last Activity Vs Customer_count\",fontdict={'fontsize': 14, 'fontweight': \"bold\"})\n",
    "plt.show()"
   ]
  },
  {
   "cell_type": "code",
   "execution_count": 56,
   "id": "872e57a6",
   "metadata": {},
   "outputs": [
    {
     "data": {
      "image/png": "[encoded data removed]",
      "text/plain": [
       "<Figure size 1080x720 with 1 Axes>"
      ]
     },
     "metadata": {
      "needs_background": "light"
     },
     "output_type": "display_data"
    }
   ],
   "source": [
    "plt.figure(figsize=(15,10))\n",
    "s1=sns.countplot(leads['Lead Source'], hue=leads.Converted,data=leads)\n",
    "sns.set_palette(\"Set2\")\n",
    "s1.set_xticklabels(s1.get_xticklabels(),rotation=90,fontsize=14)\n",
    "plt.xlabel(\"Lead Source\",fontdict={'fontsize': 14, 'fontweight': \"bold\"})\n",
    "plt.ylabel(\"Customer_count\",fontdict={'fontsize': 14, 'fontweight': \"bold\"})\n",
    "plt.title(\"Lead Source Vs Customer_count\",fontdict={'fontsize': 14, 'fontweight': \"bold\"})\n",
    "plt.show()"
   ]
  },
  {
   "cell_type": "markdown",
   "id": "b08f95d7",
   "metadata": {},
   "source": [
    "#### Working professionals and unemployed people show high conversion rates.\n",
    "#### People who are tagged “Will revert after reading the email” have been converted compared to others.\n",
    "#### Customers who have done MBA specializations such as Supply chain, Finance, Healthcare are showing high conversion rate(45.1%) compared to other categories. But among the MBA graduates the non-conversion rate(%) is higher.  \n",
    "#### People belonging to the banking sector show equal conversion and non-conversion rates.\n",
    "#### More than 1800 customers for whom the last activity was “SMS sent” were converted.\n",
    "#### Leads obtained through Google search show a high conversion rate of 39.8% compared to other sources.\n",
    "#### Though only 142 Leads were obtained from the Welingak website ,all of them have been converted.\n",
    "#### Most of the leads coming in through reference are also getting converted.\n"
   ]
  },
  {
   "cell_type": "markdown",
   "id": "ed577529",
   "metadata": {},
   "source": [
    "### Treating Binary values"
   ]
  },
  {
   "cell_type": "markdown",
   "id": "c236a2a9",
   "metadata": {},
   "source": [
    "#### It can be seen that the columns 'A free copy of Mastering The Interview','Country' have only two values which can be converted into binary values 0 and 1 for easy analysis."
   ]
  },
  {
   "cell_type": "code",
   "execution_count": 57,
   "id": "4a630659",
   "metadata": {},
   "outputs": [],
   "source": [
    "\n",
    "varlist =  ['A free copy of Mastering The Interview','Country']\n",
    "\n",
    "# Defining the map function\n",
    "def binary_map(x):\n",
    "    return x.map({'Yes': 1, \"No\": 0,'India': 1, \"Other Countries\": 0})\n",
    "\n",
    "leads[varlist] = leads[varlist].apply(binary_map)"
   ]
  },
  {
   "cell_type": "code",
   "execution_count": 58,
   "id": "264e2be7",
   "metadata": {},
   "outputs": [
    {
     "data": {
      "text/html": [
       "<div>\n",
       "<style scoped>\n",
       "    .dataframe tbody tr th:only-of-type {\n",
       "        vertical-align: middle;\n",
       "    }\n",
       "\n",
       "    .dataframe tbody tr th {\n",
       "        vertical-align: top;\n",
       "    }\n",
       "\n",
       "    .dataframe thead th {\n",
       "        text-align: right;\n",
       "    }\n",
       "</style>\n",
       "<table border=\"1\" class=\"dataframe\">\n",
       "  <thead>\n",
       "    <tr style=\"text-align: right;\">\n",
       "      <th></th>\n",
       "      <th>A free copy of Mastering The Interview</th>\n",
       "      <th>Country</th>\n",
       "    </tr>\n",
       "  </thead>\n",
       "  <tbody>\n",
       "    <tr>\n",
       "      <th>0</th>\n",
       "      <td>0</td>\n",
       "      <td>0</td>\n",
       "    </tr>\n",
       "    <tr>\n",
       "      <th>1</th>\n",
       "      <td>0</td>\n",
       "      <td>1</td>\n",
       "    </tr>\n",
       "    <tr>\n",
       "      <th>2</th>\n",
       "      <td>1</td>\n",
       "      <td>1</td>\n",
       "    </tr>\n",
       "    <tr>\n",
       "      <th>3</th>\n",
       "      <td>0</td>\n",
       "      <td>1</td>\n",
       "    </tr>\n",
       "    <tr>\n",
       "      <th>4</th>\n",
       "      <td>0</td>\n",
       "      <td>1</td>\n",
       "    </tr>\n",
       "  </tbody>\n",
       "</table>\n",
       "</div>"
      ],
      "text/plain": [
       "   A free copy of Mastering The Interview  Country\n",
       "0                                       0        0\n",
       "1                                       0        1\n",
       "2                                       1        1\n",
       "3                                       0        1\n",
       "4                                       0        1"
      ]
     },
     "execution_count": 58,
     "metadata": {},
     "output_type": "execute_result"
    }
   ],
   "source": [
    "#Checking the head of the columns\n",
    "leads[['A free copy of Mastering The Interview','Country']].head()"
   ]
  },
  {
   "cell_type": "markdown",
   "id": "8ce93085",
   "metadata": {},
   "source": [
    "### Converting to the correct datatype"
   ]
  },
  {
   "cell_type": "code",
   "execution_count": 59,
   "id": "2b47d6f1",
   "metadata": {},
   "outputs": [],
   "source": [
    "#Converting totalvisits to int type\n",
    "leads[\"TotalVisits\"]=leads[\"TotalVisits\"].astype(float)\n",
    "leads[\"TotalVisits\"]=leads[\"TotalVisits\"].astype('int64')"
   ]
  },
  {
   "cell_type": "code",
   "execution_count": 60,
   "id": "1da39c36",
   "metadata": {},
   "outputs": [],
   "source": [
    "#Converting Page Views Per Visit to int type\n",
    "leads[\"Page Views Per Visit\"]=leads[\"Page Views Per Visit\"].astype(float)\n",
    "leads[\"Page Views Per Visit\"]=leads[\"Page Views Per Visit\"].astype('int64')\n"
   ]
  },
  {
   "cell_type": "markdown",
   "id": "d46675d4",
   "metadata": {},
   "source": [
    "#### As Lead Number is only an ID of the customer,numerical analysis will not be done on this column.Hence it can be treated as object datatype."
   ]
  },
  {
   "cell_type": "code",
   "execution_count": 61,
   "id": "22b1e224",
   "metadata": {},
   "outputs": [],
   "source": [
    "#Converting Lead number to object datatype\n",
    "leads[\"Lead Number\"]=leads[\"Lead Number\"].astype('object')"
   ]
  },
  {
   "cell_type": "markdown",
   "id": "e7f1dd21",
   "metadata": {},
   "source": [
    "## Visualising the numerical columns"
   ]
  },
  {
   "cell_type": "code",
   "execution_count": 62,
   "id": "8f89749b",
   "metadata": {},
   "outputs": [
    {
     "data": {
      "text/plain": [
       "<AxesSubplot:xlabel='Total Time Spent on Website'>"
      ]
     },
     "execution_count": 62,
     "metadata": {},
     "output_type": "execute_result"
    },
    {
     "data": {
      "image/png": "[encoded data removed]",
      "text/plain": [
       "<Figure size 1800x720 with 3 Axes>"
      ]
     },
     "metadata": {
      "needs_background": "light"
     },
     "output_type": "display_data"
    }
   ],
   "source": [
    "#Plotting the numerical columns\n",
    "plt.figure(figsize=(25, 10))\n",
    "plt.rcParams['font.size'] = '15'\n",
    "plt.subplot(2,2,1)\n",
    "sns.boxplot(x = 'TotalVisits', data = leads)\n",
    "plt.subplot(2,2,2)\n",
    "sns.boxplot(x = 'Page Views Per Visit', data = leads)\n",
    "plt.subplot(2,2,3)\n",
    "sns.boxplot(x = 'Total Time Spent on Website', data = leads)"
   ]
  },
  {
   "cell_type": "markdown",
   "id": "2e5f958f",
   "metadata": {},
   "source": [
    "#### Some outliers can be observed in the totalvisits and page views per visit columns.The totalvisits value greater than 100 and page views greater than 50 looks unrealistic.Therefore these rows having outliers can be dropped so that they do not affect our analysis."
   ]
  },
  {
   "cell_type": "code",
   "execution_count": 63,
   "id": "4d919564",
   "metadata": {},
   "outputs": [],
   "source": [
    "#Dropping outliers in these columns\n",
    "leads.drop(leads[leads['TotalVisits'] >= 100].index, inplace = True)\n",
    "leads.drop(leads[leads['Page Views Per Visit'] >= 50].index, inplace = True)"
   ]
  },
  {
   "cell_type": "code",
   "execution_count": 64,
   "id": "d0afd901",
   "metadata": {},
   "outputs": [
    {
     "data": {
      "text/html": [
       "<div>\n",
       "<style scoped>\n",
       "    .dataframe tbody tr th:only-of-type {\n",
       "        vertical-align: middle;\n",
       "    }\n",
       "\n",
       "    .dataframe tbody tr th {\n",
       "        vertical-align: top;\n",
       "    }\n",
       "\n",
       "    .dataframe thead th {\n",
       "        text-align: right;\n",
       "    }\n",
       "</style>\n",
       "<table border=\"1\" class=\"dataframe\">\n",
       "  <thead>\n",
       "    <tr style=\"text-align: right;\">\n",
       "      <th></th>\n",
       "      <th>Converted</th>\n",
       "      <th>TotalVisits</th>\n",
       "      <th>Total Time Spent on Website</th>\n",
       "      <th>Page Views Per Visit</th>\n",
       "      <th>Country</th>\n",
       "      <th>A free copy of Mastering The Interview</th>\n",
       "    </tr>\n",
       "  </thead>\n",
       "  <tbody>\n",
       "    <tr>\n",
       "      <th>count</th>\n",
       "      <td>9236.000000</td>\n",
       "      <td>9236.000000</td>\n",
       "      <td>9236.000000</td>\n",
       "      <td>9236.000000</td>\n",
       "      <td>9236.000000</td>\n",
       "      <td>9236.000000</td>\n",
       "    </tr>\n",
       "    <tr>\n",
       "      <th>mean</th>\n",
       "      <td>0.385448</td>\n",
       "      <td>3.334777</td>\n",
       "      <td>487.770030</td>\n",
       "      <td>2.253032</td>\n",
       "      <td>0.702469</td>\n",
       "      <td>0.312365</td>\n",
       "    </tr>\n",
       "    <tr>\n",
       "      <th>std</th>\n",
       "      <td>0.486727</td>\n",
       "      <td>3.615776</td>\n",
       "      <td>548.101541</td>\n",
       "      <td>2.096111</td>\n",
       "      <td>0.457197</td>\n",
       "      <td>0.463483</td>\n",
       "    </tr>\n",
       "    <tr>\n",
       "      <th>min</th>\n",
       "      <td>0.000000</td>\n",
       "      <td>0.000000</td>\n",
       "      <td>0.000000</td>\n",
       "      <td>0.000000</td>\n",
       "      <td>0.000000</td>\n",
       "      <td>0.000000</td>\n",
       "    </tr>\n",
       "    <tr>\n",
       "      <th>25%</th>\n",
       "      <td>0.000000</td>\n",
       "      <td>0.000000</td>\n",
       "      <td>12.000000</td>\n",
       "      <td>0.000000</td>\n",
       "      <td>0.000000</td>\n",
       "      <td>0.000000</td>\n",
       "    </tr>\n",
       "    <tr>\n",
       "      <th>50%</th>\n",
       "      <td>0.000000</td>\n",
       "      <td>3.000000</td>\n",
       "      <td>248.000000</td>\n",
       "      <td>2.000000</td>\n",
       "      <td>1.000000</td>\n",
       "      <td>0.000000</td>\n",
       "    </tr>\n",
       "    <tr>\n",
       "      <th>75%</th>\n",
       "      <td>1.000000</td>\n",
       "      <td>5.000000</td>\n",
       "      <td>936.000000</td>\n",
       "      <td>3.000000</td>\n",
       "      <td>1.000000</td>\n",
       "      <td>1.000000</td>\n",
       "    </tr>\n",
       "    <tr>\n",
       "      <th>max</th>\n",
       "      <td>1.000000</td>\n",
       "      <td>74.000000</td>\n",
       "      <td>2272.000000</td>\n",
       "      <td>24.000000</td>\n",
       "      <td>1.000000</td>\n",
       "      <td>1.000000</td>\n",
       "    </tr>\n",
       "  </tbody>\n",
       "</table>\n",
       "</div>"
      ],
      "text/plain": [
       "         Converted  TotalVisits  Total Time Spent on Website  \\\n",
       "count  9236.000000  9236.000000                  9236.000000   \n",
       "mean      0.385448     3.334777                   487.770030   \n",
       "std       0.486727     3.615776                   548.101541   \n",
       "min       0.000000     0.000000                     0.000000   \n",
       "25%       0.000000     0.000000                    12.000000   \n",
       "50%       0.000000     3.000000                   248.000000   \n",
       "75%       1.000000     5.000000                   936.000000   \n",
       "max       1.000000    74.000000                  2272.000000   \n",
       "\n",
       "       Page Views Per Visit      Country  \\\n",
       "count           9236.000000  9236.000000   \n",
       "mean               2.253032     0.702469   \n",
       "std                2.096111     0.457197   \n",
       "min                0.000000     0.000000   \n",
       "25%                0.000000     0.000000   \n",
       "50%                2.000000     1.000000   \n",
       "75%                3.000000     1.000000   \n",
       "max               24.000000     1.000000   \n",
       "\n",
       "       A free copy of Mastering The Interview  \n",
       "count                             9236.000000  \n",
       "mean                                 0.312365  \n",
       "std                                  0.463483  \n",
       "min                                  0.000000  \n",
       "25%                                  0.000000  \n",
       "50%                                  0.000000  \n",
       "75%                                  1.000000  \n",
       "max                                  1.000000  "
      ]
     },
     "execution_count": 64,
     "metadata": {},
     "output_type": "execute_result"
    }
   ],
   "source": [
    "leads.describe()"
   ]
  },
  {
   "cell_type": "markdown",
   "id": "027b0aaa",
   "metadata": {},
   "source": [
    "#### Thus outliers in the data have been treated."
   ]
  },
  {
   "cell_type": "code",
   "execution_count": 65,
   "id": "c28c566e",
   "metadata": {},
   "outputs": [
    {
     "data": {
      "image/png": "[encoded data removed]",
      "text/plain": [
       "<Figure size 1080x720 with 2 Axes>"
      ]
     },
     "metadata": {
      "needs_background": "light"
     },
     "output_type": "display_data"
    }
   ],
   "source": [
    "# Let's check the correlation coefficients to see which variables are highly correlated\n",
    "plt.figure(figsize = (15, 10))\n",
    "sns.heatmap(leads.corr(), annot = True, cmap=\"YlGnBu\")\n",
    "plt.show()"
   ]
  },
  {
   "cell_type": "markdown",
   "id": "29714f2d",
   "metadata": {},
   "source": [
    "#### From the heatmap it can be observed that high correlation does not exist between any of the variables indicating the absence of multicollinearity.It can be seen that the variable \"Total time spent on the website\" has the highest positive correlation with the target variable indicating that as the customer spends more time on the website,chances of converting him also increases."
   ]
  },
  {
   "cell_type": "markdown",
   "id": "b033ddf2",
   "metadata": {},
   "source": [
    "## Dummy variable creation"
   ]
  },
  {
   "cell_type": "code",
   "execution_count": 66,
   "id": "023b52e2",
   "metadata": {},
   "outputs": [],
   "source": [
    "# Creating a dummy variable for some of the categorical variables and dropping the first one.\n",
    "dummy1 = pd.get_dummies(leads[['Lead Source','Lead Origin', 'Last Activity', 'Tags', 'Specialization','What is your current occupation']], drop_first=True)\n",
    "\n",
    "# Adding the results to the main dataframe\n",
    "leads = pd.concat([leads, dummy1], axis=1)"
   ]
  },
  {
   "cell_type": "code",
   "execution_count": 67,
   "id": "5f46b947",
   "metadata": {},
   "outputs": [
    {
     "name": "stdout",
     "output_type": "stream",
     "text": [
      "<class 'pandas.core.frame.DataFrame'>\n",
      "Int64Index: 9236 entries, 0 to 9239\n",
      "Data columns (total 78 columns):\n",
      " #   Column                                                Non-Null Count  Dtype \n",
      "---  ------                                                --------------  ----- \n",
      " 0   Lead Number                                           9236 non-null   object\n",
      " 1   Lead Origin                                           9236 non-null   object\n",
      " 2   Lead Source                                           9236 non-null   object\n",
      " 3   Converted                                             9236 non-null   int64 \n",
      " 4   TotalVisits                                           9236 non-null   int64 \n",
      " 5   Total Time Spent on Website                           9236 non-null   int64 \n",
      " 6   Page Views Per Visit                                  9236 non-null   int64 \n",
      " 7   Last Activity                                         9236 non-null   object\n",
      " 8   Country                                               9236 non-null   int64 \n",
      " 9   Specialization                                        9236 non-null   object\n",
      " 10  What is your current occupation                       9236 non-null   object\n",
      " 11  Tags                                                  9236 non-null   object\n",
      " 12  A free copy of Mastering The Interview                9236 non-null   int64 \n",
      " 13  Lead Source_Direct Traffic                            9236 non-null   uint8 \n",
      " 14  Lead Source_Facebook                                  9236 non-null   uint8 \n",
      " 15  Lead Source_Google                                    9236 non-null   uint8 \n",
      " 16  Lead Source_Live Chat                                 9236 non-null   uint8 \n",
      " 17  Lead Source_NC_EDM                                    9236 non-null   uint8 \n",
      " 18  Lead Source_Olark Chat                                9236 non-null   uint8 \n",
      " 19  Lead Source_Organic Search                            9236 non-null   uint8 \n",
      " 20  Lead Source_Pay per Click Ads                         9236 non-null   uint8 \n",
      " 21  Lead Source_Press_Release                             9236 non-null   uint8 \n",
      " 22  Lead Source_Reference                                 9236 non-null   uint8 \n",
      " 23  Lead Source_Referral Sites                            9236 non-null   uint8 \n",
      " 24  Lead Source_Social Media                              9236 non-null   uint8 \n",
      " 25  Lead Source_WeLearn                                   9236 non-null   uint8 \n",
      " 26  Lead Source_Welingak Website                          9236 non-null   uint8 \n",
      " 27  Lead Source_bing                                      9236 non-null   uint8 \n",
      " 28  Lead Source_blog                                      9236 non-null   uint8 \n",
      " 29  Lead Source_testone                                   9236 non-null   uint8 \n",
      " 30  Lead Source_youtubechannel                            9236 non-null   uint8 \n",
      " 31  Lead Origin_Landing Page Submission                   9236 non-null   uint8 \n",
      " 32  Lead Origin_Lead Add Form                             9236 non-null   uint8 \n",
      " 33  Lead Origin_Lead Import                               9236 non-null   uint8 \n",
      " 34  Lead Origin_Quick Add Form                            9236 non-null   uint8 \n",
      " 35  Last Activity_Converted to Lead                       9236 non-null   uint8 \n",
      " 36  Last Activity_Email Bounced                           9236 non-null   uint8 \n",
      " 37  Last Activity_Email Link Clicked                      9236 non-null   uint8 \n",
      " 38  Last Activity_Email Marked Spam                       9236 non-null   uint8 \n",
      " 39  Last Activity_Email Opened                            9236 non-null   uint8 \n",
      " 40  Last Activity_Email Received                          9236 non-null   uint8 \n",
      " 41  Last Activity_Form Submitted on Website               9236 non-null   uint8 \n",
      " 42  Last Activity_Had a Phone Conversation                9236 non-null   uint8 \n",
      " 43  Last Activity_None                                    9236 non-null   uint8 \n",
      " 44  Last Activity_Olark Chat Conversation                 9236 non-null   uint8 \n",
      " 45  Last Activity_Page Visited on Website                 9236 non-null   uint8 \n",
      " 46  Last Activity_Resubscribed to emails                  9236 non-null   uint8 \n",
      " 47  Last Activity_SMS Sent                                9236 non-null   uint8 \n",
      " 48  Last Activity_Unreachable                             9236 non-null   uint8 \n",
      " 49  Last Activity_Unsubscribed                            9236 non-null   uint8 \n",
      " 50  Last Activity_View in browser link Clicked            9236 non-null   uint8 \n",
      " 51  Last Activity_Visited Booth in Tradeshow              9236 non-null   uint8 \n",
      " 52  Tags_Graduation in progress                           9236 non-null   uint8 \n",
      " 53  Tags_Interested  in full time MBA                     9236 non-null   uint8 \n",
      " 54  Tags_Interested in other courses                      9236 non-null   uint8 \n",
      " 55  Tags_Lateral student                                  9236 non-null   uint8 \n",
      " 56  Tags_Lost to others                                   9236 non-null   uint8 \n",
      " 57  Tags_Next_batch                                       9236 non-null   uint8 \n",
      " 58  Tags_Not Eligible                                     9236 non-null   uint8 \n",
      " 59  Tags_Not Reachable                                    9236 non-null   uint8 \n",
      " 60  Tags_Not Specified                                    9236 non-null   uint8 \n",
      " 61  Tags_Not doing further education                      9236 non-null   uint8 \n",
      " 62  Tags_Undecided                                        9236 non-null   uint8 \n",
      " 63  Tags_Will revert after reading the email              9236 non-null   uint8 \n",
      " 64  Specialization_E-Business                             9236 non-null   uint8 \n",
      " 65  Specialization_E-COMMERCE                             9236 non-null   uint8 \n",
      " 66  Specialization_International Business                 9236 non-null   uint8 \n",
      " 67  Specialization_MBA Specializations                    9236 non-null   uint8 \n",
      " 68  Specialization_Media and Advertising                  9236 non-null   uint8 \n",
      " 69  Specialization_Rural and Agribusiness                 9236 non-null   uint8 \n",
      " 70  Specialization_Services Excellence                    9236 non-null   uint8 \n",
      " 71  Specialization_Travel and Tourism                     9236 non-null   uint8 \n",
      " 72  Specialization_Unknown                                9236 non-null   uint8 \n",
      " 73  What is your current occupation_Housewife             9236 non-null   uint8 \n",
      " 74  What is your current occupation_Others                9236 non-null   uint8 \n",
      " 75  What is your current occupation_Student               9236 non-null   uint8 \n",
      " 76  What is your current occupation_Unemployed            9236 non-null   uint8 \n",
      " 77  What is your current occupation_Working Professional  9236 non-null   uint8 \n",
      "dtypes: int64(6), object(7), uint8(65)\n",
      "memory usage: 1.6+ MB\n"
     ]
    }
   ],
   "source": [
    "#Checking the columns in the df\n",
    "leads.info()"
   ]
  },
  {
   "cell_type": "code",
   "execution_count": 68,
   "id": "80e9becf",
   "metadata": {},
   "outputs": [],
   "source": [
    "# Dropping the original columns\n",
    "leads.drop(['Lead Source','Lead Origin', 'Last Activity', 'Tags', 'Specialization','What is your current occupation'], axis = 1, inplace = True)"
   ]
  },
  {
   "cell_type": "code",
   "execution_count": 69,
   "id": "a8c29c03",
   "metadata": {},
   "outputs": [
    {
     "data": {
      "text/html": [
       "<div>\n",
       "<style scoped>\n",
       "    .dataframe tbody tr th:only-of-type {\n",
       "        vertical-align: middle;\n",
       "    }\n",
       "\n",
       "    .dataframe tbody tr th {\n",
       "        vertical-align: top;\n",
       "    }\n",
       "\n",
       "    .dataframe thead th {\n",
       "        text-align: right;\n",
       "    }\n",
       "</style>\n",
       "<table border=\"1\" class=\"dataframe\">\n",
       "  <thead>\n",
       "    <tr style=\"text-align: right;\">\n",
       "      <th></th>\n",
       "      <th>Lead Number</th>\n",
       "      <th>Converted</th>\n",
       "      <th>TotalVisits</th>\n",
       "      <th>Total Time Spent on Website</th>\n",
       "      <th>Page Views Per Visit</th>\n",
       "      <th>Country</th>\n",
       "      <th>A free copy of Mastering The Interview</th>\n",
       "      <th>Lead Source_Direct Traffic</th>\n",
       "      <th>Lead Source_Facebook</th>\n",
       "      <th>Lead Source_Google</th>\n",
       "      <th>...</th>\n",
       "      <th>Specialization_Media and Advertising</th>\n",
       "      <th>Specialization_Rural and Agribusiness</th>\n",
       "      <th>Specialization_Services Excellence</th>\n",
       "      <th>Specialization_Travel and Tourism</th>\n",
       "      <th>Specialization_Unknown</th>\n",
       "      <th>What is your current occupation_Housewife</th>\n",
       "      <th>What is your current occupation_Others</th>\n",
       "      <th>What is your current occupation_Student</th>\n",
       "      <th>What is your current occupation_Unemployed</th>\n",
       "      <th>What is your current occupation_Working Professional</th>\n",
       "    </tr>\n",
       "  </thead>\n",
       "  <tbody>\n",
       "    <tr>\n",
       "      <th>0</th>\n",
       "      <td>660737</td>\n",
       "      <td>0</td>\n",
       "      <td>0</td>\n",
       "      <td>0</td>\n",
       "      <td>0</td>\n",
       "      <td>0</td>\n",
       "      <td>0</td>\n",
       "      <td>0</td>\n",
       "      <td>0</td>\n",
       "      <td>0</td>\n",
       "      <td>...</td>\n",
       "      <td>0</td>\n",
       "      <td>0</td>\n",
       "      <td>0</td>\n",
       "      <td>0</td>\n",
       "      <td>1</td>\n",
       "      <td>0</td>\n",
       "      <td>0</td>\n",
       "      <td>0</td>\n",
       "      <td>1</td>\n",
       "      <td>0</td>\n",
       "    </tr>\n",
       "    <tr>\n",
       "      <th>1</th>\n",
       "      <td>660728</td>\n",
       "      <td>0</td>\n",
       "      <td>5</td>\n",
       "      <td>674</td>\n",
       "      <td>2</td>\n",
       "      <td>1</td>\n",
       "      <td>0</td>\n",
       "      <td>0</td>\n",
       "      <td>0</td>\n",
       "      <td>0</td>\n",
       "      <td>...</td>\n",
       "      <td>0</td>\n",
       "      <td>0</td>\n",
       "      <td>0</td>\n",
       "      <td>0</td>\n",
       "      <td>1</td>\n",
       "      <td>0</td>\n",
       "      <td>0</td>\n",
       "      <td>0</td>\n",
       "      <td>1</td>\n",
       "      <td>0</td>\n",
       "    </tr>\n",
       "    <tr>\n",
       "      <th>2</th>\n",
       "      <td>660727</td>\n",
       "      <td>1</td>\n",
       "      <td>2</td>\n",
       "      <td>1532</td>\n",
       "      <td>2</td>\n",
       "      <td>1</td>\n",
       "      <td>1</td>\n",
       "      <td>1</td>\n",
       "      <td>0</td>\n",
       "      <td>0</td>\n",
       "      <td>...</td>\n",
       "      <td>0</td>\n",
       "      <td>0</td>\n",
       "      <td>0</td>\n",
       "      <td>0</td>\n",
       "      <td>0</td>\n",
       "      <td>0</td>\n",
       "      <td>0</td>\n",
       "      <td>1</td>\n",
       "      <td>0</td>\n",
       "      <td>0</td>\n",
       "    </tr>\n",
       "    <tr>\n",
       "      <th>3</th>\n",
       "      <td>660719</td>\n",
       "      <td>0</td>\n",
       "      <td>1</td>\n",
       "      <td>305</td>\n",
       "      <td>1</td>\n",
       "      <td>1</td>\n",
       "      <td>0</td>\n",
       "      <td>1</td>\n",
       "      <td>0</td>\n",
       "      <td>0</td>\n",
       "      <td>...</td>\n",
       "      <td>1</td>\n",
       "      <td>0</td>\n",
       "      <td>0</td>\n",
       "      <td>0</td>\n",
       "      <td>0</td>\n",
       "      <td>0</td>\n",
       "      <td>0</td>\n",
       "      <td>0</td>\n",
       "      <td>1</td>\n",
       "      <td>0</td>\n",
       "    </tr>\n",
       "    <tr>\n",
       "      <th>4</th>\n",
       "      <td>660681</td>\n",
       "      <td>1</td>\n",
       "      <td>2</td>\n",
       "      <td>1428</td>\n",
       "      <td>1</td>\n",
       "      <td>1</td>\n",
       "      <td>0</td>\n",
       "      <td>0</td>\n",
       "      <td>0</td>\n",
       "      <td>1</td>\n",
       "      <td>...</td>\n",
       "      <td>0</td>\n",
       "      <td>0</td>\n",
       "      <td>0</td>\n",
       "      <td>0</td>\n",
       "      <td>1</td>\n",
       "      <td>0</td>\n",
       "      <td>0</td>\n",
       "      <td>0</td>\n",
       "      <td>1</td>\n",
       "      <td>0</td>\n",
       "    </tr>\n",
       "  </tbody>\n",
       "</table>\n",
       "<p>5 rows × 72 columns</p>\n",
       "</div>"
      ],
      "text/plain": [
       "  Lead Number  Converted  TotalVisits  Total Time Spent on Website  \\\n",
       "0      660737          0            0                            0   \n",
       "1      660728          0            5                          674   \n",
       "2      660727          1            2                         1532   \n",
       "3      660719          0            1                          305   \n",
       "4      660681          1            2                         1428   \n",
       "\n",
       "   Page Views Per Visit  Country  A free copy of Mastering The Interview  \\\n",
       "0                     0        0                                       0   \n",
       "1                     2        1                                       0   \n",
       "2                     2        1                                       1   \n",
       "3                     1        1                                       0   \n",
       "4                     1        1                                       0   \n",
       "\n",
       "   Lead Source_Direct Traffic  Lead Source_Facebook  Lead Source_Google  ...  \\\n",
       "0                           0                     0                   0  ...   \n",
       "1                           0                     0                   0  ...   \n",
       "2                           1                     0                   0  ...   \n",
       "3                           1                     0                   0  ...   \n",
       "4                           0                     0                   1  ...   \n",
       "\n",
       "   Specialization_Media and Advertising  \\\n",
       "0                                     0   \n",
       "1                                     0   \n",
       "2                                     0   \n",
       "3                                     1   \n",
       "4                                     0   \n",
       "\n",
       "   Specialization_Rural and Agribusiness  Specialization_Services Excellence  \\\n",
       "0                                      0                                   0   \n",
       "1                                      0                                   0   \n",
       "2                                      0                                   0   \n",
       "3                                      0                                   0   \n",
       "4                                      0                                   0   \n",
       "\n",
       "   Specialization_Travel and Tourism  Specialization_Unknown  \\\n",
       "0                                  0                       1   \n",
       "1                                  0                       1   \n",
       "2                                  0                       0   \n",
       "3                                  0                       0   \n",
       "4                                  0                       1   \n",
       "\n",
       "   What is your current occupation_Housewife  \\\n",
       "0                                          0   \n",
       "1                                          0   \n",
       "2                                          0   \n",
       "3                                          0   \n",
       "4                                          0   \n",
       "\n",
       "   What is your current occupation_Others  \\\n",
       "0                                       0   \n",
       "1                                       0   \n",
       "2                                       0   \n",
       "3                                       0   \n",
       "4                                       0   \n",
       "\n",
       "   What is your current occupation_Student  \\\n",
       "0                                        0   \n",
       "1                                        0   \n",
       "2                                        1   \n",
       "3                                        0   \n",
       "4                                        0   \n",
       "\n",
       "   What is your current occupation_Unemployed  \\\n",
       "0                                           1   \n",
       "1                                           1   \n",
       "2                                           0   \n",
       "3                                           1   \n",
       "4                                           1   \n",
       "\n",
       "   What is your current occupation_Working Professional  \n",
       "0                                                  0     \n",
       "1                                                  0     \n",
       "2                                                  0     \n",
       "3                                                  0     \n",
       "4                                                  0     \n",
       "\n",
       "[5 rows x 72 columns]"
      ]
     },
     "execution_count": 69,
     "metadata": {},
     "output_type": "execute_result"
    }
   ],
   "source": [
    "#Checking the columns\n",
    "leads.head()"
   ]
  },
  {
   "cell_type": "code",
   "execution_count": 70,
   "id": "5a6b4811",
   "metadata": {},
   "outputs": [
    {
     "data": {
      "text/plain": [
       "(9236, 72)"
      ]
     },
     "execution_count": 70,
     "metadata": {},
     "output_type": "execute_result"
    }
   ],
   "source": [
    "#Checking the number of rows and columns\n",
    "leads.shape"
   ]
  },
  {
   "cell_type": "markdown",
   "id": "78f3c347",
   "metadata": {},
   "source": [
    "### Perfoming train-test split"
   ]
  },
  {
   "cell_type": "code",
   "execution_count": 71,
   "id": "5d090b06",
   "metadata": {},
   "outputs": [
    {
     "data": {
      "text/html": [
       "<div>\n",
       "<style scoped>\n",
       "    .dataframe tbody tr th:only-of-type {\n",
       "        vertical-align: middle;\n",
       "    }\n",
       "\n",
       "    .dataframe tbody tr th {\n",
       "        vertical-align: top;\n",
       "    }\n",
       "\n",
       "    .dataframe thead th {\n",
       "        text-align: right;\n",
       "    }\n",
       "</style>\n",
       "<table border=\"1\" class=\"dataframe\">\n",
       "  <thead>\n",
       "    <tr style=\"text-align: right;\">\n",
       "      <th></th>\n",
       "      <th>TotalVisits</th>\n",
       "      <th>Total Time Spent on Website</th>\n",
       "      <th>Page Views Per Visit</th>\n",
       "      <th>Country</th>\n",
       "      <th>A free copy of Mastering The Interview</th>\n",
       "      <th>Lead Source_Direct Traffic</th>\n",
       "      <th>Lead Source_Facebook</th>\n",
       "      <th>Lead Source_Google</th>\n",
       "      <th>Lead Source_Live Chat</th>\n",
       "      <th>Lead Source_NC_EDM</th>\n",
       "      <th>...</th>\n",
       "      <th>Specialization_Media and Advertising</th>\n",
       "      <th>Specialization_Rural and Agribusiness</th>\n",
       "      <th>Specialization_Services Excellence</th>\n",
       "      <th>Specialization_Travel and Tourism</th>\n",
       "      <th>Specialization_Unknown</th>\n",
       "      <th>What is your current occupation_Housewife</th>\n",
       "      <th>What is your current occupation_Others</th>\n",
       "      <th>What is your current occupation_Student</th>\n",
       "      <th>What is your current occupation_Unemployed</th>\n",
       "      <th>What is your current occupation_Working Professional</th>\n",
       "    </tr>\n",
       "  </thead>\n",
       "  <tbody>\n",
       "    <tr>\n",
       "      <th>0</th>\n",
       "      <td>0</td>\n",
       "      <td>0</td>\n",
       "      <td>0</td>\n",
       "      <td>0</td>\n",
       "      <td>0</td>\n",
       "      <td>0</td>\n",
       "      <td>0</td>\n",
       "      <td>0</td>\n",
       "      <td>0</td>\n",
       "      <td>0</td>\n",
       "      <td>...</td>\n",
       "      <td>0</td>\n",
       "      <td>0</td>\n",
       "      <td>0</td>\n",
       "      <td>0</td>\n",
       "      <td>1</td>\n",
       "      <td>0</td>\n",
       "      <td>0</td>\n",
       "      <td>0</td>\n",
       "      <td>1</td>\n",
       "      <td>0</td>\n",
       "    </tr>\n",
       "    <tr>\n",
       "      <th>1</th>\n",
       "      <td>5</td>\n",
       "      <td>674</td>\n",
       "      <td>2</td>\n",
       "      <td>1</td>\n",
       "      <td>0</td>\n",
       "      <td>0</td>\n",
       "      <td>0</td>\n",
       "      <td>0</td>\n",
       "      <td>0</td>\n",
       "      <td>0</td>\n",
       "      <td>...</td>\n",
       "      <td>0</td>\n",
       "      <td>0</td>\n",
       "      <td>0</td>\n",
       "      <td>0</td>\n",
       "      <td>1</td>\n",
       "      <td>0</td>\n",
       "      <td>0</td>\n",
       "      <td>0</td>\n",
       "      <td>1</td>\n",
       "      <td>0</td>\n",
       "    </tr>\n",
       "    <tr>\n",
       "      <th>2</th>\n",
       "      <td>2</td>\n",
       "      <td>1532</td>\n",
       "      <td>2</td>\n",
       "      <td>1</td>\n",
       "      <td>1</td>\n",
       "      <td>1</td>\n",
       "      <td>0</td>\n",
       "      <td>0</td>\n",
       "      <td>0</td>\n",
       "      <td>0</td>\n",
       "      <td>...</td>\n",
       "      <td>0</td>\n",
       "      <td>0</td>\n",
       "      <td>0</td>\n",
       "      <td>0</td>\n",
       "      <td>0</td>\n",
       "      <td>0</td>\n",
       "      <td>0</td>\n",
       "      <td>1</td>\n",
       "      <td>0</td>\n",
       "      <td>0</td>\n",
       "    </tr>\n",
       "    <tr>\n",
       "      <th>3</th>\n",
       "      <td>1</td>\n",
       "      <td>305</td>\n",
       "      <td>1</td>\n",
       "      <td>1</td>\n",
       "      <td>0</td>\n",
       "      <td>1</td>\n",
       "      <td>0</td>\n",
       "      <td>0</td>\n",
       "      <td>0</td>\n",
       "      <td>0</td>\n",
       "      <td>...</td>\n",
       "      <td>1</td>\n",
       "      <td>0</td>\n",
       "      <td>0</td>\n",
       "      <td>0</td>\n",
       "      <td>0</td>\n",
       "      <td>0</td>\n",
       "      <td>0</td>\n",
       "      <td>0</td>\n",
       "      <td>1</td>\n",
       "      <td>0</td>\n",
       "    </tr>\n",
       "    <tr>\n",
       "      <th>4</th>\n",
       "      <td>2</td>\n",
       "      <td>1428</td>\n",
       "      <td>1</td>\n",
       "      <td>1</td>\n",
       "      <td>0</td>\n",
       "      <td>0</td>\n",
       "      <td>0</td>\n",
       "      <td>1</td>\n",
       "      <td>0</td>\n",
       "      <td>0</td>\n",
       "      <td>...</td>\n",
       "      <td>0</td>\n",
       "      <td>0</td>\n",
       "      <td>0</td>\n",
       "      <td>0</td>\n",
       "      <td>1</td>\n",
       "      <td>0</td>\n",
       "      <td>0</td>\n",
       "      <td>0</td>\n",
       "      <td>1</td>\n",
       "      <td>0</td>\n",
       "    </tr>\n",
       "  </tbody>\n",
       "</table>\n",
       "<p>5 rows × 70 columns</p>\n",
       "</div>"
      ],
      "text/plain": [
       "   TotalVisits  Total Time Spent on Website  Page Views Per Visit  Country  \\\n",
       "0            0                            0                     0        0   \n",
       "1            5                          674                     2        1   \n",
       "2            2                         1532                     2        1   \n",
       "3            1                          305                     1        1   \n",
       "4            2                         1428                     1        1   \n",
       "\n",
       "   A free copy of Mastering The Interview  Lead Source_Direct Traffic  \\\n",
       "0                                       0                           0   \n",
       "1                                       0                           0   \n",
       "2                                       1                           1   \n",
       "3                                       0                           1   \n",
       "4                                       0                           0   \n",
       "\n",
       "   Lead Source_Facebook  Lead Source_Google  Lead Source_Live Chat  \\\n",
       "0                     0                   0                      0   \n",
       "1                     0                   0                      0   \n",
       "2                     0                   0                      0   \n",
       "3                     0                   0                      0   \n",
       "4                     0                   1                      0   \n",
       "\n",
       "   Lead Source_NC_EDM  ...  Specialization_Media and Advertising  \\\n",
       "0                   0  ...                                     0   \n",
       "1                   0  ...                                     0   \n",
       "2                   0  ...                                     0   \n",
       "3                   0  ...                                     1   \n",
       "4                   0  ...                                     0   \n",
       "\n",
       "   Specialization_Rural and Agribusiness  Specialization_Services Excellence  \\\n",
       "0                                      0                                   0   \n",
       "1                                      0                                   0   \n",
       "2                                      0                                   0   \n",
       "3                                      0                                   0   \n",
       "4                                      0                                   0   \n",
       "\n",
       "   Specialization_Travel and Tourism  Specialization_Unknown  \\\n",
       "0                                  0                       1   \n",
       "1                                  0                       1   \n",
       "2                                  0                       0   \n",
       "3                                  0                       0   \n",
       "4                                  0                       1   \n",
       "\n",
       "   What is your current occupation_Housewife  \\\n",
       "0                                          0   \n",
       "1                                          0   \n",
       "2                                          0   \n",
       "3                                          0   \n",
       "4                                          0   \n",
       "\n",
       "   What is your current occupation_Others  \\\n",
       "0                                       0   \n",
       "1                                       0   \n",
       "2                                       0   \n",
       "3                                       0   \n",
       "4                                       0   \n",
       "\n",
       "   What is your current occupation_Student  \\\n",
       "0                                        0   \n",
       "1                                        0   \n",
       "2                                        1   \n",
       "3                                        0   \n",
       "4                                        0   \n",
       "\n",
       "   What is your current occupation_Unemployed  \\\n",
       "0                                           1   \n",
       "1                                           1   \n",
       "2                                           0   \n",
       "3                                           1   \n",
       "4                                           1   \n",
       "\n",
       "   What is your current occupation_Working Professional  \n",
       "0                                                  0     \n",
       "1                                                  0     \n",
       "2                                                  0     \n",
       "3                                                  0     \n",
       "4                                                  0     \n",
       "\n",
       "[5 rows x 70 columns]"
      ]
     },
     "execution_count": 71,
     "metadata": {},
     "output_type": "execute_result"
    }
   ],
   "source": [
    "#Creating a dataframe of the dependent variables\n",
    "X = leads.drop(['Converted','Lead Number'], axis=1)\n",
    "\n",
    "X.head()"
   ]
  },
  {
   "cell_type": "code",
   "execution_count": 72,
   "id": "b02be92e",
   "metadata": {},
   "outputs": [
    {
     "data": {
      "text/plain": [
       "0    0\n",
       "1    0\n",
       "2    1\n",
       "3    0\n",
       "4    1\n",
       "Name: Converted, dtype: int64"
      ]
     },
     "execution_count": 72,
     "metadata": {},
     "output_type": "execute_result"
    }
   ],
   "source": [
    "#Putting the target variable into y\n",
    "y = leads['Converted']\n",
    "\n",
    "y.head()"
   ]
  },
  {
   "cell_type": "code",
   "execution_count": 73,
   "id": "bafb6e76",
   "metadata": {},
   "outputs": [],
   "source": [
    "# Splitting the data into train and test\n",
    "X_train, X_test, y_train, y_test = train_test_split(X, y, train_size=0.7, test_size=0.3, random_state=100)"
   ]
  },
  {
   "cell_type": "markdown",
   "id": "c5685990",
   "metadata": {},
   "source": [
    "### Scaling the data"
   ]
  },
  {
   "cell_type": "code",
   "execution_count": 74,
   "id": "bf9607d6",
   "metadata": {},
   "outputs": [
    {
     "data": {
      "text/html": [
       "<div>\n",
       "<style scoped>\n",
       "    .dataframe tbody tr th:only-of-type {\n",
       "        vertical-align: middle;\n",
       "    }\n",
       "\n",
       "    .dataframe tbody tr th {\n",
       "        vertical-align: top;\n",
       "    }\n",
       "\n",
       "    .dataframe thead th {\n",
       "        text-align: right;\n",
       "    }\n",
       "</style>\n",
       "<table border=\"1\" class=\"dataframe\">\n",
       "  <thead>\n",
       "    <tr style=\"text-align: right;\">\n",
       "      <th></th>\n",
       "      <th>TotalVisits</th>\n",
       "      <th>Total Time Spent on Website</th>\n",
       "      <th>Page Views Per Visit</th>\n",
       "      <th>Country</th>\n",
       "      <th>A free copy of Mastering The Interview</th>\n",
       "      <th>Lead Source_Direct Traffic</th>\n",
       "      <th>Lead Source_Facebook</th>\n",
       "      <th>Lead Source_Google</th>\n",
       "      <th>Lead Source_Live Chat</th>\n",
       "      <th>Lead Source_NC_EDM</th>\n",
       "      <th>...</th>\n",
       "      <th>Specialization_Media and Advertising</th>\n",
       "      <th>Specialization_Rural and Agribusiness</th>\n",
       "      <th>Specialization_Services Excellence</th>\n",
       "      <th>Specialization_Travel and Tourism</th>\n",
       "      <th>Specialization_Unknown</th>\n",
       "      <th>What is your current occupation_Housewife</th>\n",
       "      <th>What is your current occupation_Others</th>\n",
       "      <th>What is your current occupation_Student</th>\n",
       "      <th>What is your current occupation_Unemployed</th>\n",
       "      <th>What is your current occupation_Working Professional</th>\n",
       "    </tr>\n",
       "  </thead>\n",
       "  <tbody>\n",
       "    <tr>\n",
       "      <th>8412</th>\n",
       "      <td>-0.917804</td>\n",
       "      <td>-0.895783</td>\n",
       "      <td>-1.067584</td>\n",
       "      <td>0</td>\n",
       "      <td>0</td>\n",
       "      <td>0</td>\n",
       "      <td>0</td>\n",
       "      <td>0</td>\n",
       "      <td>0</td>\n",
       "      <td>0</td>\n",
       "      <td>...</td>\n",
       "      <td>0</td>\n",
       "      <td>0</td>\n",
       "      <td>0</td>\n",
       "      <td>0</td>\n",
       "      <td>1</td>\n",
       "      <td>0</td>\n",
       "      <td>0</td>\n",
       "      <td>0</td>\n",
       "      <td>1</td>\n",
       "      <td>0</td>\n",
       "    </tr>\n",
       "    <tr>\n",
       "      <th>3291</th>\n",
       "      <td>-0.917804</td>\n",
       "      <td>-0.895783</td>\n",
       "      <td>-1.067584</td>\n",
       "      <td>0</td>\n",
       "      <td>0</td>\n",
       "      <td>0</td>\n",
       "      <td>0</td>\n",
       "      <td>0</td>\n",
       "      <td>0</td>\n",
       "      <td>0</td>\n",
       "      <td>...</td>\n",
       "      <td>0</td>\n",
       "      <td>0</td>\n",
       "      <td>0</td>\n",
       "      <td>0</td>\n",
       "      <td>1</td>\n",
       "      <td>0</td>\n",
       "      <td>0</td>\n",
       "      <td>0</td>\n",
       "      <td>1</td>\n",
       "      <td>0</td>\n",
       "    </tr>\n",
       "    <tr>\n",
       "      <th>8068</th>\n",
       "      <td>-0.917804</td>\n",
       "      <td>-0.895783</td>\n",
       "      <td>-1.067584</td>\n",
       "      <td>0</td>\n",
       "      <td>0</td>\n",
       "      <td>0</td>\n",
       "      <td>0</td>\n",
       "      <td>0</td>\n",
       "      <td>0</td>\n",
       "      <td>0</td>\n",
       "      <td>...</td>\n",
       "      <td>0</td>\n",
       "      <td>0</td>\n",
       "      <td>0</td>\n",
       "      <td>0</td>\n",
       "      <td>0</td>\n",
       "      <td>0</td>\n",
       "      <td>0</td>\n",
       "      <td>0</td>\n",
       "      <td>1</td>\n",
       "      <td>0</td>\n",
       "    </tr>\n",
       "    <tr>\n",
       "      <th>987</th>\n",
       "      <td>-0.640039</td>\n",
       "      <td>0.587007</td>\n",
       "      <td>-0.593290</td>\n",
       "      <td>1</td>\n",
       "      <td>0</td>\n",
       "      <td>0</td>\n",
       "      <td>0</td>\n",
       "      <td>0</td>\n",
       "      <td>0</td>\n",
       "      <td>0</td>\n",
       "      <td>...</td>\n",
       "      <td>0</td>\n",
       "      <td>0</td>\n",
       "      <td>0</td>\n",
       "      <td>0</td>\n",
       "      <td>1</td>\n",
       "      <td>0</td>\n",
       "      <td>1</td>\n",
       "      <td>0</td>\n",
       "      <td>0</td>\n",
       "      <td>0</td>\n",
       "    </tr>\n",
       "    <tr>\n",
       "      <th>7421</th>\n",
       "      <td>6.581832</td>\n",
       "      <td>-0.510076</td>\n",
       "      <td>-0.118995</td>\n",
       "      <td>0</td>\n",
       "      <td>1</td>\n",
       "      <td>1</td>\n",
       "      <td>0</td>\n",
       "      <td>0</td>\n",
       "      <td>0</td>\n",
       "      <td>0</td>\n",
       "      <td>...</td>\n",
       "      <td>0</td>\n",
       "      <td>0</td>\n",
       "      <td>0</td>\n",
       "      <td>0</td>\n",
       "      <td>0</td>\n",
       "      <td>0</td>\n",
       "      <td>0</td>\n",
       "      <td>0</td>\n",
       "      <td>1</td>\n",
       "      <td>0</td>\n",
       "    </tr>\n",
       "  </tbody>\n",
       "</table>\n",
       "<p>5 rows × 70 columns</p>\n",
       "</div>"
      ],
      "text/plain": [
       "      TotalVisits  Total Time Spent on Website  Page Views Per Visit  Country  \\\n",
       "8412    -0.917804                    -0.895783             -1.067584        0   \n",
       "3291    -0.917804                    -0.895783             -1.067584        0   \n",
       "8068    -0.917804                    -0.895783             -1.067584        0   \n",
       "987     -0.640039                     0.587007             -0.593290        1   \n",
       "7421     6.581832                    -0.510076             -0.118995        0   \n",
       "\n",
       "      A free copy of Mastering The Interview  Lead Source_Direct Traffic  \\\n",
       "8412                                       0                           0   \n",
       "3291                                       0                           0   \n",
       "8068                                       0                           0   \n",
       "987                                        0                           0   \n",
       "7421                                       1                           1   \n",
       "\n",
       "      Lead Source_Facebook  Lead Source_Google  Lead Source_Live Chat  \\\n",
       "8412                     0                   0                      0   \n",
       "3291                     0                   0                      0   \n",
       "8068                     0                   0                      0   \n",
       "987                      0                   0                      0   \n",
       "7421                     0                   0                      0   \n",
       "\n",
       "      Lead Source_NC_EDM  ...  Specialization_Media and Advertising  \\\n",
       "8412                   0  ...                                     0   \n",
       "3291                   0  ...                                     0   \n",
       "8068                   0  ...                                     0   \n",
       "987                    0  ...                                     0   \n",
       "7421                   0  ...                                     0   \n",
       "\n",
       "      Specialization_Rural and Agribusiness  \\\n",
       "8412                                      0   \n",
       "3291                                      0   \n",
       "8068                                      0   \n",
       "987                                       0   \n",
       "7421                                      0   \n",
       "\n",
       "      Specialization_Services Excellence  Specialization_Travel and Tourism  \\\n",
       "8412                                   0                                  0   \n",
       "3291                                   0                                  0   \n",
       "8068                                   0                                  0   \n",
       "987                                    0                                  0   \n",
       "7421                                   0                                  0   \n",
       "\n",
       "      Specialization_Unknown  What is your current occupation_Housewife  \\\n",
       "8412                       1                                          0   \n",
       "3291                       1                                          0   \n",
       "8068                       0                                          0   \n",
       "987                        1                                          0   \n",
       "7421                       0                                          0   \n",
       "\n",
       "      What is your current occupation_Others  \\\n",
       "8412                                       0   \n",
       "3291                                       0   \n",
       "8068                                       0   \n",
       "987                                        1   \n",
       "7421                                       0   \n",
       "\n",
       "      What is your current occupation_Student  \\\n",
       "8412                                        0   \n",
       "3291                                        0   \n",
       "8068                                        0   \n",
       "987                                         0   \n",
       "7421                                        0   \n",
       "\n",
       "      What is your current occupation_Unemployed  \\\n",
       "8412                                           1   \n",
       "3291                                           1   \n",
       "8068                                           1   \n",
       "987                                            0   \n",
       "7421                                           1   \n",
       "\n",
       "      What is your current occupation_Working Professional  \n",
       "8412                                                  0     \n",
       "3291                                                  0     \n",
       "8068                                                  0     \n",
       "987                                                   0     \n",
       "7421                                                  0     \n",
       "\n",
       "[5 rows x 70 columns]"
      ]
     },
     "execution_count": 74,
     "metadata": {},
     "output_type": "execute_result"
    }
   ],
   "source": [
    "scaler = StandardScaler()\n",
    "\n",
    "X_train[['TotalVisits','Page Views Per Visit','Total Time Spent on Website']] = scaler.fit_transform(X_train[['TotalVisits','Page Views Per Visit','Total Time Spent on Website']])\n",
    "\n",
    "X_train.head()"
   ]
  },
  {
   "cell_type": "code",
   "execution_count": 75,
   "id": "f109f1aa",
   "metadata": {},
   "outputs": [
    {
     "data": {
      "text/plain": [
       "38.54482459939368"
      ]
     },
     "execution_count": 75,
     "metadata": {},
     "output_type": "execute_result"
    }
   ],
   "source": [
    "# Checking the Conversion Rate\n",
    "Converted = (sum(leads['Converted'])/len(leads['Converted'].index))*100\n",
    "Converted"
   ]
  },
  {
   "cell_type": "markdown",
   "id": "2fdd0038",
   "metadata": {},
   "source": [
    "#### It can be seen that the conversion rate according to the given dataset is 38.54%.In order to improve this rate we will fit a logistic regression model on the test and train dataset to identify the important variables which impact this rate."
   ]
  },
  {
   "cell_type": "markdown",
   "id": "1a827842",
   "metadata": {},
   "source": [
    "## Model building"
   ]
  },
  {
   "cell_type": "code",
   "execution_count": 76,
   "id": "6a8a9b53",
   "metadata": {},
   "outputs": [],
   "source": [
    "#Using the Logistic regression model\n",
    "logreg = LogisticRegression()"
   ]
  },
  {
   "cell_type": "markdown",
   "id": "a483aa15",
   "metadata": {},
   "source": [
    " ### Feature selection using RFE"
   ]
  },
  {
   "cell_type": "code",
   "execution_count": 77,
   "id": "d82e24e1",
   "metadata": {},
   "outputs": [],
   "source": [
    "#Importing RFE and fitting the model\n",
    "from sklearn.feature_selection import RFE\n",
    "rfe = RFE(logreg, 15)            \n",
    "rfe = rfe.fit(X_train, y_train)"
   ]
  },
  {
   "cell_type": "code",
   "execution_count": 78,
   "id": "0270fcb5",
   "metadata": {},
   "outputs": [
    {
     "data": {
      "text/plain": [
       "array([False,  True, False, False, False, False,  True, False, False,\n",
       "        True, False, False, False, False, False, False, False, False,\n",
       "        True, False, False, False, False, False, False, False, False,\n",
       "        True,  True, False, False, False, False, False, False, False,\n",
       "        True, False, False,  True, False, False, False, False, False,\n",
       "       False, False,  True,  True,  True,  True, False,  True, False,\n",
       "       False,  True, False, False, False, False, False, False, False,\n",
       "       False, False, False,  True, False, False, False])"
      ]
     },
     "execution_count": 78,
     "metadata": {},
     "output_type": "execute_result"
    }
   ],
   "source": [
    "#Checking the rfe output\n",
    "rfe.support_"
   ]
  },
  {
   "cell_type": "code",
   "execution_count": 79,
   "id": "360381ac",
   "metadata": {},
   "outputs": [
    {
     "data": {
      "text/plain": [
       "[('TotalVisits', False, 38),\n",
       " ('Total Time Spent on Website', True, 1),\n",
       " ('Page Views Per Visit', False, 39),\n",
       " ('Country', False, 13),\n",
       " ('A free copy of Mastering The Interview', False, 41),\n",
       " ('Lead Source_Direct Traffic', False, 22),\n",
       " ('Lead Source_Facebook', True, 1),\n",
       " ('Lead Source_Google', False, 27),\n",
       " ('Lead Source_Live Chat', False, 48),\n",
       " ('Lead Source_NC_EDM', True, 1),\n",
       " ('Lead Source_Olark Chat', False, 33),\n",
       " ('Lead Source_Organic Search', False, 28),\n",
       " ('Lead Source_Pay per Click Ads', False, 49),\n",
       " ('Lead Source_Press_Release', False, 45),\n",
       " ('Lead Source_Reference', False, 19),\n",
       " ('Lead Source_Referral Sites', False, 29),\n",
       " ('Lead Source_Social Media', False, 43),\n",
       " ('Lead Source_WeLearn', False, 42),\n",
       " ('Lead Source_Welingak Website', True, 1),\n",
       " ('Lead Source_bing', False, 31),\n",
       " ('Lead Source_blog', False, 35),\n",
       " ('Lead Source_testone', False, 50),\n",
       " ('Lead Source_youtubechannel', False, 55),\n",
       " ('Lead Origin_Landing Page Submission', False, 2),\n",
       " ('Lead Origin_Lead Add Form', False, 18),\n",
       " ('Lead Origin_Lead Import', False, 11),\n",
       " ('Lead Origin_Quick Add Form', False, 54),\n",
       " ('Last Activity_Converted to Lead', True, 1),\n",
       " ('Last Activity_Email Bounced', True, 1),\n",
       " ('Last Activity_Email Link Clicked', False, 47),\n",
       " ('Last Activity_Email Marked Spam', False, 51),\n",
       " ('Last Activity_Email Opened', False, 9),\n",
       " ('Last Activity_Email Received', False, 46),\n",
       " ('Last Activity_Form Submitted on Website', False, 40),\n",
       " ('Last Activity_Had a Phone Conversation', False, 17),\n",
       " ('Last Activity_None', False, 23),\n",
       " ('Last Activity_Olark Chat Conversation', True, 1),\n",
       " ('Last Activity_Page Visited on Website', False, 36),\n",
       " ('Last Activity_Resubscribed to emails', False, 56),\n",
       " ('Last Activity_SMS Sent', True, 1),\n",
       " ('Last Activity_Unreachable', False, 7),\n",
       " ('Last Activity_Unsubscribed', False, 8),\n",
       " ('Last Activity_View in browser link Clicked', False, 32),\n",
       " ('Last Activity_Visited Booth in Tradeshow', False, 52),\n",
       " ('Tags_Graduation in progress', False, 26),\n",
       " ('Tags_Interested  in full time MBA', False, 6),\n",
       " ('Tags_Interested in other courses', False, 3),\n",
       " ('Tags_Lateral student', True, 1),\n",
       " ('Tags_Lost to others', True, 1),\n",
       " ('Tags_Next_batch', True, 1),\n",
       " ('Tags_Not Eligible', True, 1),\n",
       " ('Tags_Not Reachable', False, 5),\n",
       " ('Tags_Not Specified', True, 1),\n",
       " ('Tags_Not doing further education', False, 4),\n",
       " ('Tags_Undecided', False, 12),\n",
       " ('Tags_Will revert after reading the email', True, 1),\n",
       " ('Specialization_E-Business', False, 10),\n",
       " ('Specialization_E-COMMERCE', False, 44),\n",
       " ('Specialization_International Business', False, 34),\n",
       " ('Specialization_MBA Specializations', False, 37),\n",
       " ('Specialization_Media and Advertising', False, 53),\n",
       " ('Specialization_Rural and Agribusiness', False, 14),\n",
       " ('Specialization_Services Excellence', False, 25),\n",
       " ('Specialization_Travel and Tourism', False, 21),\n",
       " ('Specialization_Unknown', False, 24),\n",
       " ('What is your current occupation_Housewife', False, 20),\n",
       " ('What is your current occupation_Others', True, 1),\n",
       " ('What is your current occupation_Student', False, 30),\n",
       " ('What is your current occupation_Unemployed', False, 16),\n",
       " ('What is your current occupation_Working Professional', False, 15)]"
      ]
     },
     "execution_count": 79,
     "metadata": {},
     "output_type": "execute_result"
    }
   ],
   "source": [
    "#Checking the RFE ranking of the columns\n",
    "list(zip(X_train.columns, rfe.support_, rfe.ranking_))"
   ]
  },
  {
   "cell_type": "code",
   "execution_count": 80,
   "id": "0b9bb7ca",
   "metadata": {},
   "outputs": [],
   "source": [
    "#Assigning the selected columns to col\n",
    "col = X_train.columns[rfe.support_]"
   ]
  },
  {
   "cell_type": "code",
   "execution_count": 81,
   "id": "2f66a257",
   "metadata": {},
   "outputs": [
    {
     "data": {
      "text/plain": [
       "Index(['TotalVisits', 'Page Views Per Visit', 'Country',\n",
       "       'A free copy of Mastering The Interview', 'Lead Source_Direct Traffic',\n",
       "       'Lead Source_Google', 'Lead Source_Live Chat', 'Lead Source_Olark Chat',\n",
       "       'Lead Source_Organic Search', 'Lead Source_Pay per Click Ads',\n",
       "       'Lead Source_Press_Release', 'Lead Source_Reference',\n",
       "       'Lead Source_Referral Sites', 'Lead Source_Social Media',\n",
       "       'Lead Source_WeLearn', 'Lead Source_bing', 'Lead Source_blog',\n",
       "       'Lead Source_testone', 'Lead Source_youtubechannel',\n",
       "       'Lead Origin_Landing Page Submission', 'Lead Origin_Lead Add Form',\n",
       "       'Lead Origin_Lead Import', 'Lead Origin_Quick Add Form',\n",
       "       'Last Activity_Email Link Clicked', 'Last Activity_Email Marked Spam',\n",
       "       'Last Activity_Email Opened', 'Last Activity_Email Received',\n",
       "       'Last Activity_Form Submitted on Website',\n",
       "       'Last Activity_Had a Phone Conversation', 'Last Activity_None',\n",
       "       'Last Activity_Page Visited on Website',\n",
       "       'Last Activity_Resubscribed to emails', 'Last Activity_Unreachable',\n",
       "       'Last Activity_Unsubscribed',\n",
       "       'Last Activity_View in browser link Clicked',\n",
       "       'Last Activity_Visited Booth in Tradeshow',\n",
       "       'Tags_Graduation in progress', 'Tags_Interested  in full time MBA',\n",
       "       'Tags_Interested in other courses', 'Tags_Not Reachable',\n",
       "       'Tags_Not doing further education', 'Tags_Undecided',\n",
       "       'Specialization_E-Business', 'Specialization_E-COMMERCE',\n",
       "       'Specialization_International Business',\n",
       "       'Specialization_MBA Specializations',\n",
       "       'Specialization_Media and Advertising',\n",
       "       'Specialization_Rural and Agribusiness',\n",
       "       'Specialization_Services Excellence',\n",
       "       'Specialization_Travel and Tourism', 'Specialization_Unknown',\n",
       "       'What is your current occupation_Housewife',\n",
       "       'What is your current occupation_Student',\n",
       "       'What is your current occupation_Unemployed',\n",
       "       'What is your current occupation_Working Professional'],\n",
       "      dtype='object')"
      ]
     },
     "execution_count": 81,
     "metadata": {},
     "output_type": "execute_result"
    }
   ],
   "source": [
    "#Removing the columns not selected by RFE from Xtrain\n",
    "X_train.columns[~rfe.support_]"
   ]
  },
  {
   "cell_type": "code",
   "execution_count": 82,
   "id": "4ee4096d",
   "metadata": {},
   "outputs": [
    {
     "data": {
      "text/html": [
       "<table class=\"simpletable\">\n",
       "<caption>Generalized Linear Model Regression Results</caption>\n",
       "<tr>\n",
       "  <th>Dep. Variable:</th>       <td>Converted</td>    <th>  No. Observations:  </th>  <td>  6465</td> \n",
       "</tr>\n",
       "<tr>\n",
       "  <th>Model:</th>                  <td>GLM</td>       <th>  Df Residuals:      </th>  <td>  6449</td> \n",
       "</tr>\n",
       "<tr>\n",
       "  <th>Model Family:</th>        <td>Binomial</td>     <th>  Df Model:          </th>  <td>    15</td> \n",
       "</tr>\n",
       "<tr>\n",
       "  <th>Link Function:</th>         <td>logit</td>      <th>  Scale:             </th> <td>  1.0000</td>\n",
       "</tr>\n",
       "<tr>\n",
       "  <th>Method:</th>                <td>IRLS</td>       <th>  Log-Likelihood:    </th> <td> -1314.4</td>\n",
       "</tr>\n",
       "<tr>\n",
       "  <th>Date:</th>            <td>Tue, 12 Apr 2022</td> <th>  Deviance:          </th> <td>  2628.8</td>\n",
       "</tr>\n",
       "<tr>\n",
       "  <th>Time:</th>                <td>13:56:45</td>     <th>  Pearson chi2:      </th> <td>7.52e+03</td>\n",
       "</tr>\n",
       "<tr>\n",
       "  <th>No. Iterations:</th>         <td>23</td>        <th>                     </th>     <td> </td>   \n",
       "</tr>\n",
       "<tr>\n",
       "  <th>Covariance Type:</th>     <td>nonrobust</td>    <th>                     </th>     <td> </td>   \n",
       "</tr>\n",
       "</table>\n",
       "<table class=\"simpletable\">\n",
       "<tr>\n",
       "                      <td></td>                        <th>coef</th>     <th>std err</th>      <th>z</th>      <th>P>|z|</th>  <th>[0.025</th>    <th>0.975]</th>  \n",
       "</tr>\n",
       "<tr>\n",
       "  <th>const</th>                                    <td>   -3.7083</td> <td>    0.131</td> <td>  -28.343</td> <td> 0.000</td> <td>   -3.965</td> <td>   -3.452</td>\n",
       "</tr>\n",
       "<tr>\n",
       "  <th>Total Time Spent on Website</th>              <td>    0.8872</td> <td>    0.052</td> <td>   16.939</td> <td> 0.000</td> <td>    0.785</td> <td>    0.990</td>\n",
       "</tr>\n",
       "<tr>\n",
       "  <th>Lead Source_Facebook</th>                     <td>   -1.1371</td> <td>    0.688</td> <td>   -1.653</td> <td> 0.098</td> <td>   -2.485</td> <td>    0.211</td>\n",
       "</tr>\n",
       "<tr>\n",
       "  <th>Lead Source_NC_EDM</th>                       <td>   26.2152</td> <td> 1.31e+05</td> <td>    0.000</td> <td> 1.000</td> <td>-2.57e+05</td> <td> 2.57e+05</td>\n",
       "</tr>\n",
       "<tr>\n",
       "  <th>Lead Source_Welingak Website</th>             <td>    4.0214</td> <td>    1.040</td> <td>    3.868</td> <td> 0.000</td> <td>    1.983</td> <td>    6.059</td>\n",
       "</tr>\n",
       "<tr>\n",
       "  <th>Last Activity_Converted to Lead</th>          <td>   -1.5445</td> <td>    0.326</td> <td>   -4.742</td> <td> 0.000</td> <td>   -2.183</td> <td>   -0.906</td>\n",
       "</tr>\n",
       "<tr>\n",
       "  <th>Last Activity_Email Bounced</th>              <td>   -2.3319</td> <td>    0.411</td> <td>   -5.675</td> <td> 0.000</td> <td>   -3.137</td> <td>   -1.527</td>\n",
       "</tr>\n",
       "<tr>\n",
       "  <th>Last Activity_Olark Chat Conversation</th>    <td>   -1.0248</td> <td>    0.230</td> <td>   -4.457</td> <td> 0.000</td> <td>   -1.475</td> <td>   -0.574</td>\n",
       "</tr>\n",
       "<tr>\n",
       "  <th>Last Activity_SMS Sent</th>                   <td>    1.7665</td> <td>    0.116</td> <td>   15.277</td> <td> 0.000</td> <td>    1.540</td> <td>    1.993</td>\n",
       "</tr>\n",
       "<tr>\n",
       "  <th>Tags_Lateral student</th>                     <td>   27.0329</td> <td> 7.46e+04</td> <td>    0.000</td> <td> 1.000</td> <td>-1.46e+05</td> <td> 1.46e+05</td>\n",
       "</tr>\n",
       "<tr>\n",
       "  <th>Tags_Lost to others</th>                      <td>    7.3749</td> <td>    0.312</td> <td>   23.618</td> <td> 0.000</td> <td>    6.763</td> <td>    7.987</td>\n",
       "</tr>\n",
       "<tr>\n",
       "  <th>Tags_Next_batch</th>                          <td>    4.3025</td> <td>    1.262</td> <td>    3.410</td> <td> 0.001</td> <td>    1.830</td> <td>    6.775</td>\n",
       "</tr>\n",
       "<tr>\n",
       "  <th>Tags_Not Eligible</th>                        <td>  -21.1376</td> <td> 1.71e+04</td> <td>   -0.001</td> <td> 0.999</td> <td>-3.34e+04</td> <td> 3.34e+04</td>\n",
       "</tr>\n",
       "<tr>\n",
       "  <th>Tags_Not Specified</th>                       <td>    4.1376</td> <td>    0.169</td> <td>   24.547</td> <td> 0.000</td> <td>    3.807</td> <td>    4.468</td>\n",
       "</tr>\n",
       "<tr>\n",
       "  <th>Tags_Will revert after reading the email</th> <td>    6.6269</td> <td>    0.197</td> <td>   33.677</td> <td> 0.000</td> <td>    6.241</td> <td>    7.013</td>\n",
       "</tr>\n",
       "<tr>\n",
       "  <th>What is your current occupation_Others</th>   <td>   -2.7865</td> <td>    0.146</td> <td>  -19.096</td> <td> 0.000</td> <td>   -3.072</td> <td>   -2.500</td>\n",
       "</tr>\n",
       "</table>"
      ],
      "text/plain": [
       "<class 'statsmodels.iolib.summary.Summary'>\n",
       "\"\"\"\n",
       "                 Generalized Linear Model Regression Results                  \n",
       "==============================================================================\n",
       "Dep. Variable:              Converted   No. Observations:                 6465\n",
       "Model:                            GLM   Df Residuals:                     6449\n",
       "Model Family:                Binomial   Df Model:                           15\n",
       "Link Function:                  logit   Scale:                          1.0000\n",
       "Method:                          IRLS   Log-Likelihood:                -1314.4\n",
       "Date:                Tue, 12 Apr 2022   Deviance:                       2628.8\n",
       "Time:                        13:56:45   Pearson chi2:                 7.52e+03\n",
       "No. Iterations:                    23                                         \n",
       "Covariance Type:            nonrobust                                         \n",
       "============================================================================================================\n",
       "                                               coef    std err          z      P>|z|      [0.025      0.975]\n",
       "------------------------------------------------------------------------------------------------------------\n",
       "const                                       -3.7083      0.131    -28.343      0.000      -3.965      -3.452\n",
       "Total Time Spent on Website                  0.8872      0.052     16.939      0.000       0.785       0.990\n",
       "Lead Source_Facebook                        -1.1371      0.688     -1.653      0.098      -2.485       0.211\n",
       "Lead Source_NC_EDM                          26.2152   1.31e+05      0.000      1.000   -2.57e+05    2.57e+05\n",
       "Lead Source_Welingak Website                 4.0214      1.040      3.868      0.000       1.983       6.059\n",
       "Last Activity_Converted to Lead             -1.5445      0.326     -4.742      0.000      -2.183      -0.906\n",
       "Last Activity_Email Bounced                 -2.3319      0.411     -5.675      0.000      -3.137      -1.527\n",
       "Last Activity_Olark Chat Conversation       -1.0248      0.230     -4.457      0.000      -1.475      -0.574\n",
       "Last Activity_SMS Sent                       1.7665      0.116     15.277      0.000       1.540       1.993\n",
       "Tags_Lateral student                        27.0329   7.46e+04      0.000      1.000   -1.46e+05    1.46e+05\n",
       "Tags_Lost to others                          7.3749      0.312     23.618      0.000       6.763       7.987\n",
       "Tags_Next_batch                              4.3025      1.262      3.410      0.001       1.830       6.775\n",
       "Tags_Not Eligible                          -21.1376   1.71e+04     -0.001      0.999   -3.34e+04    3.34e+04\n",
       "Tags_Not Specified                           4.1376      0.169     24.547      0.000       3.807       4.468\n",
       "Tags_Will revert after reading the email     6.6269      0.197     33.677      0.000       6.241       7.013\n",
       "What is your current occupation_Others      -2.7865      0.146    -19.096      0.000      -3.072      -2.500\n",
       "============================================================================================================\n",
       "\"\"\""
      ]
     },
     "execution_count": 82,
     "metadata": {},
     "output_type": "execute_result"
    }
   ],
   "source": [
    "#Adding the constant and fitting the logreg model\n",
    "X_train_sm = sm.add_constant(X_train[col])\n",
    "logm1 = sm.GLM(y_train,X_train_sm, family = sm.families.Binomial())\n",
    "res = logm1.fit()\n",
    "res.summary()"
   ]
  },
  {
   "cell_type": "markdown",
   "id": "b6f24890",
   "metadata": {},
   "source": [
    "#### It can be seen that \"Lead Source_NC_EDM\",\"Tags_Lateral student\",\"Tags_Not Eligible\t\" have high p-values which indicate that they are not significant.Hence we will check the VIF values and proceed by dropping one of these columns."
   ]
  },
  {
   "cell_type": "code",
   "execution_count": 83,
   "id": "d4745b3a",
   "metadata": {},
   "outputs": [
    {
     "data": {
      "text/plain": [
       "8412    0.999827\n",
       "3291    0.979970\n",
       "8068    0.893196\n",
       "987     0.032897\n",
       "7421    0.961360\n",
       "1032    0.974011\n",
       "8684    0.982303\n",
       "4318    0.984896\n",
       "7296    0.085474\n",
       "712     0.003007\n",
       "dtype: float64"
      ]
     },
     "execution_count": 83,
     "metadata": {},
     "output_type": "execute_result"
    }
   ],
   "source": [
    "# Getting the predicted values on the train set\n",
    "y_train_pred = res.predict(X_train_sm)\n",
    "y_train_pred[:10]"
   ]
  },
  {
   "cell_type": "code",
   "execution_count": 84,
   "id": "96885bd3",
   "metadata": {},
   "outputs": [
    {
     "data": {
      "text/plain": [
       "array([0.9998266 , 0.97996956, 0.89319621, 0.03289692, 0.96136007,\n",
       "       0.9740114 , 0.98230299, 0.98489639, 0.08547403, 0.00300678])"
      ]
     },
     "execution_count": 84,
     "metadata": {},
     "output_type": "execute_result"
    }
   ],
   "source": [
    "#Reshaping the values\n",
    "y_train_pred = y_train_pred.values.reshape(-1)\n",
    "y_train_pred[:10]"
   ]
  },
  {
   "cell_type": "code",
   "execution_count": 85,
   "id": "b50e8c05",
   "metadata": {},
   "outputs": [
    {
     "data": {
      "text/html": [
       "<div>\n",
       "<style scoped>\n",
       "    .dataframe tbody tr th:only-of-type {\n",
       "        vertical-align: middle;\n",
       "    }\n",
       "\n",
       "    .dataframe tbody tr th {\n",
       "        vertical-align: top;\n",
       "    }\n",
       "\n",
       "    .dataframe thead th {\n",
       "        text-align: right;\n",
       "    }\n",
       "</style>\n",
       "<table border=\"1\" class=\"dataframe\">\n",
       "  <thead>\n",
       "    <tr style=\"text-align: right;\">\n",
       "      <th></th>\n",
       "      <th>Converted</th>\n",
       "      <th>Converted_Prob</th>\n",
       "      <th>Lead Number</th>\n",
       "    </tr>\n",
       "  </thead>\n",
       "  <tbody>\n",
       "    <tr>\n",
       "      <th>0</th>\n",
       "      <td>1</td>\n",
       "      <td>0.999827</td>\n",
       "      <td>8412</td>\n",
       "    </tr>\n",
       "    <tr>\n",
       "      <th>1</th>\n",
       "      <td>1</td>\n",
       "      <td>0.979970</td>\n",
       "      <td>3291</td>\n",
       "    </tr>\n",
       "    <tr>\n",
       "      <th>2</th>\n",
       "      <td>1</td>\n",
       "      <td>0.893196</td>\n",
       "      <td>8068</td>\n",
       "    </tr>\n",
       "    <tr>\n",
       "      <th>3</th>\n",
       "      <td>0</td>\n",
       "      <td>0.032897</td>\n",
       "      <td>987</td>\n",
       "    </tr>\n",
       "    <tr>\n",
       "      <th>4</th>\n",
       "      <td>1</td>\n",
       "      <td>0.961360</td>\n",
       "      <td>7421</td>\n",
       "    </tr>\n",
       "  </tbody>\n",
       "</table>\n",
       "</div>"
      ],
      "text/plain": [
       "   Converted  Converted_Prob  Lead Number\n",
       "0          1        0.999827         8412\n",
       "1          1        0.979970         3291\n",
       "2          1        0.893196         8068\n",
       "3          0        0.032897          987\n",
       "4          1        0.961360         7421"
      ]
     },
     "execution_count": 85,
     "metadata": {},
     "output_type": "execute_result"
    }
   ],
   "source": [
    "#Creating a dataframe of predicted values for y-train\n",
    "y_train_pred_final = pd.DataFrame({'Converted':y_train.values, 'Converted_Prob':y_train_pred})\n",
    "y_train_pred_final['Lead Number'] = y_train.index\n",
    "y_train_pred_final.head()"
   ]
  },
  {
   "cell_type": "code",
   "execution_count": 86,
   "id": "f36f281f",
   "metadata": {},
   "outputs": [
    {
     "data": {
      "text/html": [
       "<div>\n",
       "<style scoped>\n",
       "    .dataframe tbody tr th:only-of-type {\n",
       "        vertical-align: middle;\n",
       "    }\n",
       "\n",
       "    .dataframe tbody tr th {\n",
       "        vertical-align: top;\n",
       "    }\n",
       "\n",
       "    .dataframe thead th {\n",
       "        text-align: right;\n",
       "    }\n",
       "</style>\n",
       "<table border=\"1\" class=\"dataframe\">\n",
       "  <thead>\n",
       "    <tr style=\"text-align: right;\">\n",
       "      <th></th>\n",
       "      <th>Converted</th>\n",
       "      <th>Converted_Prob</th>\n",
       "      <th>Lead Number</th>\n",
       "      <th>predicted</th>\n",
       "    </tr>\n",
       "  </thead>\n",
       "  <tbody>\n",
       "    <tr>\n",
       "      <th>0</th>\n",
       "      <td>1</td>\n",
       "      <td>0.999827</td>\n",
       "      <td>8412</td>\n",
       "      <td>1</td>\n",
       "    </tr>\n",
       "    <tr>\n",
       "      <th>1</th>\n",
       "      <td>1</td>\n",
       "      <td>0.979970</td>\n",
       "      <td>3291</td>\n",
       "      <td>1</td>\n",
       "    </tr>\n",
       "    <tr>\n",
       "      <th>2</th>\n",
       "      <td>1</td>\n",
       "      <td>0.893196</td>\n",
       "      <td>8068</td>\n",
       "      <td>1</td>\n",
       "    </tr>\n",
       "    <tr>\n",
       "      <th>3</th>\n",
       "      <td>0</td>\n",
       "      <td>0.032897</td>\n",
       "      <td>987</td>\n",
       "      <td>0</td>\n",
       "    </tr>\n",
       "    <tr>\n",
       "      <th>4</th>\n",
       "      <td>1</td>\n",
       "      <td>0.961360</td>\n",
       "      <td>7421</td>\n",
       "      <td>1</td>\n",
       "    </tr>\n",
       "  </tbody>\n",
       "</table>\n",
       "</div>"
      ],
      "text/plain": [
       "   Converted  Converted_Prob  Lead Number  predicted\n",
       "0          1        0.999827         8412          1\n",
       "1          1        0.979970         3291          1\n",
       "2          1        0.893196         8068          1\n",
       "3          0        0.032897          987          0\n",
       "4          1        0.961360         7421          1"
      ]
     },
     "execution_count": 86,
     "metadata": {},
     "output_type": "execute_result"
    }
   ],
   "source": [
    "#Adding the predicted values to the dataframe with a cutoff of 0.25\n",
    "y_train_pred_final['predicted'] = y_train_pred_final.Converted_Prob.map(lambda x: 1 if x >0.25 else 0)\n",
    "\n",
    "y_train_pred_final.head()"
   ]
  },
  {
   "cell_type": "markdown",
   "id": "8c297d18",
   "metadata": {},
   "source": [
    "#### Initially we are assuming the cutoff value to be 0.25."
   ]
  },
  {
   "cell_type": "code",
   "execution_count": 87,
   "id": "1237ee27",
   "metadata": {},
   "outputs": [
    {
     "name": "stdout",
     "output_type": "stream",
     "text": [
      "[[3575  400]\n",
      " [ 175 2315]]\n"
     ]
    }
   ],
   "source": [
    "#Creating the confusion matrix\n",
    "confusion = metrics.confusion_matrix(y_train_pred_final.Converted, y_train_pred_final.predicted )\n",
    "\n",
    "print(confusion)"
   ]
  },
  {
   "cell_type": "code",
   "execution_count": 88,
   "id": "84bb0c78",
   "metadata": {},
   "outputs": [
    {
     "name": "stdout",
     "output_type": "stream",
     "text": [
      "0.9110595514307811\n"
     ]
    }
   ],
   "source": [
    "#Checking the overall accuracy.\n",
    "print(metrics.accuracy_score(y_train_pred_final.Converted, y_train_pred_final.predicted))"
   ]
  },
  {
   "cell_type": "markdown",
   "id": "95c97de5",
   "metadata": {},
   "source": [
    "#### We can see that this model has an accuracy of 91.1% which indicates that the model is good.But there are some variables which have very high p-value which means that they are insignificant.The VIF values can be checked to see if the value is high for any of the variables."
   ]
  },
  {
   "cell_type": "code",
   "execution_count": 89,
   "id": "6d8f5641",
   "metadata": {},
   "outputs": [
    {
     "data": {
      "text/html": [
       "<div>\n",
       "<style scoped>\n",
       "    .dataframe tbody tr th:only-of-type {\n",
       "        vertical-align: middle;\n",
       "    }\n",
       "\n",
       "    .dataframe tbody tr th {\n",
       "        vertical-align: top;\n",
       "    }\n",
       "\n",
       "    .dataframe thead th {\n",
       "        text-align: right;\n",
       "    }\n",
       "</style>\n",
       "<table border=\"1\" class=\"dataframe\">\n",
       "  <thead>\n",
       "    <tr style=\"text-align: right;\">\n",
       "      <th></th>\n",
       "      <th>Features</th>\n",
       "      <th>VIF</th>\n",
       "    </tr>\n",
       "  </thead>\n",
       "  <tbody>\n",
       "    <tr>\n",
       "      <th>12</th>\n",
       "      <td>Tags_Not Specified</td>\n",
       "      <td>4.74</td>\n",
       "    </tr>\n",
       "    <tr>\n",
       "      <th>14</th>\n",
       "      <td>What is your current occupation_Others</td>\n",
       "      <td>4.40</td>\n",
       "    </tr>\n",
       "    <tr>\n",
       "      <th>7</th>\n",
       "      <td>Last Activity_SMS Sent</td>\n",
       "      <td>1.43</td>\n",
       "    </tr>\n",
       "    <tr>\n",
       "      <th>13</th>\n",
       "      <td>Tags_Will revert after reading the email</td>\n",
       "      <td>1.35</td>\n",
       "    </tr>\n",
       "    <tr>\n",
       "      <th>6</th>\n",
       "      <td>Last Activity_Olark Chat Conversation</td>\n",
       "      <td>1.19</td>\n",
       "    </tr>\n",
       "    <tr>\n",
       "      <th>0</th>\n",
       "      <td>Total Time Spent on Website</td>\n",
       "      <td>1.13</td>\n",
       "    </tr>\n",
       "    <tr>\n",
       "      <th>3</th>\n",
       "      <td>Lead Source_Welingak Website</td>\n",
       "      <td>1.13</td>\n",
       "    </tr>\n",
       "    <tr>\n",
       "      <th>9</th>\n",
       "      <td>Tags_Lost to others</td>\n",
       "      <td>1.05</td>\n",
       "    </tr>\n",
       "    <tr>\n",
       "      <th>5</th>\n",
       "      <td>Last Activity_Email Bounced</td>\n",
       "      <td>1.04</td>\n",
       "    </tr>\n",
       "    <tr>\n",
       "      <th>4</th>\n",
       "      <td>Last Activity_Converted to Lead</td>\n",
       "      <td>1.03</td>\n",
       "    </tr>\n",
       "    <tr>\n",
       "      <th>1</th>\n",
       "      <td>Lead Source_Facebook</td>\n",
       "      <td>1.00</td>\n",
       "    </tr>\n",
       "    <tr>\n",
       "      <th>2</th>\n",
       "      <td>Lead Source_NC_EDM</td>\n",
       "      <td>1.00</td>\n",
       "    </tr>\n",
       "    <tr>\n",
       "      <th>8</th>\n",
       "      <td>Tags_Lateral student</td>\n",
       "      <td>1.00</td>\n",
       "    </tr>\n",
       "    <tr>\n",
       "      <th>10</th>\n",
       "      <td>Tags_Next_batch</td>\n",
       "      <td>1.00</td>\n",
       "    </tr>\n",
       "    <tr>\n",
       "      <th>11</th>\n",
       "      <td>Tags_Not Eligible</td>\n",
       "      <td>1.00</td>\n",
       "    </tr>\n",
       "  </tbody>\n",
       "</table>\n",
       "</div>"
      ],
      "text/plain": [
       "                                    Features   VIF\n",
       "12                        Tags_Not Specified  4.74\n",
       "14    What is your current occupation_Others  4.40\n",
       "7                     Last Activity_SMS Sent  1.43\n",
       "13  Tags_Will revert after reading the email  1.35\n",
       "6      Last Activity_Olark Chat Conversation  1.19\n",
       "0                Total Time Spent on Website  1.13\n",
       "3               Lead Source_Welingak Website  1.13\n",
       "9                        Tags_Lost to others  1.05\n",
       "5                Last Activity_Email Bounced  1.04\n",
       "4            Last Activity_Converted to Lead  1.03\n",
       "1                       Lead Source_Facebook  1.00\n",
       "2                         Lead Source_NC_EDM  1.00\n",
       "8                       Tags_Lateral student  1.00\n",
       "10                           Tags_Next_batch  1.00\n",
       "11                         Tags_Not Eligible  1.00"
      ]
     },
     "execution_count": 89,
     "metadata": {},
     "output_type": "execute_result"
    }
   ],
   "source": [
    "#Checking the VIF\n",
    "vif = pd.DataFrame()\n",
    "vif['Features'] = X_train[col].columns\n",
    "vif['VIF'] = [variance_inflation_factor(X_train[col].values, i) for i in range(X_train[col].shape[1])]\n",
    "vif['VIF'] = round(vif['VIF'], 2)\n",
    "vif = vif.sort_values(by = \"VIF\", ascending = False)\n",
    "vif"
   ]
  },
  {
   "cell_type": "markdown",
   "id": "9b070a07",
   "metadata": {},
   "source": [
    "#### We can see that the VIF values for all the features are below 5.But the p-value for the feature Tags_Lateral Student is 1.0 which makes it insignificant.Hence we will drop this column and check the model again."
   ]
  },
  {
   "cell_type": "code",
   "execution_count": 90,
   "id": "46b42ca8",
   "metadata": {},
   "outputs": [
    {
     "data": {
      "text/plain": [
       "Index(['Total Time Spent on Website', 'Lead Source_Facebook',\n",
       "       'Lead Source_NC_EDM', 'Lead Source_Welingak Website',\n",
       "       'Last Activity_Converted to Lead', 'Last Activity_Email Bounced',\n",
       "       'Last Activity_Olark Chat Conversation', 'Last Activity_SMS Sent',\n",
       "       'Tags_Lost to others', 'Tags_Next_batch', 'Tags_Not Eligible',\n",
       "       'Tags_Not Specified', 'Tags_Will revert after reading the email',\n",
       "       'What is your current occupation_Others'],\n",
       "      dtype='object')"
      ]
     },
     "execution_count": 90,
     "metadata": {},
     "output_type": "execute_result"
    }
   ],
   "source": [
    "#Dropping the insignificant column\n",
    "col = col.drop('Tags_Lateral student')\n",
    "col"
   ]
  },
  {
   "cell_type": "code",
   "execution_count": 91,
   "id": "2bf137da",
   "metadata": {},
   "outputs": [
    {
     "data": {
      "text/html": [
       "<table class=\"simpletable\">\n",
       "<caption>Generalized Linear Model Regression Results</caption>\n",
       "<tr>\n",
       "  <th>Dep. Variable:</th>       <td>Converted</td>    <th>  No. Observations:  </th>  <td>  6465</td> \n",
       "</tr>\n",
       "<tr>\n",
       "  <th>Model:</th>                  <td>GLM</td>       <th>  Df Residuals:      </th>  <td>  6450</td> \n",
       "</tr>\n",
       "<tr>\n",
       "  <th>Model Family:</th>        <td>Binomial</td>     <th>  Df Model:          </th>  <td>    14</td> \n",
       "</tr>\n",
       "<tr>\n",
       "  <th>Link Function:</th>         <td>logit</td>      <th>  Scale:             </th> <td>  1.0000</td>\n",
       "</tr>\n",
       "<tr>\n",
       "  <th>Method:</th>                <td>IRLS</td>       <th>  Log-Likelihood:    </th> <td> -1321.8</td>\n",
       "</tr>\n",
       "<tr>\n",
       "  <th>Date:</th>            <td>Tue, 12 Apr 2022</td> <th>  Deviance:          </th> <td>  2643.6</td>\n",
       "</tr>\n",
       "<tr>\n",
       "  <th>Time:</th>                <td>13:56:45</td>     <th>  Pearson chi2:      </th> <td>7.48e+03</td>\n",
       "</tr>\n",
       "<tr>\n",
       "  <th>No. Iterations:</th>         <td>23</td>        <th>                     </th>     <td> </td>   \n",
       "</tr>\n",
       "<tr>\n",
       "  <th>Covariance Type:</th>     <td>nonrobust</td>    <th>                     </th>     <td> </td>   \n",
       "</tr>\n",
       "</table>\n",
       "<table class=\"simpletable\">\n",
       "<tr>\n",
       "                      <td></td>                        <th>coef</th>     <th>std err</th>      <th>z</th>      <th>P>|z|</th>  <th>[0.025</th>    <th>0.975]</th>  \n",
       "</tr>\n",
       "<tr>\n",
       "  <th>const</th>                                    <td>   -3.6837</td> <td>    0.130</td> <td>  -28.394</td> <td> 0.000</td> <td>   -3.938</td> <td>   -3.429</td>\n",
       "</tr>\n",
       "<tr>\n",
       "  <th>Total Time Spent on Website</th>              <td>    0.8796</td> <td>    0.052</td> <td>   16.862</td> <td> 0.000</td> <td>    0.777</td> <td>    0.982</td>\n",
       "</tr>\n",
       "<tr>\n",
       "  <th>Lead Source_Facebook</th>                     <td>   -1.1436</td> <td>    0.687</td> <td>   -1.664</td> <td> 0.096</td> <td>   -2.490</td> <td>    0.203</td>\n",
       "</tr>\n",
       "<tr>\n",
       "  <th>Lead Source_NC_EDM</th>                       <td>   26.2252</td> <td> 1.31e+05</td> <td>    0.000</td> <td> 1.000</td> <td>-2.57e+05</td> <td> 2.57e+05</td>\n",
       "</tr>\n",
       "<tr>\n",
       "  <th>Lead Source_Welingak Website</th>             <td>    4.0165</td> <td>    1.040</td> <td>    3.863</td> <td> 0.000</td> <td>    1.979</td> <td>    6.054</td>\n",
       "</tr>\n",
       "<tr>\n",
       "  <th>Last Activity_Converted to Lead</th>          <td>   -1.5409</td> <td>    0.325</td> <td>   -4.738</td> <td> 0.000</td> <td>   -2.178</td> <td>   -0.903</td>\n",
       "</tr>\n",
       "<tr>\n",
       "  <th>Last Activity_Email Bounced</th>              <td>   -2.3254</td> <td>    0.410</td> <td>   -5.668</td> <td> 0.000</td> <td>   -3.130</td> <td>   -1.521</td>\n",
       "</tr>\n",
       "<tr>\n",
       "  <th>Last Activity_Olark Chat Conversation</th>    <td>   -1.0242</td> <td>    0.230</td> <td>   -4.460</td> <td> 0.000</td> <td>   -1.474</td> <td>   -0.574</td>\n",
       "</tr>\n",
       "<tr>\n",
       "  <th>Last Activity_SMS Sent</th>                   <td>    1.7782</td> <td>    0.115</td> <td>   15.416</td> <td> 0.000</td> <td>    1.552</td> <td>    2.004</td>\n",
       "</tr>\n",
       "<tr>\n",
       "  <th>Tags_Lost to others</th>                      <td>    7.3489</td> <td>    0.312</td> <td>   23.573</td> <td> 0.000</td> <td>    6.738</td> <td>    7.960</td>\n",
       "</tr>\n",
       "<tr>\n",
       "  <th>Tags_Next_batch</th>                          <td>    4.2724</td> <td>    1.261</td> <td>    3.388</td> <td> 0.001</td> <td>    1.801</td> <td>    6.744</td>\n",
       "</tr>\n",
       "<tr>\n",
       "  <th>Tags_Not Eligible</th>                        <td>  -21.1584</td> <td> 1.71e+04</td> <td>   -0.001</td> <td> 0.999</td> <td>-3.35e+04</td> <td> 3.34e+04</td>\n",
       "</tr>\n",
       "<tr>\n",
       "  <th>Tags_Not Specified</th>                       <td>    4.1080</td> <td>    0.168</td> <td>   24.507</td> <td> 0.000</td> <td>    3.779</td> <td>    4.437</td>\n",
       "</tr>\n",
       "<tr>\n",
       "  <th>Tags_Will revert after reading the email</th> <td>    6.5984</td> <td>    0.196</td> <td>   33.668</td> <td> 0.000</td> <td>    6.214</td> <td>    6.982</td>\n",
       "</tr>\n",
       "<tr>\n",
       "  <th>What is your current occupation_Others</th>   <td>   -2.7853</td> <td>    0.146</td> <td>  -19.098</td> <td> 0.000</td> <td>   -3.071</td> <td>   -2.499</td>\n",
       "</tr>\n",
       "</table>"
      ],
      "text/plain": [
       "<class 'statsmodels.iolib.summary.Summary'>\n",
       "\"\"\"\n",
       "                 Generalized Linear Model Regression Results                  \n",
       "==============================================================================\n",
       "Dep. Variable:              Converted   No. Observations:                 6465\n",
       "Model:                            GLM   Df Residuals:                     6450\n",
       "Model Family:                Binomial   Df Model:                           14\n",
       "Link Function:                  logit   Scale:                          1.0000\n",
       "Method:                          IRLS   Log-Likelihood:                -1321.8\n",
       "Date:                Tue, 12 Apr 2022   Deviance:                       2643.6\n",
       "Time:                        13:56:45   Pearson chi2:                 7.48e+03\n",
       "No. Iterations:                    23                                         \n",
       "Covariance Type:            nonrobust                                         \n",
       "============================================================================================================\n",
       "                                               coef    std err          z      P>|z|      [0.025      0.975]\n",
       "------------------------------------------------------------------------------------------------------------\n",
       "const                                       -3.6837      0.130    -28.394      0.000      -3.938      -3.429\n",
       "Total Time Spent on Website                  0.8796      0.052     16.862      0.000       0.777       0.982\n",
       "Lead Source_Facebook                        -1.1436      0.687     -1.664      0.096      -2.490       0.203\n",
       "Lead Source_NC_EDM                          26.2252   1.31e+05      0.000      1.000   -2.57e+05    2.57e+05\n",
       "Lead Source_Welingak Website                 4.0165      1.040      3.863      0.000       1.979       6.054\n",
       "Last Activity_Converted to Lead             -1.5409      0.325     -4.738      0.000      -2.178      -0.903\n",
       "Last Activity_Email Bounced                 -2.3254      0.410     -5.668      0.000      -3.130      -1.521\n",
       "Last Activity_Olark Chat Conversation       -1.0242      0.230     -4.460      0.000      -1.474      -0.574\n",
       "Last Activity_SMS Sent                       1.7782      0.115     15.416      0.000       1.552       2.004\n",
       "Tags_Lost to others                          7.3489      0.312     23.573      0.000       6.738       7.960\n",
       "Tags_Next_batch                              4.2724      1.261      3.388      0.001       1.801       6.744\n",
       "Tags_Not Eligible                          -21.1584   1.71e+04     -0.001      0.999   -3.35e+04    3.34e+04\n",
       "Tags_Not Specified                           4.1080      0.168     24.507      0.000       3.779       4.437\n",
       "Tags_Will revert after reading the email     6.5984      0.196     33.668      0.000       6.214       6.982\n",
       "What is your current occupation_Others      -2.7853      0.146    -19.098      0.000      -3.071      -2.499\n",
       "============================================================================================================\n",
       "\"\"\""
      ]
     },
     "execution_count": 91,
     "metadata": {},
     "output_type": "execute_result"
    }
   ],
   "source": [
    "#Re-fitting the model\n",
    "X_train_sm = sm.add_constant(X_train[col])\n",
    "logm3 = sm.GLM(y_train,X_train_sm, family = sm.families.Binomial())\n",
    "res = logm3.fit()\n",
    "res.summary()"
   ]
  },
  {
   "cell_type": "code",
   "execution_count": 92,
   "id": "db6c0042",
   "metadata": {},
   "outputs": [
    {
     "data": {
      "text/html": [
       "<div>\n",
       "<style scoped>\n",
       "    .dataframe tbody tr th:only-of-type {\n",
       "        vertical-align: middle;\n",
       "    }\n",
       "\n",
       "    .dataframe tbody tr th {\n",
       "        vertical-align: top;\n",
       "    }\n",
       "\n",
       "    .dataframe thead th {\n",
       "        text-align: right;\n",
       "    }\n",
       "</style>\n",
       "<table border=\"1\" class=\"dataframe\">\n",
       "  <thead>\n",
       "    <tr style=\"text-align: right;\">\n",
       "      <th></th>\n",
       "      <th>Features</th>\n",
       "      <th>VIF</th>\n",
       "    </tr>\n",
       "  </thead>\n",
       "  <tbody>\n",
       "    <tr>\n",
       "      <th>11</th>\n",
       "      <td>Tags_Not Specified</td>\n",
       "      <td>4.74</td>\n",
       "    </tr>\n",
       "    <tr>\n",
       "      <th>13</th>\n",
       "      <td>What is your current occupation_Others</td>\n",
       "      <td>4.40</td>\n",
       "    </tr>\n",
       "    <tr>\n",
       "      <th>7</th>\n",
       "      <td>Last Activity_SMS Sent</td>\n",
       "      <td>1.43</td>\n",
       "    </tr>\n",
       "    <tr>\n",
       "      <th>12</th>\n",
       "      <td>Tags_Will revert after reading the email</td>\n",
       "      <td>1.35</td>\n",
       "    </tr>\n",
       "    <tr>\n",
       "      <th>6</th>\n",
       "      <td>Last Activity_Olark Chat Conversation</td>\n",
       "      <td>1.19</td>\n",
       "    </tr>\n",
       "    <tr>\n",
       "      <th>0</th>\n",
       "      <td>Total Time Spent on Website</td>\n",
       "      <td>1.13</td>\n",
       "    </tr>\n",
       "    <tr>\n",
       "      <th>3</th>\n",
       "      <td>Lead Source_Welingak Website</td>\n",
       "      <td>1.13</td>\n",
       "    </tr>\n",
       "    <tr>\n",
       "      <th>8</th>\n",
       "      <td>Tags_Lost to others</td>\n",
       "      <td>1.05</td>\n",
       "    </tr>\n",
       "    <tr>\n",
       "      <th>5</th>\n",
       "      <td>Last Activity_Email Bounced</td>\n",
       "      <td>1.04</td>\n",
       "    </tr>\n",
       "    <tr>\n",
       "      <th>4</th>\n",
       "      <td>Last Activity_Converted to Lead</td>\n",
       "      <td>1.03</td>\n",
       "    </tr>\n",
       "    <tr>\n",
       "      <th>1</th>\n",
       "      <td>Lead Source_Facebook</td>\n",
       "      <td>1.00</td>\n",
       "    </tr>\n",
       "    <tr>\n",
       "      <th>2</th>\n",
       "      <td>Lead Source_NC_EDM</td>\n",
       "      <td>1.00</td>\n",
       "    </tr>\n",
       "    <tr>\n",
       "      <th>9</th>\n",
       "      <td>Tags_Next_batch</td>\n",
       "      <td>1.00</td>\n",
       "    </tr>\n",
       "    <tr>\n",
       "      <th>10</th>\n",
       "      <td>Tags_Not Eligible</td>\n",
       "      <td>1.00</td>\n",
       "    </tr>\n",
       "  </tbody>\n",
       "</table>\n",
       "</div>"
      ],
      "text/plain": [
       "                                    Features   VIF\n",
       "11                        Tags_Not Specified  4.74\n",
       "13    What is your current occupation_Others  4.40\n",
       "7                     Last Activity_SMS Sent  1.43\n",
       "12  Tags_Will revert after reading the email  1.35\n",
       "6      Last Activity_Olark Chat Conversation  1.19\n",
       "0                Total Time Spent on Website  1.13\n",
       "3               Lead Source_Welingak Website  1.13\n",
       "8                        Tags_Lost to others  1.05\n",
       "5                Last Activity_Email Bounced  1.04\n",
       "4            Last Activity_Converted to Lead  1.03\n",
       "1                       Lead Source_Facebook  1.00\n",
       "2                         Lead Source_NC_EDM  1.00\n",
       "9                            Tags_Next_batch  1.00\n",
       "10                         Tags_Not Eligible  1.00"
      ]
     },
     "execution_count": 92,
     "metadata": {},
     "output_type": "execute_result"
    }
   ],
   "source": [
    "#Checking the VIF\n",
    "vif = pd.DataFrame()\n",
    "vif['Features'] = X_train[col].columns\n",
    "vif['VIF'] = [variance_inflation_factor(X_train[col].values, i) for i in range(X_train[col].shape[1])]\n",
    "vif['VIF'] = round(vif['VIF'], 2)\n",
    "vif = vif.sort_values(by = \"VIF\", ascending = False)\n",
    "vif"
   ]
  },
  {
   "cell_type": "markdown",
   "id": "4b0c1b07",
   "metadata": {},
   "source": [
    "#### We can see that the feature \"Lead Source_NC_EDM\" has high p-value of 1.0 which means that this feature is insignificant and hence we will drop this column."
   ]
  },
  {
   "cell_type": "code",
   "execution_count": 93,
   "id": "c2ae89e4",
   "metadata": {},
   "outputs": [
    {
     "data": {
      "text/plain": [
       "Index(['Total Time Spent on Website', 'Lead Source_Facebook',\n",
       "       'Lead Source_Welingak Website', 'Last Activity_Converted to Lead',\n",
       "       'Last Activity_Email Bounced', 'Last Activity_Olark Chat Conversation',\n",
       "       'Last Activity_SMS Sent', 'Tags_Lost to others', 'Tags_Next_batch',\n",
       "       'Tags_Not Eligible', 'Tags_Not Specified',\n",
       "       'Tags_Will revert after reading the email',\n",
       "       'What is your current occupation_Others'],\n",
       "      dtype='object')"
      ]
     },
     "execution_count": 93,
     "metadata": {},
     "output_type": "execute_result"
    }
   ],
   "source": [
    "#Dropping the insignificant column\n",
    "col = col.drop(\"Lead Source_NC_EDM\")\n",
    "col"
   ]
  },
  {
   "cell_type": "code",
   "execution_count": 94,
   "id": "db41bb6f",
   "metadata": {},
   "outputs": [
    {
     "data": {
      "text/html": [
       "<table class=\"simpletable\">\n",
       "<caption>Generalized Linear Model Regression Results</caption>\n",
       "<tr>\n",
       "  <th>Dep. Variable:</th>       <td>Converted</td>    <th>  No. Observations:  </th>  <td>  6465</td> \n",
       "</tr>\n",
       "<tr>\n",
       "  <th>Model:</th>                  <td>GLM</td>       <th>  Df Residuals:      </th>  <td>  6451</td> \n",
       "</tr>\n",
       "<tr>\n",
       "  <th>Model Family:</th>        <td>Binomial</td>     <th>  Df Model:          </th>  <td>    13</td> \n",
       "</tr>\n",
       "<tr>\n",
       "  <th>Link Function:</th>         <td>logit</td>      <th>  Scale:             </th> <td>  1.0000</td>\n",
       "</tr>\n",
       "<tr>\n",
       "  <th>Method:</th>                <td>IRLS</td>       <th>  Log-Likelihood:    </th> <td> -1323.6</td>\n",
       "</tr>\n",
       "<tr>\n",
       "  <th>Date:</th>            <td>Tue, 12 Apr 2022</td> <th>  Deviance:          </th> <td>  2647.2</td>\n",
       "</tr>\n",
       "<tr>\n",
       "  <th>Time:</th>                <td>13:56:45</td>     <th>  Pearson chi2:      </th> <td>7.47e+03</td>\n",
       "</tr>\n",
       "<tr>\n",
       "  <th>No. Iterations:</th>         <td>23</td>        <th>                     </th>     <td> </td>   \n",
       "</tr>\n",
       "<tr>\n",
       "  <th>Covariance Type:</th>     <td>nonrobust</td>    <th>                     </th>     <td> </td>   \n",
       "</tr>\n",
       "</table>\n",
       "<table class=\"simpletable\">\n",
       "<tr>\n",
       "                      <td></td>                        <th>coef</th>     <th>std err</th>      <th>z</th>      <th>P>|z|</th>  <th>[0.025</th>    <th>0.975]</th>  \n",
       "</tr>\n",
       "<tr>\n",
       "  <th>const</th>                                    <td>   -3.6806</td> <td>    0.130</td> <td>  -28.397</td> <td> 0.000</td> <td>   -3.935</td> <td>   -3.427</td>\n",
       "</tr>\n",
       "<tr>\n",
       "  <th>Total Time Spent on Website</th>              <td>    0.8807</td> <td>    0.052</td> <td>   16.890</td> <td> 0.000</td> <td>    0.778</td> <td>    0.983</td>\n",
       "</tr>\n",
       "<tr>\n",
       "  <th>Lead Source_Facebook</th>                     <td>   -1.1443</td> <td>    0.687</td> <td>   -1.666</td> <td> 0.096</td> <td>   -2.491</td> <td>    0.202</td>\n",
       "</tr>\n",
       "<tr>\n",
       "  <th>Lead Source_Welingak Website</th>             <td>    4.0166</td> <td>    1.040</td> <td>    3.863</td> <td> 0.000</td> <td>    1.979</td> <td>    6.054</td>\n",
       "</tr>\n",
       "<tr>\n",
       "  <th>Last Activity_Converted to Lead</th>          <td>   -1.5447</td> <td>    0.325</td> <td>   -4.752</td> <td> 0.000</td> <td>   -2.182</td> <td>   -0.908</td>\n",
       "</tr>\n",
       "<tr>\n",
       "  <th>Last Activity_Email Bounced</th>              <td>   -2.3290</td> <td>    0.410</td> <td>   -5.678</td> <td> 0.000</td> <td>   -3.133</td> <td>   -1.525</td>\n",
       "</tr>\n",
       "<tr>\n",
       "  <th>Last Activity_Olark Chat Conversation</th>    <td>   -1.0282</td> <td>    0.229</td> <td>   -4.480</td> <td> 0.000</td> <td>   -1.478</td> <td>   -0.578</td>\n",
       "</tr>\n",
       "<tr>\n",
       "  <th>Last Activity_SMS Sent</th>                   <td>    1.7726</td> <td>    0.115</td> <td>   15.389</td> <td> 0.000</td> <td>    1.547</td> <td>    1.998</td>\n",
       "</tr>\n",
       "<tr>\n",
       "  <th>Tags_Lost to others</th>                      <td>    7.3449</td> <td>    0.312</td> <td>   23.571</td> <td> 0.000</td> <td>    6.734</td> <td>    7.956</td>\n",
       "</tr>\n",
       "<tr>\n",
       "  <th>Tags_Next_batch</th>                          <td>    4.2716</td> <td>    1.261</td> <td>    3.388</td> <td> 0.001</td> <td>    1.800</td> <td>    6.743</td>\n",
       "</tr>\n",
       "<tr>\n",
       "  <th>Tags_Not Eligible</th>                        <td>  -21.1611</td> <td> 1.71e+04</td> <td>   -0.001</td> <td> 0.999</td> <td>-3.35e+04</td> <td> 3.34e+04</td>\n",
       "</tr>\n",
       "<tr>\n",
       "  <th>Tags_Not Specified</th>                       <td>    4.1076</td> <td>    0.168</td> <td>   24.510</td> <td> 0.000</td> <td>    3.779</td> <td>    4.436</td>\n",
       "</tr>\n",
       "<tr>\n",
       "  <th>Tags_Will revert after reading the email</th> <td>    6.5970</td> <td>    0.196</td> <td>   33.670</td> <td> 0.000</td> <td>    6.213</td> <td>    6.981</td>\n",
       "</tr>\n",
       "<tr>\n",
       "  <th>What is your current occupation_Others</th>   <td>   -2.7799</td> <td>    0.146</td> <td>  -19.076</td> <td> 0.000</td> <td>   -3.065</td> <td>   -2.494</td>\n",
       "</tr>\n",
       "</table>"
      ],
      "text/plain": [
       "<class 'statsmodels.iolib.summary.Summary'>\n",
       "\"\"\"\n",
       "                 Generalized Linear Model Regression Results                  \n",
       "==============================================================================\n",
       "Dep. Variable:              Converted   No. Observations:                 6465\n",
       "Model:                            GLM   Df Residuals:                     6451\n",
       "Model Family:                Binomial   Df Model:                           13\n",
       "Link Function:                  logit   Scale:                          1.0000\n",
       "Method:                          IRLS   Log-Likelihood:                -1323.6\n",
       "Date:                Tue, 12 Apr 2022   Deviance:                       2647.2\n",
       "Time:                        13:56:45   Pearson chi2:                 7.47e+03\n",
       "No. Iterations:                    23                                         \n",
       "Covariance Type:            nonrobust                                         \n",
       "============================================================================================================\n",
       "                                               coef    std err          z      P>|z|      [0.025      0.975]\n",
       "------------------------------------------------------------------------------------------------------------\n",
       "const                                       -3.6806      0.130    -28.397      0.000      -3.935      -3.427\n",
       "Total Time Spent on Website                  0.8807      0.052     16.890      0.000       0.778       0.983\n",
       "Lead Source_Facebook                        -1.1443      0.687     -1.666      0.096      -2.491       0.202\n",
       "Lead Source_Welingak Website                 4.0166      1.040      3.863      0.000       1.979       6.054\n",
       "Last Activity_Converted to Lead             -1.5447      0.325     -4.752      0.000      -2.182      -0.908\n",
       "Last Activity_Email Bounced                 -2.3290      0.410     -5.678      0.000      -3.133      -1.525\n",
       "Last Activity_Olark Chat Conversation       -1.0282      0.229     -4.480      0.000      -1.478      -0.578\n",
       "Last Activity_SMS Sent                       1.7726      0.115     15.389      0.000       1.547       1.998\n",
       "Tags_Lost to others                          7.3449      0.312     23.571      0.000       6.734       7.956\n",
       "Tags_Next_batch                              4.2716      1.261      3.388      0.001       1.800       6.743\n",
       "Tags_Not Eligible                          -21.1611   1.71e+04     -0.001      0.999   -3.35e+04    3.34e+04\n",
       "Tags_Not Specified                           4.1076      0.168     24.510      0.000       3.779       4.436\n",
       "Tags_Will revert after reading the email     6.5970      0.196     33.670      0.000       6.213       6.981\n",
       "What is your current occupation_Others      -2.7799      0.146    -19.076      0.000      -3.065      -2.494\n",
       "============================================================================================================\n",
       "\"\"\""
      ]
     },
     "execution_count": 94,
     "metadata": {},
     "output_type": "execute_result"
    }
   ],
   "source": [
    "#Fitting the model\n",
    "X_train_sm = sm.add_constant(X_train[col])\n",
    "logm4 = sm.GLM(y_train,X_train_sm, family = sm.families.Binomial())\n",
    "res = logm4.fit()\n",
    "res.summary()"
   ]
  },
  {
   "cell_type": "markdown",
   "id": "676855ef",
   "metadata": {},
   "source": [
    "#### It can be observed that there are two features Tags_Not Eligible and Lead Source_Facebook have p-values as 0.999 and 0.095 which indicate that they are insignificant.We will go further and check the VIF value to see if these columns should be dropped."
   ]
  },
  {
   "cell_type": "code",
   "execution_count": 95,
   "id": "bc0cd47a",
   "metadata": {},
   "outputs": [
    {
     "data": {
      "text/html": [
       "<div>\n",
       "<style scoped>\n",
       "    .dataframe tbody tr th:only-of-type {\n",
       "        vertical-align: middle;\n",
       "    }\n",
       "\n",
       "    .dataframe tbody tr th {\n",
       "        vertical-align: top;\n",
       "    }\n",
       "\n",
       "    .dataframe thead th {\n",
       "        text-align: right;\n",
       "    }\n",
       "</style>\n",
       "<table border=\"1\" class=\"dataframe\">\n",
       "  <thead>\n",
       "    <tr style=\"text-align: right;\">\n",
       "      <th></th>\n",
       "      <th>Features</th>\n",
       "      <th>VIF</th>\n",
       "    </tr>\n",
       "  </thead>\n",
       "  <tbody>\n",
       "    <tr>\n",
       "      <th>10</th>\n",
       "      <td>Tags_Not Specified</td>\n",
       "      <td>4.74</td>\n",
       "    </tr>\n",
       "    <tr>\n",
       "      <th>12</th>\n",
       "      <td>What is your current occupation_Others</td>\n",
       "      <td>4.40</td>\n",
       "    </tr>\n",
       "    <tr>\n",
       "      <th>6</th>\n",
       "      <td>Last Activity_SMS Sent</td>\n",
       "      <td>1.43</td>\n",
       "    </tr>\n",
       "    <tr>\n",
       "      <th>11</th>\n",
       "      <td>Tags_Will revert after reading the email</td>\n",
       "      <td>1.35</td>\n",
       "    </tr>\n",
       "    <tr>\n",
       "      <th>5</th>\n",
       "      <td>Last Activity_Olark Chat Conversation</td>\n",
       "      <td>1.19</td>\n",
       "    </tr>\n",
       "    <tr>\n",
       "      <th>0</th>\n",
       "      <td>Total Time Spent on Website</td>\n",
       "      <td>1.13</td>\n",
       "    </tr>\n",
       "    <tr>\n",
       "      <th>2</th>\n",
       "      <td>Lead Source_Welingak Website</td>\n",
       "      <td>1.13</td>\n",
       "    </tr>\n",
       "    <tr>\n",
       "      <th>7</th>\n",
       "      <td>Tags_Lost to others</td>\n",
       "      <td>1.05</td>\n",
       "    </tr>\n",
       "    <tr>\n",
       "      <th>4</th>\n",
       "      <td>Last Activity_Email Bounced</td>\n",
       "      <td>1.04</td>\n",
       "    </tr>\n",
       "    <tr>\n",
       "      <th>3</th>\n",
       "      <td>Last Activity_Converted to Lead</td>\n",
       "      <td>1.03</td>\n",
       "    </tr>\n",
       "    <tr>\n",
       "      <th>1</th>\n",
       "      <td>Lead Source_Facebook</td>\n",
       "      <td>1.00</td>\n",
       "    </tr>\n",
       "    <tr>\n",
       "      <th>8</th>\n",
       "      <td>Tags_Next_batch</td>\n",
       "      <td>1.00</td>\n",
       "    </tr>\n",
       "    <tr>\n",
       "      <th>9</th>\n",
       "      <td>Tags_Not Eligible</td>\n",
       "      <td>1.00</td>\n",
       "    </tr>\n",
       "  </tbody>\n",
       "</table>\n",
       "</div>"
      ],
      "text/plain": [
       "                                    Features   VIF\n",
       "10                        Tags_Not Specified  4.74\n",
       "12    What is your current occupation_Others  4.40\n",
       "6                     Last Activity_SMS Sent  1.43\n",
       "11  Tags_Will revert after reading the email  1.35\n",
       "5      Last Activity_Olark Chat Conversation  1.19\n",
       "0                Total Time Spent on Website  1.13\n",
       "2               Lead Source_Welingak Website  1.13\n",
       "7                        Tags_Lost to others  1.05\n",
       "4                Last Activity_Email Bounced  1.04\n",
       "3            Last Activity_Converted to Lead  1.03\n",
       "1                       Lead Source_Facebook  1.00\n",
       "8                            Tags_Next_batch  1.00\n",
       "9                          Tags_Not Eligible  1.00"
      ]
     },
     "execution_count": 95,
     "metadata": {},
     "output_type": "execute_result"
    }
   ],
   "source": [
    "#Checking the VIF\n",
    "vif = pd.DataFrame()\n",
    "vif['Features'] = X_train[col].columns\n",
    "vif['VIF'] = [variance_inflation_factor(X_train[col].values, i) for i in range(X_train[col].shape[1])]\n",
    "vif['VIF'] = round(vif['VIF'], 2)\n",
    "vif = vif.sort_values(by = \"VIF\", ascending = False)\n",
    "vif"
   ]
  },
  {
   "cell_type": "markdown",
   "id": "d3634902",
   "metadata": {},
   "source": [
    "#### The VIF value is low but the value of p is high and hence we will drop one feature \"Tags_Not Eligible\""
   ]
  },
  {
   "cell_type": "code",
   "execution_count": 96,
   "id": "8d0e73e7",
   "metadata": {},
   "outputs": [
    {
     "data": {
      "text/plain": [
       "Index(['Total Time Spent on Website', 'Lead Source_Facebook',\n",
       "       'Lead Source_Welingak Website', 'Last Activity_Converted to Lead',\n",
       "       'Last Activity_Email Bounced', 'Last Activity_Olark Chat Conversation',\n",
       "       'Last Activity_SMS Sent', 'Tags_Lost to others', 'Tags_Next_batch',\n",
       "       'Tags_Not Specified', 'Tags_Will revert after reading the email',\n",
       "       'What is your current occupation_Others'],\n",
       "      dtype='object')"
      ]
     },
     "execution_count": 96,
     "metadata": {},
     "output_type": "execute_result"
    }
   ],
   "source": [
    "#Dropping the insignificant column\n",
    "col = col.drop(\"Tags_Not Eligible\")\n",
    "col"
   ]
  },
  {
   "cell_type": "code",
   "execution_count": 97,
   "id": "4dbfdafe",
   "metadata": {},
   "outputs": [
    {
     "data": {
      "text/html": [
       "<table class=\"simpletable\">\n",
       "<caption>Generalized Linear Model Regression Results</caption>\n",
       "<tr>\n",
       "  <th>Dep. Variable:</th>       <td>Converted</td>    <th>  No. Observations:  </th>  <td>  6465</td> \n",
       "</tr>\n",
       "<tr>\n",
       "  <th>Model:</th>                  <td>GLM</td>       <th>  Df Residuals:      </th>  <td>  6452</td> \n",
       "</tr>\n",
       "<tr>\n",
       "  <th>Model Family:</th>        <td>Binomial</td>     <th>  Df Model:          </th>  <td>    12</td> \n",
       "</tr>\n",
       "<tr>\n",
       "  <th>Link Function:</th>         <td>logit</td>      <th>  Scale:             </th> <td>  1.0000</td>\n",
       "</tr>\n",
       "<tr>\n",
       "  <th>Method:</th>                <td>IRLS</td>       <th>  Log-Likelihood:    </th> <td> -1325.4</td>\n",
       "</tr>\n",
       "<tr>\n",
       "  <th>Date:</th>            <td>Tue, 12 Apr 2022</td> <th>  Deviance:          </th> <td>  2650.9</td>\n",
       "</tr>\n",
       "<tr>\n",
       "  <th>Time:</th>                <td>13:56:45</td>     <th>  Pearson chi2:      </th> <td>7.53e+03</td>\n",
       "</tr>\n",
       "<tr>\n",
       "  <th>No. Iterations:</th>          <td>8</td>        <th>                     </th>     <td> </td>   \n",
       "</tr>\n",
       "<tr>\n",
       "  <th>Covariance Type:</th>     <td>nonrobust</td>    <th>                     </th>     <td> </td>   \n",
       "</tr>\n",
       "</table>\n",
       "<table class=\"simpletable\">\n",
       "<tr>\n",
       "                      <td></td>                        <th>coef</th>     <th>std err</th>      <th>z</th>      <th>P>|z|</th>  <th>[0.025</th>    <th>0.975]</th>  \n",
       "</tr>\n",
       "<tr>\n",
       "  <th>const</th>                                    <td>   -3.7036</td> <td>    0.129</td> <td>  -28.647</td> <td> 0.000</td> <td>   -3.957</td> <td>   -3.450</td>\n",
       "</tr>\n",
       "<tr>\n",
       "  <th>Total Time Spent on Website</th>              <td>    0.8791</td> <td>    0.052</td> <td>   16.877</td> <td> 0.000</td> <td>    0.777</td> <td>    0.981</td>\n",
       "</tr>\n",
       "<tr>\n",
       "  <th>Lead Source_Facebook</th>                     <td>   -1.1448</td> <td>    0.687</td> <td>   -1.666</td> <td> 0.096</td> <td>   -2.492</td> <td>    0.202</td>\n",
       "</tr>\n",
       "<tr>\n",
       "  <th>Lead Source_Welingak Website</th>             <td>    4.0160</td> <td>    1.040</td> <td>    3.863</td> <td> 0.000</td> <td>    1.978</td> <td>    6.054</td>\n",
       "</tr>\n",
       "<tr>\n",
       "  <th>Last Activity_Converted to Lead</th>          <td>   -1.5395</td> <td>    0.325</td> <td>   -4.733</td> <td> 0.000</td> <td>   -2.177</td> <td>   -0.902</td>\n",
       "</tr>\n",
       "<tr>\n",
       "  <th>Last Activity_Email Bounced</th>              <td>   -2.3242</td> <td>    0.410</td> <td>   -5.665</td> <td> 0.000</td> <td>   -3.128</td> <td>   -1.520</td>\n",
       "</tr>\n",
       "<tr>\n",
       "  <th>Last Activity_Olark Chat Conversation</th>    <td>   -1.0247</td> <td>    0.230</td> <td>   -4.464</td> <td> 0.000</td> <td>   -1.475</td> <td>   -0.575</td>\n",
       "</tr>\n",
       "<tr>\n",
       "  <th>Last Activity_SMS Sent</th>                   <td>    1.7825</td> <td>    0.115</td> <td>   15.483</td> <td> 0.000</td> <td>    1.557</td> <td>    2.008</td>\n",
       "</tr>\n",
       "<tr>\n",
       "  <th>Tags_Lost to others</th>                      <td>    7.3669</td> <td>    0.312</td> <td>   23.648</td> <td> 0.000</td> <td>    6.756</td> <td>    7.977</td>\n",
       "</tr>\n",
       "<tr>\n",
       "  <th>Tags_Next_batch</th>                          <td>    4.2906</td> <td>    1.261</td> <td>    3.401</td> <td> 0.001</td> <td>    1.818</td> <td>    6.763</td>\n",
       "</tr>\n",
       "<tr>\n",
       "  <th>Tags_Not Specified</th>                       <td>    4.1270</td> <td>    0.168</td> <td>   24.639</td> <td> 0.000</td> <td>    3.799</td> <td>    4.455</td>\n",
       "</tr>\n",
       "<tr>\n",
       "  <th>Tags_Will revert after reading the email</th> <td>    6.6173</td> <td>    0.196</td> <td>   33.789</td> <td> 0.000</td> <td>    6.233</td> <td>    7.001</td>\n",
       "</tr>\n",
       "<tr>\n",
       "  <th>What is your current occupation_Others</th>   <td>   -2.7810</td> <td>    0.146</td> <td>  -19.076</td> <td> 0.000</td> <td>   -3.067</td> <td>   -2.495</td>\n",
       "</tr>\n",
       "</table>"
      ],
      "text/plain": [
       "<class 'statsmodels.iolib.summary.Summary'>\n",
       "\"\"\"\n",
       "                 Generalized Linear Model Regression Results                  \n",
       "==============================================================================\n",
       "Dep. Variable:              Converted   No. Observations:                 6465\n",
       "Model:                            GLM   Df Residuals:                     6452\n",
       "Model Family:                Binomial   Df Model:                           12\n",
       "Link Function:                  logit   Scale:                          1.0000\n",
       "Method:                          IRLS   Log-Likelihood:                -1325.4\n",
       "Date:                Tue, 12 Apr 2022   Deviance:                       2650.9\n",
       "Time:                        13:56:45   Pearson chi2:                 7.53e+03\n",
       "No. Iterations:                     8                                         \n",
       "Covariance Type:            nonrobust                                         \n",
       "============================================================================================================\n",
       "                                               coef    std err          z      P>|z|      [0.025      0.975]\n",
       "------------------------------------------------------------------------------------------------------------\n",
       "const                                       -3.7036      0.129    -28.647      0.000      -3.957      -3.450\n",
       "Total Time Spent on Website                  0.8791      0.052     16.877      0.000       0.777       0.981\n",
       "Lead Source_Facebook                        -1.1448      0.687     -1.666      0.096      -2.492       0.202\n",
       "Lead Source_Welingak Website                 4.0160      1.040      3.863      0.000       1.978       6.054\n",
       "Last Activity_Converted to Lead             -1.5395      0.325     -4.733      0.000      -2.177      -0.902\n",
       "Last Activity_Email Bounced                 -2.3242      0.410     -5.665      0.000      -3.128      -1.520\n",
       "Last Activity_Olark Chat Conversation       -1.0247      0.230     -4.464      0.000      -1.475      -0.575\n",
       "Last Activity_SMS Sent                       1.7825      0.115     15.483      0.000       1.557       2.008\n",
       "Tags_Lost to others                          7.3669      0.312     23.648      0.000       6.756       7.977\n",
       "Tags_Next_batch                              4.2906      1.261      3.401      0.001       1.818       6.763\n",
       "Tags_Not Specified                           4.1270      0.168     24.639      0.000       3.799       4.455\n",
       "Tags_Will revert after reading the email     6.6173      0.196     33.789      0.000       6.233       7.001\n",
       "What is your current occupation_Others      -2.7810      0.146    -19.076      0.000      -3.067      -2.495\n",
       "============================================================================================================\n",
       "\"\"\""
      ]
     },
     "execution_count": 97,
     "metadata": {},
     "output_type": "execute_result"
    }
   ],
   "source": [
    "#Re-fitting the model\n",
    "X_train_sm = sm.add_constant(X_train[col])\n",
    "logm5 = sm.GLM(y_train,X_train_sm, family = sm.families.Binomial())\n",
    "res = logm5.fit()\n",
    "res.summary()"
   ]
  },
  {
   "cell_type": "markdown",
   "id": "703b11af",
   "metadata": {},
   "source": [
    "#### The p-value is high for Lead Source_Facebook and hence can be dropped."
   ]
  },
  {
   "cell_type": "code",
   "execution_count": 98,
   "id": "8051ed6a",
   "metadata": {},
   "outputs": [
    {
     "data": {
      "text/html": [
       "<div>\n",
       "<style scoped>\n",
       "    .dataframe tbody tr th:only-of-type {\n",
       "        vertical-align: middle;\n",
       "    }\n",
       "\n",
       "    .dataframe tbody tr th {\n",
       "        vertical-align: top;\n",
       "    }\n",
       "\n",
       "    .dataframe thead th {\n",
       "        text-align: right;\n",
       "    }\n",
       "</style>\n",
       "<table border=\"1\" class=\"dataframe\">\n",
       "  <thead>\n",
       "    <tr style=\"text-align: right;\">\n",
       "      <th></th>\n",
       "      <th>Features</th>\n",
       "      <th>VIF</th>\n",
       "    </tr>\n",
       "  </thead>\n",
       "  <tbody>\n",
       "    <tr>\n",
       "      <th>9</th>\n",
       "      <td>Tags_Not Specified</td>\n",
       "      <td>4.74</td>\n",
       "    </tr>\n",
       "    <tr>\n",
       "      <th>11</th>\n",
       "      <td>What is your current occupation_Others</td>\n",
       "      <td>4.40</td>\n",
       "    </tr>\n",
       "    <tr>\n",
       "      <th>6</th>\n",
       "      <td>Last Activity_SMS Sent</td>\n",
       "      <td>1.43</td>\n",
       "    </tr>\n",
       "    <tr>\n",
       "      <th>10</th>\n",
       "      <td>Tags_Will revert after reading the email</td>\n",
       "      <td>1.35</td>\n",
       "    </tr>\n",
       "    <tr>\n",
       "      <th>5</th>\n",
       "      <td>Last Activity_Olark Chat Conversation</td>\n",
       "      <td>1.19</td>\n",
       "    </tr>\n",
       "    <tr>\n",
       "      <th>0</th>\n",
       "      <td>Total Time Spent on Website</td>\n",
       "      <td>1.13</td>\n",
       "    </tr>\n",
       "    <tr>\n",
       "      <th>2</th>\n",
       "      <td>Lead Source_Welingak Website</td>\n",
       "      <td>1.13</td>\n",
       "    </tr>\n",
       "    <tr>\n",
       "      <th>7</th>\n",
       "      <td>Tags_Lost to others</td>\n",
       "      <td>1.05</td>\n",
       "    </tr>\n",
       "    <tr>\n",
       "      <th>4</th>\n",
       "      <td>Last Activity_Email Bounced</td>\n",
       "      <td>1.04</td>\n",
       "    </tr>\n",
       "    <tr>\n",
       "      <th>3</th>\n",
       "      <td>Last Activity_Converted to Lead</td>\n",
       "      <td>1.02</td>\n",
       "    </tr>\n",
       "    <tr>\n",
       "      <th>1</th>\n",
       "      <td>Lead Source_Facebook</td>\n",
       "      <td>1.00</td>\n",
       "    </tr>\n",
       "    <tr>\n",
       "      <th>8</th>\n",
       "      <td>Tags_Next_batch</td>\n",
       "      <td>1.00</td>\n",
       "    </tr>\n",
       "  </tbody>\n",
       "</table>\n",
       "</div>"
      ],
      "text/plain": [
       "                                    Features   VIF\n",
       "9                         Tags_Not Specified  4.74\n",
       "11    What is your current occupation_Others  4.40\n",
       "6                     Last Activity_SMS Sent  1.43\n",
       "10  Tags_Will revert after reading the email  1.35\n",
       "5      Last Activity_Olark Chat Conversation  1.19\n",
       "0                Total Time Spent on Website  1.13\n",
       "2               Lead Source_Welingak Website  1.13\n",
       "7                        Tags_Lost to others  1.05\n",
       "4                Last Activity_Email Bounced  1.04\n",
       "3            Last Activity_Converted to Lead  1.02\n",
       "1                       Lead Source_Facebook  1.00\n",
       "8                            Tags_Next_batch  1.00"
      ]
     },
     "execution_count": 98,
     "metadata": {},
     "output_type": "execute_result"
    }
   ],
   "source": [
    "#Checking the VIF again\n",
    "vif = pd.DataFrame()\n",
    "vif['Features'] = X_train[col].columns\n",
    "vif['VIF'] = [variance_inflation_factor(X_train[col].values, i) for i in range(X_train[col].shape[1])]\n",
    "vif['VIF'] = round(vif['VIF'], 2)\n",
    "vif = vif.sort_values(by = \"VIF\", ascending = False)\n",
    "vif"
   ]
  },
  {
   "cell_type": "code",
   "execution_count": 99,
   "id": "99aeabf6",
   "metadata": {},
   "outputs": [
    {
     "data": {
      "text/plain": [
       "Index(['Total Time Spent on Website', 'Lead Source_Welingak Website',\n",
       "       'Last Activity_Converted to Lead', 'Last Activity_Email Bounced',\n",
       "       'Last Activity_Olark Chat Conversation', 'Last Activity_SMS Sent',\n",
       "       'Tags_Lost to others', 'Tags_Next_batch', 'Tags_Not Specified',\n",
       "       'Tags_Will revert after reading the email',\n",
       "       'What is your current occupation_Others'],\n",
       "      dtype='object')"
      ]
     },
     "execution_count": 99,
     "metadata": {},
     "output_type": "execute_result"
    }
   ],
   "source": [
    "#Dropping the insignificant column\n",
    "col = col.drop(\"Lead Source_Facebook\")\n",
    "col"
   ]
  },
  {
   "cell_type": "code",
   "execution_count": 100,
   "id": "7618aca8",
   "metadata": {},
   "outputs": [
    {
     "data": {
      "text/html": [
       "<table class=\"simpletable\">\n",
       "<caption>Generalized Linear Model Regression Results</caption>\n",
       "<tr>\n",
       "  <th>Dep. Variable:</th>       <td>Converted</td>    <th>  No. Observations:  </th>  <td>  6465</td> \n",
       "</tr>\n",
       "<tr>\n",
       "  <th>Model:</th>                  <td>GLM</td>       <th>  Df Residuals:      </th>  <td>  6453</td> \n",
       "</tr>\n",
       "<tr>\n",
       "  <th>Model Family:</th>        <td>Binomial</td>     <th>  Df Model:          </th>  <td>    11</td> \n",
       "</tr>\n",
       "<tr>\n",
       "  <th>Link Function:</th>         <td>logit</td>      <th>  Scale:             </th> <td>  1.0000</td>\n",
       "</tr>\n",
       "<tr>\n",
       "  <th>Method:</th>                <td>IRLS</td>       <th>  Log-Likelihood:    </th> <td> -1326.9</td>\n",
       "</tr>\n",
       "<tr>\n",
       "  <th>Date:</th>            <td>Tue, 12 Apr 2022</td> <th>  Deviance:          </th> <td>  2653.8</td>\n",
       "</tr>\n",
       "<tr>\n",
       "  <th>Time:</th>                <td>13:56:45</td>     <th>  Pearson chi2:      </th> <td>7.51e+03</td>\n",
       "</tr>\n",
       "<tr>\n",
       "  <th>No. Iterations:</th>          <td>8</td>        <th>                     </th>     <td> </td>   \n",
       "</tr>\n",
       "<tr>\n",
       "  <th>Covariance Type:</th>     <td>nonrobust</td>    <th>                     </th>     <td> </td>   \n",
       "</tr>\n",
       "</table>\n",
       "<table class=\"simpletable\">\n",
       "<tr>\n",
       "                      <td></td>                        <th>coef</th>     <th>std err</th>      <th>z</th>      <th>P>|z|</th>  <th>[0.025</th>    <th>0.975]</th>  \n",
       "</tr>\n",
       "<tr>\n",
       "  <th>const</th>                                    <td>   -3.7066</td> <td>    0.129</td> <td>  -28.699</td> <td> 0.000</td> <td>   -3.960</td> <td>   -3.453</td>\n",
       "</tr>\n",
       "<tr>\n",
       "  <th>Total Time Spent on Website</th>              <td>    0.8820</td> <td>    0.052</td> <td>   16.944</td> <td> 0.000</td> <td>    0.780</td> <td>    0.984</td>\n",
       "</tr>\n",
       "<tr>\n",
       "  <th>Lead Source_Welingak Website</th>             <td>    4.0339</td> <td>    1.039</td> <td>    3.881</td> <td> 0.000</td> <td>    1.997</td> <td>    6.071</td>\n",
       "</tr>\n",
       "<tr>\n",
       "  <th>Last Activity_Converted to Lead</th>          <td>   -1.5320</td> <td>    0.325</td> <td>   -4.711</td> <td> 0.000</td> <td>   -2.169</td> <td>   -0.895</td>\n",
       "</tr>\n",
       "<tr>\n",
       "  <th>Last Activity_Email Bounced</th>              <td>   -2.3144</td> <td>    0.410</td> <td>   -5.639</td> <td> 0.000</td> <td>   -3.119</td> <td>   -1.510</td>\n",
       "</tr>\n",
       "<tr>\n",
       "  <th>Last Activity_Olark Chat Conversation</th>    <td>   -1.0140</td> <td>    0.229</td> <td>   -4.422</td> <td> 0.000</td> <td>   -1.463</td> <td>   -0.565</td>\n",
       "</tr>\n",
       "<tr>\n",
       "  <th>Last Activity_SMS Sent</th>                   <td>    1.7793</td> <td>    0.115</td> <td>   15.472</td> <td> 0.000</td> <td>    1.554</td> <td>    2.005</td>\n",
       "</tr>\n",
       "<tr>\n",
       "  <th>Tags_Lost to others</th>                      <td>    7.3637</td> <td>    0.311</td> <td>   23.667</td> <td> 0.000</td> <td>    6.754</td> <td>    7.973</td>\n",
       "</tr>\n",
       "<tr>\n",
       "  <th>Tags_Next_batch</th>                          <td>    4.2952</td> <td>    1.262</td> <td>    3.404</td> <td> 0.001</td> <td>    1.822</td> <td>    6.768</td>\n",
       "</tr>\n",
       "<tr>\n",
       "  <th>Tags_Not Specified</th>                       <td>    4.1133</td> <td>    0.167</td> <td>   24.630</td> <td> 0.000</td> <td>    3.786</td> <td>    4.441</td>\n",
       "</tr>\n",
       "<tr>\n",
       "  <th>Tags_Will revert after reading the email</th> <td>    6.6102</td> <td>    0.195</td> <td>   33.819</td> <td> 0.000</td> <td>    6.227</td> <td>    6.993</td>\n",
       "</tr>\n",
       "<tr>\n",
       "  <th>What is your current occupation_Others</th>   <td>   -2.7699</td> <td>    0.145</td> <td>  -19.050</td> <td> 0.000</td> <td>   -3.055</td> <td>   -2.485</td>\n",
       "</tr>\n",
       "</table>"
      ],
      "text/plain": [
       "<class 'statsmodels.iolib.summary.Summary'>\n",
       "\"\"\"\n",
       "                 Generalized Linear Model Regression Results                  \n",
       "==============================================================================\n",
       "Dep. Variable:              Converted   No. Observations:                 6465\n",
       "Model:                            GLM   Df Residuals:                     6453\n",
       "Model Family:                Binomial   Df Model:                           11\n",
       "Link Function:                  logit   Scale:                          1.0000\n",
       "Method:                          IRLS   Log-Likelihood:                -1326.9\n",
       "Date:                Tue, 12 Apr 2022   Deviance:                       2653.8\n",
       "Time:                        13:56:45   Pearson chi2:                 7.51e+03\n",
       "No. Iterations:                     8                                         \n",
       "Covariance Type:            nonrobust                                         \n",
       "============================================================================================================\n",
       "                                               coef    std err          z      P>|z|      [0.025      0.975]\n",
       "------------------------------------------------------------------------------------------------------------\n",
       "const                                       -3.7066      0.129    -28.699      0.000      -3.960      -3.453\n",
       "Total Time Spent on Website                  0.8820      0.052     16.944      0.000       0.780       0.984\n",
       "Lead Source_Welingak Website                 4.0339      1.039      3.881      0.000       1.997       6.071\n",
       "Last Activity_Converted to Lead             -1.5320      0.325     -4.711      0.000      -2.169      -0.895\n",
       "Last Activity_Email Bounced                 -2.3144      0.410     -5.639      0.000      -3.119      -1.510\n",
       "Last Activity_Olark Chat Conversation       -1.0140      0.229     -4.422      0.000      -1.463      -0.565\n",
       "Last Activity_SMS Sent                       1.7793      0.115     15.472      0.000       1.554       2.005\n",
       "Tags_Lost to others                          7.3637      0.311     23.667      0.000       6.754       7.973\n",
       "Tags_Next_batch                              4.2952      1.262      3.404      0.001       1.822       6.768\n",
       "Tags_Not Specified                           4.1133      0.167     24.630      0.000       3.786       4.441\n",
       "Tags_Will revert after reading the email     6.6102      0.195     33.819      0.000       6.227       6.993\n",
       "What is your current occupation_Others      -2.7699      0.145    -19.050      0.000      -3.055      -2.485\n",
       "============================================================================================================\n",
       "\"\"\""
      ]
     },
     "execution_count": 100,
     "metadata": {},
     "output_type": "execute_result"
    }
   ],
   "source": [
    "#Re-fitting the model\n",
    "X_train_sm = sm.add_constant(X_train[col])\n",
    "logm6 = sm.GLM(y_train,X_train_sm, family = sm.families.Binomial())\n",
    "res = logm6.fit()\n",
    "res.summary()"
   ]
  },
  {
   "cell_type": "code",
   "execution_count": 101,
   "id": "86a8de40",
   "metadata": {},
   "outputs": [
    {
     "data": {
      "text/html": [
       "<div>\n",
       "<style scoped>\n",
       "    .dataframe tbody tr th:only-of-type {\n",
       "        vertical-align: middle;\n",
       "    }\n",
       "\n",
       "    .dataframe tbody tr th {\n",
       "        vertical-align: top;\n",
       "    }\n",
       "\n",
       "    .dataframe thead th {\n",
       "        text-align: right;\n",
       "    }\n",
       "</style>\n",
       "<table border=\"1\" class=\"dataframe\">\n",
       "  <thead>\n",
       "    <tr style=\"text-align: right;\">\n",
       "      <th></th>\n",
       "      <th>Features</th>\n",
       "      <th>VIF</th>\n",
       "    </tr>\n",
       "  </thead>\n",
       "  <tbody>\n",
       "    <tr>\n",
       "      <th>8</th>\n",
       "      <td>Tags_Not Specified</td>\n",
       "      <td>4.74</td>\n",
       "    </tr>\n",
       "    <tr>\n",
       "      <th>10</th>\n",
       "      <td>What is your current occupation_Others</td>\n",
       "      <td>4.40</td>\n",
       "    </tr>\n",
       "    <tr>\n",
       "      <th>5</th>\n",
       "      <td>Last Activity_SMS Sent</td>\n",
       "      <td>1.43</td>\n",
       "    </tr>\n",
       "    <tr>\n",
       "      <th>9</th>\n",
       "      <td>Tags_Will revert after reading the email</td>\n",
       "      <td>1.35</td>\n",
       "    </tr>\n",
       "    <tr>\n",
       "      <th>4</th>\n",
       "      <td>Last Activity_Olark Chat Conversation</td>\n",
       "      <td>1.19</td>\n",
       "    </tr>\n",
       "    <tr>\n",
       "      <th>1</th>\n",
       "      <td>Lead Source_Welingak Website</td>\n",
       "      <td>1.13</td>\n",
       "    </tr>\n",
       "    <tr>\n",
       "      <th>0</th>\n",
       "      <td>Total Time Spent on Website</td>\n",
       "      <td>1.12</td>\n",
       "    </tr>\n",
       "    <tr>\n",
       "      <th>6</th>\n",
       "      <td>Tags_Lost to others</td>\n",
       "      <td>1.05</td>\n",
       "    </tr>\n",
       "    <tr>\n",
       "      <th>3</th>\n",
       "      <td>Last Activity_Email Bounced</td>\n",
       "      <td>1.04</td>\n",
       "    </tr>\n",
       "    <tr>\n",
       "      <th>2</th>\n",
       "      <td>Last Activity_Converted to Lead</td>\n",
       "      <td>1.02</td>\n",
       "    </tr>\n",
       "    <tr>\n",
       "      <th>7</th>\n",
       "      <td>Tags_Next_batch</td>\n",
       "      <td>1.00</td>\n",
       "    </tr>\n",
       "  </tbody>\n",
       "</table>\n",
       "</div>"
      ],
      "text/plain": [
       "                                    Features   VIF\n",
       "8                         Tags_Not Specified  4.74\n",
       "10    What is your current occupation_Others  4.40\n",
       "5                     Last Activity_SMS Sent  1.43\n",
       "9   Tags_Will revert after reading the email  1.35\n",
       "4      Last Activity_Olark Chat Conversation  1.19\n",
       "1               Lead Source_Welingak Website  1.13\n",
       "0                Total Time Spent on Website  1.12\n",
       "6                        Tags_Lost to others  1.05\n",
       "3                Last Activity_Email Bounced  1.04\n",
       "2            Last Activity_Converted to Lead  1.02\n",
       "7                            Tags_Next_batch  1.00"
      ]
     },
     "execution_count": 101,
     "metadata": {},
     "output_type": "execute_result"
    }
   ],
   "source": [
    "#Checking the VIF again\n",
    "vif = pd.DataFrame()\n",
    "vif['Features'] = X_train[col].columns\n",
    "vif['VIF'] = [variance_inflation_factor(X_train[col].values, i) for i in range(X_train[col].shape[1])]\n",
    "vif['VIF'] = round(vif['VIF'], 2)\n",
    "vif = vif.sort_values(by = \"VIF\", ascending = False)\n",
    "vif"
   ]
  },
  {
   "cell_type": "markdown",
   "id": "0551bdb1",
   "metadata": {},
   "source": [
    "#### We can see that the p-values are low for all the features and VIF values also look good.So we can proceed and check the metrics for this model."
   ]
  },
  {
   "cell_type": "code",
   "execution_count": 102,
   "id": "a2fc9c48",
   "metadata": {},
   "outputs": [
    {
     "data": {
      "text/plain": [
       "8412    0.999830\n",
       "3291    0.980019\n",
       "8068    0.892204\n",
       "987     0.033005\n",
       "7421    0.961103\n",
       "1032    0.973548\n",
       "8684    0.982506\n",
       "4318    0.984909\n",
       "7296    0.086820\n",
       "712     0.003060\n",
       "dtype: float64"
      ]
     },
     "execution_count": 102,
     "metadata": {},
     "output_type": "execute_result"
    }
   ],
   "source": [
    "# Getting the predicted values on the train set\n",
    "y_train_pred = res.predict(X_train_sm)\n",
    "y_train_pred[:10]"
   ]
  },
  {
   "cell_type": "code",
   "execution_count": 103,
   "id": "5fb2150a",
   "metadata": {},
   "outputs": [
    {
     "data": {
      "text/html": [
       "<div>\n",
       "<style scoped>\n",
       "    .dataframe tbody tr th:only-of-type {\n",
       "        vertical-align: middle;\n",
       "    }\n",
       "\n",
       "    .dataframe tbody tr th {\n",
       "        vertical-align: top;\n",
       "    }\n",
       "\n",
       "    .dataframe thead th {\n",
       "        text-align: right;\n",
       "    }\n",
       "</style>\n",
       "<table border=\"1\" class=\"dataframe\">\n",
       "  <thead>\n",
       "    <tr style=\"text-align: right;\">\n",
       "      <th></th>\n",
       "      <th>Converted</th>\n",
       "      <th>Converted_Prob</th>\n",
       "      <th>Lead Number</th>\n",
       "    </tr>\n",
       "  </thead>\n",
       "  <tbody>\n",
       "    <tr>\n",
       "      <th>8412</th>\n",
       "      <td>1</td>\n",
       "      <td>0.999830</td>\n",
       "      <td>8412</td>\n",
       "    </tr>\n",
       "    <tr>\n",
       "      <th>3291</th>\n",
       "      <td>1</td>\n",
       "      <td>0.980019</td>\n",
       "      <td>3291</td>\n",
       "    </tr>\n",
       "    <tr>\n",
       "      <th>8068</th>\n",
       "      <td>1</td>\n",
       "      <td>0.892204</td>\n",
       "      <td>8068</td>\n",
       "    </tr>\n",
       "    <tr>\n",
       "      <th>987</th>\n",
       "      <td>0</td>\n",
       "      <td>0.033005</td>\n",
       "      <td>987</td>\n",
       "    </tr>\n",
       "    <tr>\n",
       "      <th>7421</th>\n",
       "      <td>1</td>\n",
       "      <td>0.961103</td>\n",
       "      <td>7421</td>\n",
       "    </tr>\n",
       "  </tbody>\n",
       "</table>\n",
       "</div>"
      ],
      "text/plain": [
       "      Converted  Converted_Prob  Lead Number\n",
       "8412          1        0.999830         8412\n",
       "3291          1        0.980019         3291\n",
       "8068          1        0.892204         8068\n",
       "987           0        0.033005          987\n",
       "7421          1        0.961103         7421"
      ]
     },
     "execution_count": 103,
     "metadata": {},
     "output_type": "execute_result"
    }
   ],
   "source": [
    "#Creating a dataframe of predicted values and converted probabilities\n",
    "y_train_pred_final = pd.DataFrame({'Converted':y_train.values, 'Converted_Prob':y_train_pred})\n",
    "y_train_pred_final['Lead Number'] = y_train.index\n",
    "y_train_pred_final.head()"
   ]
  },
  {
   "cell_type": "code",
   "execution_count": 104,
   "id": "52a6c333",
   "metadata": {},
   "outputs": [
    {
     "data": {
      "text/html": [
       "<div>\n",
       "<style scoped>\n",
       "    .dataframe tbody tr th:only-of-type {\n",
       "        vertical-align: middle;\n",
       "    }\n",
       "\n",
       "    .dataframe tbody tr th {\n",
       "        vertical-align: top;\n",
       "    }\n",
       "\n",
       "    .dataframe thead th {\n",
       "        text-align: right;\n",
       "    }\n",
       "</style>\n",
       "<table border=\"1\" class=\"dataframe\">\n",
       "  <thead>\n",
       "    <tr style=\"text-align: right;\">\n",
       "      <th></th>\n",
       "      <th>Converted</th>\n",
       "      <th>Converted_Prob</th>\n",
       "      <th>Lead Number</th>\n",
       "      <th>predicted</th>\n",
       "    </tr>\n",
       "  </thead>\n",
       "  <tbody>\n",
       "    <tr>\n",
       "      <th>8412</th>\n",
       "      <td>1</td>\n",
       "      <td>0.999830</td>\n",
       "      <td>8412</td>\n",
       "      <td>1</td>\n",
       "    </tr>\n",
       "    <tr>\n",
       "      <th>3291</th>\n",
       "      <td>1</td>\n",
       "      <td>0.980019</td>\n",
       "      <td>3291</td>\n",
       "      <td>1</td>\n",
       "    </tr>\n",
       "    <tr>\n",
       "      <th>8068</th>\n",
       "      <td>1</td>\n",
       "      <td>0.892204</td>\n",
       "      <td>8068</td>\n",
       "      <td>1</td>\n",
       "    </tr>\n",
       "    <tr>\n",
       "      <th>987</th>\n",
       "      <td>0</td>\n",
       "      <td>0.033005</td>\n",
       "      <td>987</td>\n",
       "      <td>0</td>\n",
       "    </tr>\n",
       "    <tr>\n",
       "      <th>7421</th>\n",
       "      <td>1</td>\n",
       "      <td>0.961103</td>\n",
       "      <td>7421</td>\n",
       "      <td>1</td>\n",
       "    </tr>\n",
       "  </tbody>\n",
       "</table>\n",
       "</div>"
      ],
      "text/plain": [
       "      Converted  Converted_Prob  Lead Number  predicted\n",
       "8412          1        0.999830         8412          1\n",
       "3291          1        0.980019         3291          1\n",
       "8068          1        0.892204         8068          1\n",
       "987           0        0.033005          987          0\n",
       "7421          1        0.961103         7421          1"
      ]
     },
     "execution_count": 104,
     "metadata": {},
     "output_type": "execute_result"
    }
   ],
   "source": [
    "#Adding the predicted column and checking the df\n",
    "y_train_pred_final['predicted'] = y_train_pred_final.Converted_Prob.map(lambda x: 1 if x > 0.25 else 0)\n",
    "y_train_pred_final.head()"
   ]
  },
  {
   "cell_type": "markdown",
   "id": "590b1ef3",
   "metadata": {},
   "source": [
    "### Model evaluation"
   ]
  },
  {
   "cell_type": "code",
   "execution_count": 105,
   "id": "83c92267",
   "metadata": {},
   "outputs": [
    {
     "data": {
      "text/plain": [
       "array([[3572,  403],\n",
       "       [ 180, 2310]], dtype=int64)"
      ]
     },
     "execution_count": 105,
     "metadata": {},
     "output_type": "execute_result"
    }
   ],
   "source": [
    "#Creating the confusion matrix\n",
    "conf_matrix = metrics.confusion_matrix(y_train_pred_final.Converted, y_train_pred_final.predicted )\n",
    "conf_matrix"
   ]
  },
  {
   "cell_type": "code",
   "execution_count": 106,
   "id": "4f208ebc",
   "metadata": {},
   "outputs": [
    {
     "name": "stdout",
     "output_type": "stream",
     "text": [
      "0.9098221191028616\n"
     ]
    }
   ],
   "source": [
    "#Checking the overall accuracy.\n",
    "print(metrics.accuracy_score(y_train_pred_final.Converted, y_train_pred_final.predicted))"
   ]
  },
  {
   "cell_type": "code",
   "execution_count": 107,
   "id": "6998ebf0",
   "metadata": {},
   "outputs": [],
   "source": [
    "TP = conf_matrix[1,1] # true positive \n",
    "TN = conf_matrix[0,0] # true negatives\n",
    "FP = conf_matrix[0,1] # false positives\n",
    "FN = conf_matrix[1,0] # false negatives\n"
   ]
  },
  {
   "cell_type": "code",
   "execution_count": 108,
   "id": "d6a9110b",
   "metadata": {},
   "outputs": [
    {
     "data": {
      "text/plain": [
       "0.927710843373494"
      ]
     },
     "execution_count": 108,
     "metadata": {},
     "output_type": "execute_result"
    }
   ],
   "source": [
    "# Calculating sensitivity\n",
    "TP / float(TP+FN)"
   ]
  },
  {
   "cell_type": "code",
   "execution_count": 109,
   "id": "cbfcae34",
   "metadata": {},
   "outputs": [
    {
     "data": {
      "text/plain": [
       "0.8986163522012579"
      ]
     },
     "execution_count": 109,
     "metadata": {},
     "output_type": "execute_result"
    }
   ],
   "source": [
    "#calculating specificity\n",
    "TN / float(TN+FP)"
   ]
  },
  {
   "cell_type": "code",
   "execution_count": 110,
   "id": "bf990017",
   "metadata": {},
   "outputs": [
    {
     "name": "stdout",
     "output_type": "stream",
     "text": [
      "0.10138364779874214\n"
     ]
    }
   ],
   "source": [
    "# Calculation false postive rate\n",
    "print(FP/ float(TN+FP))"
   ]
  },
  {
   "cell_type": "code",
   "execution_count": 111,
   "id": "e1f09d55",
   "metadata": {},
   "outputs": [
    {
     "name": "stdout",
     "output_type": "stream",
     "text": [
      "0.8514559528197567\n"
     ]
    }
   ],
   "source": [
    "# positive predictive value \n",
    "print (TP / float(TP+FP))"
   ]
  },
  {
   "cell_type": "code",
   "execution_count": 112,
   "id": "14ca347f",
   "metadata": {},
   "outputs": [
    {
     "name": "stdout",
     "output_type": "stream",
     "text": [
      "0.9520255863539445\n"
     ]
    }
   ],
   "source": [
    "# Negative predictive value\n",
    "print (TN / float(TN+ FN))"
   ]
  },
  {
   "cell_type": "markdown",
   "id": "ba64a5b3",
   "metadata": {},
   "source": [
    "#### We can see that the accuracy is 90.98% which has not changed much from the initial model indicating that the performance is good.The sensitivity is 92.7% indicating that the model is correctly predicting true positive values and specificity is 89.8% indicating it is correctly classified the true negative values."
   ]
  },
  {
   "cell_type": "markdown",
   "id": "3babe25a",
   "metadata": {},
   "source": [
    "### Plotting the ROC curve"
   ]
  },
  {
   "cell_type": "code",
   "execution_count": 113,
   "id": "a9e12076",
   "metadata": {},
   "outputs": [],
   "source": [
    "#Creating the function to plot the ROC curve\n",
    "def draw_roc( actual, probs ):\n",
    "    fpr, tpr, thresholds = metrics.roc_curve( actual, probs,\n",
    "                                              drop_intermediate = False )\n",
    "    auc_score = metrics.roc_auc_score( actual, probs )\n",
    "    plt.figure(figsize=(5, 5))\n",
    "    plt.plot( fpr, tpr, label='ROC curve (area = %0.2f)' % auc_score )\n",
    "    plt.plot([0, 1], [0, 1], 'k--')\n",
    "    plt.xlim([0.0, 1.0])\n",
    "    plt.ylim([0.0, 1.05])\n",
    "    plt.xlabel('False Positive Rate or [1 - True Negative Rate]')\n",
    "    plt.ylabel('True Positive Rate')\n",
    "    plt.title('Receiver operating characteristic example')\n",
    "    plt.legend(loc=\"lower right\")\n",
    "    plt.show()\n",
    "\n",
    "    return None"
   ]
  },
  {
   "cell_type": "code",
   "execution_count": 114,
   "id": "843936be",
   "metadata": {},
   "outputs": [],
   "source": [
    "fpr, tpr, thresholds = metrics.roc_curve( y_train_pred_final.Converted, y_train_pred_final.Converted_Prob, drop_intermediate = False )"
   ]
  },
  {
   "cell_type": "code",
   "execution_count": 115,
   "id": "ea9ade10",
   "metadata": {},
   "outputs": [
    {
     "data": {
      "image/png": "[encoded data removed]",
      "text/plain": [
       "<Figure size 360x360 with 1 Axes>"
      ]
     },
     "metadata": {
      "needs_background": "light"
     },
     "output_type": "display_data"
    }
   ],
   "source": [
    "draw_roc(y_train_pred_final.Converted, y_train_pred_final.Converted_Prob)"
   ]
  },
  {
   "cell_type": "markdown",
   "id": "3823bdf5",
   "metadata": {},
   "source": [
    "#### The ROC curve follows the left hand border and the top border of the ROC space indicating that the test is accurate.Sensitivity of the model is increasing with decrease in specificity.Thus the performance of the model is good with accurate prediction."
   ]
  },
  {
   "cell_type": "markdown",
   "id": "fa521f81",
   "metadata": {},
   "source": [
    "## Finding Optimal Cutoff Point\n"
   ]
  },
  {
   "cell_type": "code",
   "execution_count": 116,
   "id": "b1422eb7",
   "metadata": {},
   "outputs": [
    {
     "data": {
      "text/html": [
       "<div>\n",
       "<style scoped>\n",
       "    .dataframe tbody tr th:only-of-type {\n",
       "        vertical-align: middle;\n",
       "    }\n",
       "\n",
       "    .dataframe tbody tr th {\n",
       "        vertical-align: top;\n",
       "    }\n",
       "\n",
       "    .dataframe thead th {\n",
       "        text-align: right;\n",
       "    }\n",
       "</style>\n",
       "<table border=\"1\" class=\"dataframe\">\n",
       "  <thead>\n",
       "    <tr style=\"text-align: right;\">\n",
       "      <th></th>\n",
       "      <th>Converted</th>\n",
       "      <th>Converted_Prob</th>\n",
       "      <th>Lead Number</th>\n",
       "      <th>predicted</th>\n",
       "      <th>0.0</th>\n",
       "      <th>0.1</th>\n",
       "      <th>0.2</th>\n",
       "      <th>0.3</th>\n",
       "      <th>0.4</th>\n",
       "      <th>0.5</th>\n",
       "      <th>0.6</th>\n",
       "      <th>0.7</th>\n",
       "      <th>0.8</th>\n",
       "      <th>0.9</th>\n",
       "    </tr>\n",
       "  </thead>\n",
       "  <tbody>\n",
       "    <tr>\n",
       "      <th>8412</th>\n",
       "      <td>1</td>\n",
       "      <td>0.999830</td>\n",
       "      <td>8412</td>\n",
       "      <td>1</td>\n",
       "      <td>1</td>\n",
       "      <td>1</td>\n",
       "      <td>1</td>\n",
       "      <td>1</td>\n",
       "      <td>1</td>\n",
       "      <td>1</td>\n",
       "      <td>1</td>\n",
       "      <td>1</td>\n",
       "      <td>1</td>\n",
       "      <td>1</td>\n",
       "    </tr>\n",
       "    <tr>\n",
       "      <th>3291</th>\n",
       "      <td>1</td>\n",
       "      <td>0.980019</td>\n",
       "      <td>3291</td>\n",
       "      <td>1</td>\n",
       "      <td>1</td>\n",
       "      <td>1</td>\n",
       "      <td>1</td>\n",
       "      <td>1</td>\n",
       "      <td>1</td>\n",
       "      <td>1</td>\n",
       "      <td>1</td>\n",
       "      <td>1</td>\n",
       "      <td>1</td>\n",
       "      <td>1</td>\n",
       "    </tr>\n",
       "    <tr>\n",
       "      <th>8068</th>\n",
       "      <td>1</td>\n",
       "      <td>0.892204</td>\n",
       "      <td>8068</td>\n",
       "      <td>1</td>\n",
       "      <td>1</td>\n",
       "      <td>1</td>\n",
       "      <td>1</td>\n",
       "      <td>1</td>\n",
       "      <td>1</td>\n",
       "      <td>1</td>\n",
       "      <td>1</td>\n",
       "      <td>1</td>\n",
       "      <td>1</td>\n",
       "      <td>0</td>\n",
       "    </tr>\n",
       "    <tr>\n",
       "      <th>987</th>\n",
       "      <td>0</td>\n",
       "      <td>0.033005</td>\n",
       "      <td>987</td>\n",
       "      <td>0</td>\n",
       "      <td>1</td>\n",
       "      <td>0</td>\n",
       "      <td>0</td>\n",
       "      <td>0</td>\n",
       "      <td>0</td>\n",
       "      <td>0</td>\n",
       "      <td>0</td>\n",
       "      <td>0</td>\n",
       "      <td>0</td>\n",
       "      <td>0</td>\n",
       "    </tr>\n",
       "    <tr>\n",
       "      <th>7421</th>\n",
       "      <td>1</td>\n",
       "      <td>0.961103</td>\n",
       "      <td>7421</td>\n",
       "      <td>1</td>\n",
       "      <td>1</td>\n",
       "      <td>1</td>\n",
       "      <td>1</td>\n",
       "      <td>1</td>\n",
       "      <td>1</td>\n",
       "      <td>1</td>\n",
       "      <td>1</td>\n",
       "      <td>1</td>\n",
       "      <td>1</td>\n",
       "      <td>1</td>\n",
       "    </tr>\n",
       "  </tbody>\n",
       "</table>\n",
       "</div>"
      ],
      "text/plain": [
       "      Converted  Converted_Prob  Lead Number  predicted  0.0  0.1  0.2  0.3  \\\n",
       "8412          1        0.999830         8412          1    1    1    1    1   \n",
       "3291          1        0.980019         3291          1    1    1    1    1   \n",
       "8068          1        0.892204         8068          1    1    1    1    1   \n",
       "987           0        0.033005          987          0    1    0    0    0   \n",
       "7421          1        0.961103         7421          1    1    1    1    1   \n",
       "\n",
       "      0.4  0.5  0.6  0.7  0.8  0.9  \n",
       "8412    1    1    1    1    1    1  \n",
       "3291    1    1    1    1    1    1  \n",
       "8068    1    1    1    1    1    0  \n",
       "987     0    0    0    0    0    0  \n",
       "7421    1    1    1    1    1    1  "
      ]
     },
     "execution_count": 116,
     "metadata": {},
     "output_type": "execute_result"
    }
   ],
   "source": [
    "# Creating columns with different probability cutoffs \n",
    "numbers = [float(x)/10 for x in range(10)]\n",
    "for i in numbers:\n",
    "    y_train_pred_final[i]= y_train_pred_final.Converted_Prob.map(lambda x: 1 if x > i else 0)\n",
    "y_train_pred_final.head()"
   ]
  },
  {
   "cell_type": "code",
   "execution_count": 117,
   "id": "e87cbedc",
   "metadata": {},
   "outputs": [
    {
     "name": "stdout",
     "output_type": "stream",
     "text": [
      "     probability  accuracy  sensitivity  specificity\n",
      "0.0          0.0  0.385151     1.000000     0.000000\n",
      "0.1          0.1  0.865275     0.967068     0.801509\n",
      "0.2          0.2  0.895901     0.950201     0.861887\n",
      "0.3          0.3  0.917711     0.917269     0.917987\n",
      "0.4          0.4  0.924362     0.901205     0.938868\n",
      "0.5          0.5  0.920959     0.865060     0.955975\n",
      "0.6          0.6  0.921887     0.849398     0.967296\n",
      "0.7          0.7  0.918020     0.829719     0.973333\n",
      "0.8          0.8  0.911833     0.804819     0.978868\n",
      "0.9          0.9  0.875638     0.698394     0.986667\n"
     ]
    }
   ],
   "source": [
    "# calculating accuracy sensitivity and specificity for various probability cutoffs.\n",
    "cutoff_df = pd.DataFrame( columns = ['probability','accuracy','sensitivity','specificity'])\n",
    "from sklearn.metrics import confusion_matrix\n",
    "\n",
    "num = [0.0,0.1,0.2,0.3,0.4,0.5,0.6,0.7,0.8,0.9]\n",
    "for i in num:\n",
    "    cm1 = metrics.confusion_matrix(y_train_pred_final.Converted, y_train_pred_final[i] )\n",
    "    total1=sum(sum(cm1))\n",
    "    accuracy = (cm1[0,0]+cm1[1,1])/total1\n",
    "    \n",
    "    specificity = cm1[0,0]/(cm1[0,0]+cm1[0,1])\n",
    "    sensitivity = cm1[1,1]/(cm1[1,0]+cm1[1,1])\n",
    "    cutoff_df.loc[i] =[ i ,accuracy,sensitivity,specificity]\n",
    "print(cutoff_df)"
   ]
  },
  {
   "cell_type": "markdown",
   "id": "1de303c0",
   "metadata": {},
   "source": [
    "#### It can be observed that the accuracy,sensitivity and specificity values are almost the same at a cutoff of 0.3 which is the optimal cutoff point."
   ]
  },
  {
   "cell_type": "code",
   "execution_count": 118,
   "id": "1b982ab5",
   "metadata": {},
   "outputs": [
    {
     "data": {
      "image/png": "[encoded data removed]",
      "text/plain": [
       "<Figure size 432x288 with 1 Axes>"
      ]
     },
     "metadata": {
      "needs_background": "light"
     },
     "output_type": "display_data"
    }
   ],
   "source": [
    "#Plottingaccuracy,sensitivity and specificity to find the cutoff\n",
    "cutoff_df.plot.line(x='probability', y=['accuracy','sensitivity','specificity'])\n",
    "plt.show()"
   ]
  },
  {
   "cell_type": "markdown",
   "id": "4aa60732",
   "metadata": {},
   "source": [
    "#### From the graph,it is clear that the three curves intersect at 0.3 which is the optimal cutoff point.Hence we can fix 0.3 as the optimal cutoff and find the final predicted values on the train set."
   ]
  },
  {
   "cell_type": "code",
   "execution_count": 119,
   "id": "16a14813",
   "metadata": {},
   "outputs": [
    {
     "data": {
      "text/html": [
       "<div>\n",
       "<style scoped>\n",
       "    .dataframe tbody tr th:only-of-type {\n",
       "        vertical-align: middle;\n",
       "    }\n",
       "\n",
       "    .dataframe tbody tr th {\n",
       "        vertical-align: top;\n",
       "    }\n",
       "\n",
       "    .dataframe thead th {\n",
       "        text-align: right;\n",
       "    }\n",
       "</style>\n",
       "<table border=\"1\" class=\"dataframe\">\n",
       "  <thead>\n",
       "    <tr style=\"text-align: right;\">\n",
       "      <th></th>\n",
       "      <th>Converted</th>\n",
       "      <th>Converted_Prob</th>\n",
       "      <th>Lead Number</th>\n",
       "      <th>predicted</th>\n",
       "      <th>0.0</th>\n",
       "      <th>0.1</th>\n",
       "      <th>0.2</th>\n",
       "      <th>0.3</th>\n",
       "      <th>0.4</th>\n",
       "      <th>0.5</th>\n",
       "      <th>0.6</th>\n",
       "      <th>0.7</th>\n",
       "      <th>0.8</th>\n",
       "      <th>0.9</th>\n",
       "      <th>final_predicted</th>\n",
       "    </tr>\n",
       "  </thead>\n",
       "  <tbody>\n",
       "    <tr>\n",
       "      <th>8412</th>\n",
       "      <td>1</td>\n",
       "      <td>0.999830</td>\n",
       "      <td>8412</td>\n",
       "      <td>1</td>\n",
       "      <td>1</td>\n",
       "      <td>1</td>\n",
       "      <td>1</td>\n",
       "      <td>1</td>\n",
       "      <td>1</td>\n",
       "      <td>1</td>\n",
       "      <td>1</td>\n",
       "      <td>1</td>\n",
       "      <td>1</td>\n",
       "      <td>1</td>\n",
       "      <td>1</td>\n",
       "    </tr>\n",
       "    <tr>\n",
       "      <th>3291</th>\n",
       "      <td>1</td>\n",
       "      <td>0.980019</td>\n",
       "      <td>3291</td>\n",
       "      <td>1</td>\n",
       "      <td>1</td>\n",
       "      <td>1</td>\n",
       "      <td>1</td>\n",
       "      <td>1</td>\n",
       "      <td>1</td>\n",
       "      <td>1</td>\n",
       "      <td>1</td>\n",
       "      <td>1</td>\n",
       "      <td>1</td>\n",
       "      <td>1</td>\n",
       "      <td>1</td>\n",
       "    </tr>\n",
       "    <tr>\n",
       "      <th>8068</th>\n",
       "      <td>1</td>\n",
       "      <td>0.892204</td>\n",
       "      <td>8068</td>\n",
       "      <td>1</td>\n",
       "      <td>1</td>\n",
       "      <td>1</td>\n",
       "      <td>1</td>\n",
       "      <td>1</td>\n",
       "      <td>1</td>\n",
       "      <td>1</td>\n",
       "      <td>1</td>\n",
       "      <td>1</td>\n",
       "      <td>1</td>\n",
       "      <td>0</td>\n",
       "      <td>1</td>\n",
       "    </tr>\n",
       "    <tr>\n",
       "      <th>987</th>\n",
       "      <td>0</td>\n",
       "      <td>0.033005</td>\n",
       "      <td>987</td>\n",
       "      <td>0</td>\n",
       "      <td>1</td>\n",
       "      <td>0</td>\n",
       "      <td>0</td>\n",
       "      <td>0</td>\n",
       "      <td>0</td>\n",
       "      <td>0</td>\n",
       "      <td>0</td>\n",
       "      <td>0</td>\n",
       "      <td>0</td>\n",
       "      <td>0</td>\n",
       "      <td>0</td>\n",
       "    </tr>\n",
       "    <tr>\n",
       "      <th>7421</th>\n",
       "      <td>1</td>\n",
       "      <td>0.961103</td>\n",
       "      <td>7421</td>\n",
       "      <td>1</td>\n",
       "      <td>1</td>\n",
       "      <td>1</td>\n",
       "      <td>1</td>\n",
       "      <td>1</td>\n",
       "      <td>1</td>\n",
       "      <td>1</td>\n",
       "      <td>1</td>\n",
       "      <td>1</td>\n",
       "      <td>1</td>\n",
       "      <td>1</td>\n",
       "      <td>1</td>\n",
       "    </tr>\n",
       "  </tbody>\n",
       "</table>\n",
       "</div>"
      ],
      "text/plain": [
       "      Converted  Converted_Prob  Lead Number  predicted  0.0  0.1  0.2  0.3  \\\n",
       "8412          1        0.999830         8412          1    1    1    1    1   \n",
       "3291          1        0.980019         3291          1    1    1    1    1   \n",
       "8068          1        0.892204         8068          1    1    1    1    1   \n",
       "987           0        0.033005          987          0    1    0    0    0   \n",
       "7421          1        0.961103         7421          1    1    1    1    1   \n",
       "\n",
       "      0.4  0.5  0.6  0.7  0.8  0.9  final_predicted  \n",
       "8412    1    1    1    1    1    1                1  \n",
       "3291    1    1    1    1    1    1                1  \n",
       "8068    1    1    1    1    1    0                1  \n",
       "987     0    0    0    0    0    0                0  \n",
       "7421    1    1    1    1    1    1                1  "
      ]
     },
     "execution_count": 119,
     "metadata": {},
     "output_type": "execute_result"
    }
   ],
   "source": [
    "#Finding the final predicted values and adding them to the dataframe\n",
    "y_train_pred_final['final_predicted'] = y_train_pred_final.Converted_Prob.map( lambda x: 1 if x > 0.3 else 0)\n",
    "\n",
    "y_train_pred_final.head()"
   ]
  },
  {
   "cell_type": "code",
   "execution_count": 120,
   "id": "8e6ffce4",
   "metadata": {},
   "outputs": [
    {
     "data": {
      "text/html": [
       "<div>\n",
       "<style scoped>\n",
       "    .dataframe tbody tr th:only-of-type {\n",
       "        vertical-align: middle;\n",
       "    }\n",
       "\n",
       "    .dataframe tbody tr th {\n",
       "        vertical-align: top;\n",
       "    }\n",
       "\n",
       "    .dataframe thead th {\n",
       "        text-align: right;\n",
       "    }\n",
       "</style>\n",
       "<table border=\"1\" class=\"dataframe\">\n",
       "  <thead>\n",
       "    <tr style=\"text-align: right;\">\n",
       "      <th></th>\n",
       "      <th>Converted</th>\n",
       "      <th>Converted_Prob</th>\n",
       "      <th>Lead Number</th>\n",
       "      <th>predicted</th>\n",
       "      <th>0.0</th>\n",
       "      <th>0.1</th>\n",
       "      <th>0.2</th>\n",
       "      <th>0.3</th>\n",
       "      <th>0.4</th>\n",
       "      <th>0.5</th>\n",
       "      <th>0.6</th>\n",
       "      <th>0.7</th>\n",
       "      <th>0.8</th>\n",
       "      <th>0.9</th>\n",
       "      <th>final_predicted</th>\n",
       "      <th>Lead_Score</th>\n",
       "    </tr>\n",
       "  </thead>\n",
       "  <tbody>\n",
       "    <tr>\n",
       "      <th>8412</th>\n",
       "      <td>1</td>\n",
       "      <td>0.999830</td>\n",
       "      <td>8412</td>\n",
       "      <td>1</td>\n",
       "      <td>1</td>\n",
       "      <td>1</td>\n",
       "      <td>1</td>\n",
       "      <td>1</td>\n",
       "      <td>1</td>\n",
       "      <td>1</td>\n",
       "      <td>1</td>\n",
       "      <td>1</td>\n",
       "      <td>1</td>\n",
       "      <td>1</td>\n",
       "      <td>1</td>\n",
       "      <td>100</td>\n",
       "    </tr>\n",
       "    <tr>\n",
       "      <th>3291</th>\n",
       "      <td>1</td>\n",
       "      <td>0.980019</td>\n",
       "      <td>3291</td>\n",
       "      <td>1</td>\n",
       "      <td>1</td>\n",
       "      <td>1</td>\n",
       "      <td>1</td>\n",
       "      <td>1</td>\n",
       "      <td>1</td>\n",
       "      <td>1</td>\n",
       "      <td>1</td>\n",
       "      <td>1</td>\n",
       "      <td>1</td>\n",
       "      <td>1</td>\n",
       "      <td>1</td>\n",
       "      <td>98</td>\n",
       "    </tr>\n",
       "    <tr>\n",
       "      <th>8068</th>\n",
       "      <td>1</td>\n",
       "      <td>0.892204</td>\n",
       "      <td>8068</td>\n",
       "      <td>1</td>\n",
       "      <td>1</td>\n",
       "      <td>1</td>\n",
       "      <td>1</td>\n",
       "      <td>1</td>\n",
       "      <td>1</td>\n",
       "      <td>1</td>\n",
       "      <td>1</td>\n",
       "      <td>1</td>\n",
       "      <td>1</td>\n",
       "      <td>0</td>\n",
       "      <td>1</td>\n",
       "      <td>89</td>\n",
       "    </tr>\n",
       "    <tr>\n",
       "      <th>987</th>\n",
       "      <td>0</td>\n",
       "      <td>0.033005</td>\n",
       "      <td>987</td>\n",
       "      <td>0</td>\n",
       "      <td>1</td>\n",
       "      <td>0</td>\n",
       "      <td>0</td>\n",
       "      <td>0</td>\n",
       "      <td>0</td>\n",
       "      <td>0</td>\n",
       "      <td>0</td>\n",
       "      <td>0</td>\n",
       "      <td>0</td>\n",
       "      <td>0</td>\n",
       "      <td>0</td>\n",
       "      <td>3</td>\n",
       "    </tr>\n",
       "    <tr>\n",
       "      <th>7421</th>\n",
       "      <td>1</td>\n",
       "      <td>0.961103</td>\n",
       "      <td>7421</td>\n",
       "      <td>1</td>\n",
       "      <td>1</td>\n",
       "      <td>1</td>\n",
       "      <td>1</td>\n",
       "      <td>1</td>\n",
       "      <td>1</td>\n",
       "      <td>1</td>\n",
       "      <td>1</td>\n",
       "      <td>1</td>\n",
       "      <td>1</td>\n",
       "      <td>1</td>\n",
       "      <td>1</td>\n",
       "      <td>96</td>\n",
       "    </tr>\n",
       "  </tbody>\n",
       "</table>\n",
       "</div>"
      ],
      "text/plain": [
       "      Converted  Converted_Prob  Lead Number  predicted  0.0  0.1  0.2  0.3  \\\n",
       "8412          1        0.999830         8412          1    1    1    1    1   \n",
       "3291          1        0.980019         3291          1    1    1    1    1   \n",
       "8068          1        0.892204         8068          1    1    1    1    1   \n",
       "987           0        0.033005          987          0    1    0    0    0   \n",
       "7421          1        0.961103         7421          1    1    1    1    1   \n",
       "\n",
       "      0.4  0.5  0.6  0.7  0.8  0.9  final_predicted  Lead_Score  \n",
       "8412    1    1    1    1    1    1                1         100  \n",
       "3291    1    1    1    1    1    1                1          98  \n",
       "8068    1    1    1    1    1    0                1          89  \n",
       "987     0    0    0    0    0    0                0           3  \n",
       "7421    1    1    1    1    1    1                1          96  "
      ]
     },
     "execution_count": 120,
     "metadata": {},
     "output_type": "execute_result"
    }
   ],
   "source": [
    "#Calculating the Lead_Score and assigning them\n",
    "y_train_pred_final['Lead_Score'] = y_train_pred_final.Converted_Prob.map( lambda x: round(x*100))\n",
    "\n",
    "y_train_pred_final.head()"
   ]
  },
  {
   "cell_type": "markdown",
   "id": "723bc7d8",
   "metadata": {},
   "source": [
    "#### The lead scores for each lead has been assigned based on the converted probability."
   ]
  },
  {
   "cell_type": "code",
   "execution_count": 121,
   "id": "c4017fa5",
   "metadata": {},
   "outputs": [
    {
     "data": {
      "text/plain": [
       "0.9177107501933488"
      ]
     },
     "execution_count": 121,
     "metadata": {},
     "output_type": "execute_result"
    }
   ],
   "source": [
    "# Let's check the overall accuracy.\n",
    "metrics.accuracy_score(y_train_pred_final.Converted, y_train_pred_final.final_predicted)"
   ]
  },
  {
   "cell_type": "markdown",
   "id": "3ed7a782",
   "metadata": {},
   "source": [
    "#### Thus based on the optimal cutoff value 0.3 it can be seen that the model is performing well on the train set with an accuracy of 91.7%."
   ]
  },
  {
   "cell_type": "code",
   "execution_count": 122,
   "id": "e246f453",
   "metadata": {},
   "outputs": [
    {
     "data": {
      "text/plain": [
       "array([[3649,  326],\n",
       "       [ 206, 2284]], dtype=int64)"
      ]
     },
     "execution_count": 122,
     "metadata": {},
     "output_type": "execute_result"
    }
   ],
   "source": [
    "#Creating the confusion matrix\n",
    "confusion2 = metrics.confusion_matrix(y_train_pred_final.Converted, y_train_pred_final.final_predicted )\n",
    "confusion2"
   ]
  },
  {
   "cell_type": "code",
   "execution_count": 123,
   "id": "646aff63",
   "metadata": {},
   "outputs": [
    {
     "data": {
      "text/plain": [
       "array([[3649,  326],\n",
       "       [ 206, 2284]], dtype=int64)"
      ]
     },
     "execution_count": 123,
     "metadata": {},
     "output_type": "execute_result"
    }
   ],
   "source": [
    "TP = confusion2[1,1] # true positive \n",
    "TN = confusion2[0,0] # true negatives\n",
    "FP = confusion2[0,1] # false positives\n",
    "FN = confusion2[1,0] # false negatives\n",
    "confusion2"
   ]
  },
  {
   "cell_type": "code",
   "execution_count": 124,
   "id": "59249d4e",
   "metadata": {},
   "outputs": [
    {
     "data": {
      "text/plain": [
       "0.9172690763052209"
      ]
     },
     "execution_count": 124,
     "metadata": {},
     "output_type": "execute_result"
    }
   ],
   "source": [
    "# Calculating sensitivity\n",
    "TP / float(TP+FN)"
   ]
  },
  {
   "cell_type": "code",
   "execution_count": 125,
   "id": "449ad9e3",
   "metadata": {},
   "outputs": [
    {
     "data": {
      "text/plain": [
       "0.9179874213836478"
      ]
     },
     "execution_count": 125,
     "metadata": {},
     "output_type": "execute_result"
    }
   ],
   "source": [
    "#calculating specificity\n",
    "TN / float(TN+FP)"
   ]
  },
  {
   "cell_type": "markdown",
   "id": "29d6a0d1",
   "metadata": {},
   "source": [
    "#### It can be seen that the sensitivity and specificity values have also not altered much from the previous model."
   ]
  },
  {
   "cell_type": "markdown",
   "id": "9b62d582",
   "metadata": {},
   "source": [
    "### Precision and Recall"
   ]
  },
  {
   "cell_type": "code",
   "execution_count": 126,
   "id": "0ccbe715",
   "metadata": {},
   "outputs": [
    {
     "data": {
      "text/plain": [
       "array([[3649,  326],\n",
       "       [ 206, 2284]], dtype=int64)"
      ]
     },
     "execution_count": 126,
     "metadata": {},
     "output_type": "execute_result"
    }
   ],
   "source": [
    "#Creating\n",
    "confusion = metrics.confusion_matrix(y_train_pred_final.Converted, y_train_pred_final.final_predicted )\n",
    "confusion"
   ]
  },
  {
   "cell_type": "code",
   "execution_count": 127,
   "id": "e360e0e4",
   "metadata": {},
   "outputs": [
    {
     "data": {
      "text/plain": [
       "0.8750957854406131"
      ]
     },
     "execution_count": 127,
     "metadata": {},
     "output_type": "execute_result"
    }
   ],
   "source": [
    "#Precision\n",
    "precision=confusion[1,1]/(confusion[0,1]+confusion[1,1])\n",
    "precision"
   ]
  },
  {
   "cell_type": "code",
   "execution_count": 128,
   "id": "e61ffa20",
   "metadata": {},
   "outputs": [
    {
     "data": {
      "text/plain": [
       "0.9172690763052209"
      ]
     },
     "execution_count": 128,
     "metadata": {},
     "output_type": "execute_result"
    }
   ],
   "source": [
    "#recall\n",
    "recall=confusion[1,1]/(confusion[1,0]+confusion[1,1])\n",
    "recall"
   ]
  },
  {
   "cell_type": "code",
   "execution_count": 129,
   "id": "10a5eecd",
   "metadata": {},
   "outputs": [
    {
     "data": {
      "text/plain": [
       "0.895686274509804"
      ]
     },
     "execution_count": 129,
     "metadata": {},
     "output_type": "execute_result"
    }
   ],
   "source": [
    "#Calculating f1 score\n",
    "F1 = 2 * (precision * recall) / (precision + recall)\n",
    "F1"
   ]
  },
  {
   "cell_type": "markdown",
   "id": "6a62e180",
   "metadata": {},
   "source": [
    "#### The model has a precision value of 87.5% and recall value of 91.7%.Since recall is higher,it indicates that the percentage of total relevant results classified by the algorithm is high.\n",
    "\n",
    "#### The F1 score of the model is 0.89 which is close to 1 indicating that the model is good."
   ]
  },
  {
   "cell_type": "code",
   "execution_count": 130,
   "id": "e83933e3",
   "metadata": {},
   "outputs": [],
   "source": [
    "#Plotting the precision recall curve\n",
    "p, r, thresholds = precision_recall_curve(y_train_pred_final.Converted, y_train_pred_final.Converted_Prob)"
   ]
  },
  {
   "cell_type": "code",
   "execution_count": 131,
   "id": "e3f4de7e",
   "metadata": {},
   "outputs": [
    {
     "data": {
      "image/png": "[encoded data removed]",
      "text/plain": [
       "<Figure size 432x288 with 1 Axes>"
      ]
     },
     "metadata": {
      "needs_background": "light"
     },
     "output_type": "display_data"
    }
   ],
   "source": [
    "#Plotting the curve\n",
    "plt.plot(thresholds, p[:-1], \"g-\")\n",
    "plt.plot(thresholds, r[:-1], \"r-\")\n",
    "plt.show()"
   ]
  },
  {
   "cell_type": "markdown",
   "id": "02e16a70",
   "metadata": {},
   "source": [
    "#### The curve shows high recall indicating the accuracy of prediction is high."
   ]
  },
  {
   "cell_type": "markdown",
   "id": "690c095b",
   "metadata": {},
   "source": [
    "## Making predictions on the test set"
   ]
  },
  {
   "cell_type": "markdown",
   "id": "e19d88e6",
   "metadata": {},
   "source": [
    "### Scaling the data"
   ]
  },
  {
   "cell_type": "code",
   "execution_count": 132,
   "id": "dc352c80",
   "metadata": {},
   "outputs": [],
   "source": [
    "#Scaling the data\n",
    "X_test[['TotalVisits','Page Views Per Visit','Total Time Spent on Website']] = scaler.transform(X_test[['TotalVisits','Page Views Per Visit','Total Time Spent on Website']])"
   ]
  },
  {
   "cell_type": "code",
   "execution_count": 133,
   "id": "58f7cd80",
   "metadata": {},
   "outputs": [
    {
     "data": {
      "text/html": [
       "<div>\n",
       "<style scoped>\n",
       "    .dataframe tbody tr th:only-of-type {\n",
       "        vertical-align: middle;\n",
       "    }\n",
       "\n",
       "    .dataframe tbody tr th {\n",
       "        vertical-align: top;\n",
       "    }\n",
       "\n",
       "    .dataframe thead th {\n",
       "        text-align: right;\n",
       "    }\n",
       "</style>\n",
       "<table border=\"1\" class=\"dataframe\">\n",
       "  <thead>\n",
       "    <tr style=\"text-align: right;\">\n",
       "      <th></th>\n",
       "      <th>Total Time Spent on Website</th>\n",
       "      <th>Lead Source_Welingak Website</th>\n",
       "      <th>Last Activity_Converted to Lead</th>\n",
       "      <th>Last Activity_Email Bounced</th>\n",
       "      <th>Last Activity_Olark Chat Conversation</th>\n",
       "      <th>Last Activity_SMS Sent</th>\n",
       "      <th>Tags_Lost to others</th>\n",
       "      <th>Tags_Next_batch</th>\n",
       "      <th>Tags_Not Specified</th>\n",
       "      <th>Tags_Will revert after reading the email</th>\n",
       "      <th>What is your current occupation_Others</th>\n",
       "    </tr>\n",
       "  </thead>\n",
       "  <tbody>\n",
       "    <tr>\n",
       "      <th>343</th>\n",
       "      <td>-0.792079</td>\n",
       "      <td>0</td>\n",
       "      <td>0</td>\n",
       "      <td>0</td>\n",
       "      <td>0</td>\n",
       "      <td>0</td>\n",
       "      <td>0</td>\n",
       "      <td>0</td>\n",
       "      <td>1</td>\n",
       "      <td>0</td>\n",
       "      <td>1</td>\n",
       "    </tr>\n",
       "    <tr>\n",
       "      <th>8371</th>\n",
       "      <td>-0.877589</td>\n",
       "      <td>0</td>\n",
       "      <td>0</td>\n",
       "      <td>0</td>\n",
       "      <td>0</td>\n",
       "      <td>0</td>\n",
       "      <td>0</td>\n",
       "      <td>0</td>\n",
       "      <td>1</td>\n",
       "      <td>0</td>\n",
       "      <td>1</td>\n",
       "    </tr>\n",
       "    <tr>\n",
       "      <th>1640</th>\n",
       "      <td>-0.757511</td>\n",
       "      <td>0</td>\n",
       "      <td>0</td>\n",
       "      <td>0</td>\n",
       "      <td>0</td>\n",
       "      <td>0</td>\n",
       "      <td>0</td>\n",
       "      <td>0</td>\n",
       "      <td>0</td>\n",
       "      <td>0</td>\n",
       "      <td>0</td>\n",
       "    </tr>\n",
       "    <tr>\n",
       "      <th>1949</th>\n",
       "      <td>-0.895783</td>\n",
       "      <td>0</td>\n",
       "      <td>0</td>\n",
       "      <td>0</td>\n",
       "      <td>0</td>\n",
       "      <td>1</td>\n",
       "      <td>0</td>\n",
       "      <td>0</td>\n",
       "      <td>1</td>\n",
       "      <td>0</td>\n",
       "      <td>1</td>\n",
       "    </tr>\n",
       "    <tr>\n",
       "      <th>3673</th>\n",
       "      <td>-0.235350</td>\n",
       "      <td>0</td>\n",
       "      <td>0</td>\n",
       "      <td>0</td>\n",
       "      <td>0</td>\n",
       "      <td>0</td>\n",
       "      <td>0</td>\n",
       "      <td>0</td>\n",
       "      <td>0</td>\n",
       "      <td>0</td>\n",
       "      <td>0</td>\n",
       "    </tr>\n",
       "  </tbody>\n",
       "</table>\n",
       "</div>"
      ],
      "text/plain": [
       "      Total Time Spent on Website  Lead Source_Welingak Website  \\\n",
       "343                     -0.792079                             0   \n",
       "8371                    -0.877589                             0   \n",
       "1640                    -0.757511                             0   \n",
       "1949                    -0.895783                             0   \n",
       "3673                    -0.235350                             0   \n",
       "\n",
       "      Last Activity_Converted to Lead  Last Activity_Email Bounced  \\\n",
       "343                                 0                            0   \n",
       "8371                                0                            0   \n",
       "1640                                0                            0   \n",
       "1949                                0                            0   \n",
       "3673                                0                            0   \n",
       "\n",
       "      Last Activity_Olark Chat Conversation  Last Activity_SMS Sent  \\\n",
       "343                                       0                       0   \n",
       "8371                                      0                       0   \n",
       "1640                                      0                       0   \n",
       "1949                                      0                       1   \n",
       "3673                                      0                       0   \n",
       "\n",
       "      Tags_Lost to others  Tags_Next_batch  Tags_Not Specified  \\\n",
       "343                     0                0                   1   \n",
       "8371                    0                0                   1   \n",
       "1640                    0                0                   0   \n",
       "1949                    0                0                   1   \n",
       "3673                    0                0                   0   \n",
       "\n",
       "      Tags_Will revert after reading the email  \\\n",
       "343                                          0   \n",
       "8371                                         0   \n",
       "1640                                         0   \n",
       "1949                                         0   \n",
       "3673                                         0   \n",
       "\n",
       "      What is your current occupation_Others  \n",
       "343                                        1  \n",
       "8371                                       1  \n",
       "1640                                       0  \n",
       "1949                                       1  \n",
       "3673                                       0  "
      ]
     },
     "execution_count": 133,
     "metadata": {},
     "output_type": "execute_result"
    }
   ],
   "source": [
    "X_test = X_test[col]\n",
    "X_test.head()"
   ]
  },
  {
   "cell_type": "code",
   "execution_count": 134,
   "id": "e932ef15",
   "metadata": {},
   "outputs": [],
   "source": [
    "#Adding the constant\n",
    "X_test_sm = sm.add_constant(X_test)"
   ]
  },
  {
   "cell_type": "code",
   "execution_count": 135,
   "id": "43e93a89",
   "metadata": {},
   "outputs": [],
   "source": [
    "#Predicting the values on the test set\n",
    "y_test_pred = res.predict(X_test_sm)"
   ]
  },
  {
   "cell_type": "code",
   "execution_count": 136,
   "id": "868ff9d0",
   "metadata": {},
   "outputs": [],
   "source": [
    "#Creating a dataframe\n",
    "y_pred_1 = pd.DataFrame(y_test_pred)"
   ]
  },
  {
   "cell_type": "code",
   "execution_count": 137,
   "id": "95c0d7ad",
   "metadata": {},
   "outputs": [],
   "source": [
    "#Creating the ytest df\n",
    "y_test_df = pd.DataFrame(y_test)"
   ]
  },
  {
   "cell_type": "code",
   "execution_count": 138,
   "id": "2a943b5c",
   "metadata": {},
   "outputs": [],
   "source": [
    "# Making Lead Number the index of the df\n",
    "y_test_df['Lead Number'] = y_test_df.index"
   ]
  },
  {
   "cell_type": "code",
   "execution_count": 139,
   "id": "85db27df",
   "metadata": {},
   "outputs": [],
   "source": [
    "# Removing index for both dataframes to append them side by side \n",
    "y_pred_1.reset_index(drop=True, inplace=True)\n",
    "y_test_df.reset_index(drop=True, inplace=True)"
   ]
  },
  {
   "cell_type": "code",
   "execution_count": 140,
   "id": "f1846c0a",
   "metadata": {},
   "outputs": [],
   "source": [
    "# Appending y_test_df and y_pred_1\n",
    "y_pred_final = pd.concat([y_test_df, y_pred_1],axis=1)"
   ]
  },
  {
   "cell_type": "code",
   "execution_count": 141,
   "id": "68394e80",
   "metadata": {},
   "outputs": [
    {
     "data": {
      "text/html": [
       "<div>\n",
       "<style scoped>\n",
       "    .dataframe tbody tr th:only-of-type {\n",
       "        vertical-align: middle;\n",
       "    }\n",
       "\n",
       "    .dataframe tbody tr th {\n",
       "        vertical-align: top;\n",
       "    }\n",
       "\n",
       "    .dataframe thead th {\n",
       "        text-align: right;\n",
       "    }\n",
       "</style>\n",
       "<table border=\"1\" class=\"dataframe\">\n",
       "  <thead>\n",
       "    <tr style=\"text-align: right;\">\n",
       "      <th></th>\n",
       "      <th>Converted</th>\n",
       "      <th>Lead Number</th>\n",
       "      <th>0</th>\n",
       "    </tr>\n",
       "  </thead>\n",
       "  <tbody>\n",
       "    <tr>\n",
       "      <th>0</th>\n",
       "      <td>0</td>\n",
       "      <td>343</td>\n",
       "      <td>0.044707</td>\n",
       "    </tr>\n",
       "    <tr>\n",
       "      <th>1</th>\n",
       "      <td>0</td>\n",
       "      <td>8371</td>\n",
       "      <td>0.041594</td>\n",
       "    </tr>\n",
       "    <tr>\n",
       "      <th>2</th>\n",
       "      <td>0</td>\n",
       "      <td>1640</td>\n",
       "      <td>0.012435</td>\n",
       "    </tr>\n",
       "    <tr>\n",
       "      <th>3</th>\n",
       "      <td>1</td>\n",
       "      <td>1949</td>\n",
       "      <td>0.201973</td>\n",
       "    </tr>\n",
       "    <tr>\n",
       "      <th>4</th>\n",
       "      <td>0</td>\n",
       "      <td>3673</td>\n",
       "      <td>0.019566</td>\n",
       "    </tr>\n",
       "  </tbody>\n",
       "</table>\n",
       "</div>"
      ],
      "text/plain": [
       "   Converted  Lead Number         0\n",
       "0          0          343  0.044707\n",
       "1          0         8371  0.041594\n",
       "2          0         1640  0.012435\n",
       "3          1         1949  0.201973\n",
       "4          0         3673  0.019566"
      ]
     },
     "execution_count": 141,
     "metadata": {},
     "output_type": "execute_result"
    }
   ],
   "source": [
    "#Checking the final predicted dataframe\n",
    "y_pred_final.head()"
   ]
  },
  {
   "cell_type": "code",
   "execution_count": 142,
   "id": "a6da2cad",
   "metadata": {},
   "outputs": [],
   "source": [
    "# Renaming the column \n",
    "y_pred_final= y_pred_final.rename(columns={ 0 : 'Converted_Prob'})"
   ]
  },
  {
   "cell_type": "code",
   "execution_count": 143,
   "id": "600096b2",
   "metadata": {},
   "outputs": [],
   "source": [
    "# Rearranging the columns\n",
    "y_pred_final = y_pred_final.reindex(['Lead Number','Converted','Converted_Prob'], axis=1)"
   ]
  },
  {
   "cell_type": "code",
   "execution_count": 144,
   "id": "87ea90d1",
   "metadata": {},
   "outputs": [
    {
     "data": {
      "text/html": [
       "<div>\n",
       "<style scoped>\n",
       "    .dataframe tbody tr th:only-of-type {\n",
       "        vertical-align: middle;\n",
       "    }\n",
       "\n",
       "    .dataframe tbody tr th {\n",
       "        vertical-align: top;\n",
       "    }\n",
       "\n",
       "    .dataframe thead th {\n",
       "        text-align: right;\n",
       "    }\n",
       "</style>\n",
       "<table border=\"1\" class=\"dataframe\">\n",
       "  <thead>\n",
       "    <tr style=\"text-align: right;\">\n",
       "      <th></th>\n",
       "      <th>Lead Number</th>\n",
       "      <th>Converted</th>\n",
       "      <th>Converted_Prob</th>\n",
       "    </tr>\n",
       "  </thead>\n",
       "  <tbody>\n",
       "    <tr>\n",
       "      <th>0</th>\n",
       "      <td>343</td>\n",
       "      <td>0</td>\n",
       "      <td>0.044707</td>\n",
       "    </tr>\n",
       "    <tr>\n",
       "      <th>1</th>\n",
       "      <td>8371</td>\n",
       "      <td>0</td>\n",
       "      <td>0.041594</td>\n",
       "    </tr>\n",
       "    <tr>\n",
       "      <th>2</th>\n",
       "      <td>1640</td>\n",
       "      <td>0</td>\n",
       "      <td>0.012435</td>\n",
       "    </tr>\n",
       "    <tr>\n",
       "      <th>3</th>\n",
       "      <td>1949</td>\n",
       "      <td>1</td>\n",
       "      <td>0.201973</td>\n",
       "    </tr>\n",
       "    <tr>\n",
       "      <th>4</th>\n",
       "      <td>3673</td>\n",
       "      <td>0</td>\n",
       "      <td>0.019566</td>\n",
       "    </tr>\n",
       "  </tbody>\n",
       "</table>\n",
       "</div>"
      ],
      "text/plain": [
       "   Lead Number  Converted  Converted_Prob\n",
       "0          343          0        0.044707\n",
       "1         8371          0        0.041594\n",
       "2         1640          0        0.012435\n",
       "3         1949          1        0.201973\n",
       "4         3673          0        0.019566"
      ]
     },
     "execution_count": 144,
     "metadata": {},
     "output_type": "execute_result"
    }
   ],
   "source": [
    "#Checking the head of the final predicted dataset\n",
    "y_pred_final.head()"
   ]
  },
  {
   "cell_type": "code",
   "execution_count": 145,
   "id": "7fa34dab",
   "metadata": {},
   "outputs": [],
   "source": [
    "#Setting the cutoff as 0.3\n",
    "y_pred_final['final_predicted'] = y_pred_final.Converted_Prob.map(lambda x: 1 if x > 0.3 else 0)"
   ]
  },
  {
   "cell_type": "code",
   "execution_count": 146,
   "id": "3d59f82a",
   "metadata": {},
   "outputs": [
    {
     "data": {
      "text/html": [
       "<div>\n",
       "<style scoped>\n",
       "    .dataframe tbody tr th:only-of-type {\n",
       "        vertical-align: middle;\n",
       "    }\n",
       "\n",
       "    .dataframe tbody tr th {\n",
       "        vertical-align: top;\n",
       "    }\n",
       "\n",
       "    .dataframe thead th {\n",
       "        text-align: right;\n",
       "    }\n",
       "</style>\n",
       "<table border=\"1\" class=\"dataframe\">\n",
       "  <thead>\n",
       "    <tr style=\"text-align: right;\">\n",
       "      <th></th>\n",
       "      <th>Lead Number</th>\n",
       "      <th>Converted</th>\n",
       "      <th>Converted_Prob</th>\n",
       "      <th>final_predicted</th>\n",
       "    </tr>\n",
       "  </thead>\n",
       "  <tbody>\n",
       "    <tr>\n",
       "      <th>0</th>\n",
       "      <td>343</td>\n",
       "      <td>0</td>\n",
       "      <td>0.044707</td>\n",
       "      <td>0</td>\n",
       "    </tr>\n",
       "    <tr>\n",
       "      <th>1</th>\n",
       "      <td>8371</td>\n",
       "      <td>0</td>\n",
       "      <td>0.041594</td>\n",
       "      <td>0</td>\n",
       "    </tr>\n",
       "    <tr>\n",
       "      <th>2</th>\n",
       "      <td>1640</td>\n",
       "      <td>0</td>\n",
       "      <td>0.012435</td>\n",
       "      <td>0</td>\n",
       "    </tr>\n",
       "    <tr>\n",
       "      <th>3</th>\n",
       "      <td>1949</td>\n",
       "      <td>1</td>\n",
       "      <td>0.201973</td>\n",
       "      <td>0</td>\n",
       "    </tr>\n",
       "    <tr>\n",
       "      <th>4</th>\n",
       "      <td>3673</td>\n",
       "      <td>0</td>\n",
       "      <td>0.019566</td>\n",
       "      <td>0</td>\n",
       "    </tr>\n",
       "    <tr>\n",
       "      <th>...</th>\n",
       "      <td>...</td>\n",
       "      <td>...</td>\n",
       "      <td>...</td>\n",
       "      <td>...</td>\n",
       "    </tr>\n",
       "    <tr>\n",
       "      <th>2766</th>\n",
       "      <td>1871</td>\n",
       "      <td>0</td>\n",
       "      <td>0.011023</td>\n",
       "      <td>0</td>\n",
       "    </tr>\n",
       "    <tr>\n",
       "      <th>2767</th>\n",
       "      <td>4698</td>\n",
       "      <td>0</td>\n",
       "      <td>0.011895</td>\n",
       "      <td>0</td>\n",
       "    </tr>\n",
       "    <tr>\n",
       "      <th>2768</th>\n",
       "      <td>4124</td>\n",
       "      <td>0</td>\n",
       "      <td>0.069674</td>\n",
       "      <td>0</td>\n",
       "    </tr>\n",
       "    <tr>\n",
       "      <th>2769</th>\n",
       "      <td>6863</td>\n",
       "      <td>1</td>\n",
       "      <td>0.941187</td>\n",
       "      <td>1</td>\n",
       "    </tr>\n",
       "    <tr>\n",
       "      <th>2770</th>\n",
       "      <td>3928</td>\n",
       "      <td>0</td>\n",
       "      <td>0.067405</td>\n",
       "      <td>0</td>\n",
       "    </tr>\n",
       "  </tbody>\n",
       "</table>\n",
       "<p>2771 rows × 4 columns</p>\n",
       "</div>"
      ],
      "text/plain": [
       "      Lead Number  Converted  Converted_Prob  final_predicted\n",
       "0             343          0        0.044707                0\n",
       "1            8371          0        0.041594                0\n",
       "2            1640          0        0.012435                0\n",
       "3            1949          1        0.201973                0\n",
       "4            3673          0        0.019566                0\n",
       "...           ...        ...             ...              ...\n",
       "2766         1871          0        0.011023                0\n",
       "2767         4698          0        0.011895                0\n",
       "2768         4124          0        0.069674                0\n",
       "2769         6863          1        0.941187                1\n",
       "2770         3928          0        0.067405                0\n",
       "\n",
       "[2771 rows x 4 columns]"
      ]
     },
     "execution_count": 146,
     "metadata": {},
     "output_type": "execute_result"
    }
   ],
   "source": [
    "#Checking the final dataframe\n",
    "y_pred_final"
   ]
  },
  {
   "cell_type": "markdown",
   "id": "8417bf61",
   "metadata": {},
   "source": [
    "### Calculating the various metrics"
   ]
  },
  {
   "cell_type": "code",
   "execution_count": 147,
   "id": "bd8710b7",
   "metadata": {},
   "outputs": [
    {
     "data": {
      "text/plain": [
       "0.9162757127390834"
      ]
     },
     "execution_count": 147,
     "metadata": {},
     "output_type": "execute_result"
    }
   ],
   "source": [
    "# Checking the accuracy of the test set\n",
    "metrics.accuracy_score(y_pred_final.Converted, y_pred_final.final_predicted)"
   ]
  },
  {
   "cell_type": "code",
   "execution_count": 148,
   "id": "c1515d7d",
   "metadata": {},
   "outputs": [
    {
     "data": {
      "text/plain": [
       "array([[1556,  145],\n",
       "       [  87,  983]], dtype=int64)"
      ]
     },
     "execution_count": 148,
     "metadata": {},
     "output_type": "execute_result"
    }
   ],
   "source": [
    "conf2 = metrics.confusion_matrix(y_pred_final['Converted'], y_pred_final.final_predicted)\n",
    "conf2\n"
   ]
  },
  {
   "cell_type": "code",
   "execution_count": 149,
   "id": "f5823e15",
   "metadata": {},
   "outputs": [],
   "source": [
    "# Substituting the value of true positive\n",
    "TP1 = conf2[1,1]\n",
    "# Substituting the value of true negatives\n",
    "TN1 = conf2[0,0]\n",
    "# Substituting the value of false positives\n",
    "FP1 = conf2[0,1] \n",
    "# Substituting the value of false negatives\n",
    "FN1 = conf2[1,0]"
   ]
  },
  {
   "cell_type": "code",
   "execution_count": 150,
   "id": "6827521e",
   "metadata": {},
   "outputs": [
    {
     "data": {
      "text/plain": [
       "0.9186915887850468"
      ]
     },
     "execution_count": 150,
     "metadata": {},
     "output_type": "execute_result"
    }
   ],
   "source": [
    "# Calculating sensitivity\n",
    "TP1 / float(TP1+FN1)"
   ]
  },
  {
   "cell_type": "code",
   "execution_count": 151,
   "id": "2043ff25",
   "metadata": {},
   "outputs": [
    {
     "data": {
      "text/plain": [
       "0.914756025867137"
      ]
     },
     "execution_count": 151,
     "metadata": {},
     "output_type": "execute_result"
    }
   ],
   "source": [
    "#calculating specificity\n",
    "TN1 / float(TN1+FP1)"
   ]
  },
  {
   "cell_type": "code",
   "execution_count": 152,
   "id": "9443fd02",
   "metadata": {},
   "outputs": [
    {
     "data": {
      "text/plain": [
       "0.8714539007092199"
      ]
     },
     "execution_count": 152,
     "metadata": {},
     "output_type": "execute_result"
    }
   ],
   "source": [
    "#calculating precision\n",
    "Precision_test = TP1 / (TP1 + FP1)\n",
    "Precision_test"
   ]
  },
  {
   "cell_type": "code",
   "execution_count": 153,
   "id": "e00846c0",
   "metadata": {},
   "outputs": [
    {
     "data": {
      "text/plain": [
       "0.9186915887850468"
      ]
     },
     "execution_count": 153,
     "metadata": {},
     "output_type": "execute_result"
    }
   ],
   "source": [
    "#Calculating Recall\n",
    "Recall_test = TP1 / (TP1 + FN1)\n",
    "Recall_test"
   ]
  },
  {
   "cell_type": "code",
   "execution_count": 154,
   "id": "45d0143f",
   "metadata": {},
   "outputs": [
    {
     "data": {
      "text/plain": [
       "0.895686274509804"
      ]
     },
     "execution_count": 154,
     "metadata": {},
     "output_type": "execute_result"
    }
   ],
   "source": [
    "#Calculating f1 score\n",
    "F1_test = 2 * (Precision_test * Recall_test) / (Precision_test + Recall_test)\n",
    "F1"
   ]
  },
  {
   "cell_type": "markdown",
   "id": "bdfca852",
   "metadata": {},
   "source": [
    "#### We can observe that the accuracy of model prediction on the test set is 91.6% which is almost similar to the train set.The sensitivity,specificity and recall values are 91.8%,91.4% and 91.8% indicating that the algorithm is doing a good job of predicting a high percentage of correct values."
   ]
  },
  {
   "cell_type": "code",
   "execution_count": 155,
   "id": "0a69c705",
   "metadata": {},
   "outputs": [
    {
     "data": {
      "text/html": [
       "<div>\n",
       "<style scoped>\n",
       "    .dataframe tbody tr th:only-of-type {\n",
       "        vertical-align: middle;\n",
       "    }\n",
       "\n",
       "    .dataframe tbody tr th {\n",
       "        vertical-align: top;\n",
       "    }\n",
       "\n",
       "    .dataframe thead th {\n",
       "        text-align: right;\n",
       "    }\n",
       "</style>\n",
       "<table border=\"1\" class=\"dataframe\">\n",
       "  <thead>\n",
       "    <tr style=\"text-align: right;\">\n",
       "      <th></th>\n",
       "      <th>Lead Number</th>\n",
       "      <th>Converted</th>\n",
       "      <th>Converted_Prob</th>\n",
       "      <th>final_predicted</th>\n",
       "      <th>Lead_Score</th>\n",
       "    </tr>\n",
       "  </thead>\n",
       "  <tbody>\n",
       "    <tr>\n",
       "      <th>0</th>\n",
       "      <td>343</td>\n",
       "      <td>0</td>\n",
       "      <td>0.044707</td>\n",
       "      <td>0</td>\n",
       "      <td>4</td>\n",
       "    </tr>\n",
       "    <tr>\n",
       "      <th>1</th>\n",
       "      <td>8371</td>\n",
       "      <td>0</td>\n",
       "      <td>0.041594</td>\n",
       "      <td>0</td>\n",
       "      <td>4</td>\n",
       "    </tr>\n",
       "    <tr>\n",
       "      <th>2</th>\n",
       "      <td>1640</td>\n",
       "      <td>0</td>\n",
       "      <td>0.012435</td>\n",
       "      <td>0</td>\n",
       "      <td>1</td>\n",
       "    </tr>\n",
       "    <tr>\n",
       "      <th>3</th>\n",
       "      <td>1949</td>\n",
       "      <td>1</td>\n",
       "      <td>0.201973</td>\n",
       "      <td>0</td>\n",
       "      <td>20</td>\n",
       "    </tr>\n",
       "    <tr>\n",
       "      <th>4</th>\n",
       "      <td>3673</td>\n",
       "      <td>0</td>\n",
       "      <td>0.019566</td>\n",
       "      <td>0</td>\n",
       "      <td>2</td>\n",
       "    </tr>\n",
       "    <tr>\n",
       "      <th>5</th>\n",
       "      <td>5690</td>\n",
       "      <td>0</td>\n",
       "      <td>0.011914</td>\n",
       "      <td>0</td>\n",
       "      <td>1</td>\n",
       "    </tr>\n",
       "    <tr>\n",
       "      <th>6</th>\n",
       "      <td>8072</td>\n",
       "      <td>1</td>\n",
       "      <td>0.980019</td>\n",
       "      <td>1</td>\n",
       "      <td>98</td>\n",
       "    </tr>\n",
       "    <tr>\n",
       "      <th>7</th>\n",
       "      <td>8334</td>\n",
       "      <td>1</td>\n",
       "      <td>0.801538</td>\n",
       "      <td>1</td>\n",
       "      <td>80</td>\n",
       "    </tr>\n",
       "    <tr>\n",
       "      <th>8</th>\n",
       "      <td>349</td>\n",
       "      <td>0</td>\n",
       "      <td>0.004027</td>\n",
       "      <td>0</td>\n",
       "      <td>0</td>\n",
       "    </tr>\n",
       "    <tr>\n",
       "      <th>9</th>\n",
       "      <td>9225</td>\n",
       "      <td>0</td>\n",
       "      <td>0.001239</td>\n",
       "      <td>0</td>\n",
       "      <td>0</td>\n",
       "    </tr>\n",
       "    <tr>\n",
       "      <th>10</th>\n",
       "      <td>1882</td>\n",
       "      <td>1</td>\n",
       "      <td>0.996172</td>\n",
       "      <td>1</td>\n",
       "      <td>100</td>\n",
       "    </tr>\n",
       "    <tr>\n",
       "      <th>11</th>\n",
       "      <td>5658</td>\n",
       "      <td>0</td>\n",
       "      <td>0.040959</td>\n",
       "      <td>0</td>\n",
       "      <td>4</td>\n",
       "    </tr>\n",
       "    <tr>\n",
       "      <th>12</th>\n",
       "      <td>8751</td>\n",
       "      <td>0</td>\n",
       "      <td>0.069228</td>\n",
       "      <td>0</td>\n",
       "      <td>7</td>\n",
       "    </tr>\n",
       "    <tr>\n",
       "      <th>13</th>\n",
       "      <td>4177</td>\n",
       "      <td>0</td>\n",
       "      <td>0.062801</td>\n",
       "      <td>0</td>\n",
       "      <td>6</td>\n",
       "    </tr>\n",
       "    <tr>\n",
       "      <th>14</th>\n",
       "      <td>7534</td>\n",
       "      <td>0</td>\n",
       "      <td>0.065342</td>\n",
       "      <td>0</td>\n",
       "      <td>7</td>\n",
       "    </tr>\n",
       "    <tr>\n",
       "      <th>15</th>\n",
       "      <td>8989</td>\n",
       "      <td>1</td>\n",
       "      <td>0.946189</td>\n",
       "      <td>1</td>\n",
       "      <td>95</td>\n",
       "    </tr>\n",
       "    <tr>\n",
       "      <th>16</th>\n",
       "      <td>5317</td>\n",
       "      <td>0</td>\n",
       "      <td>0.044639</td>\n",
       "      <td>0</td>\n",
       "      <td>4</td>\n",
       "    </tr>\n",
       "    <tr>\n",
       "      <th>17</th>\n",
       "      <td>5107</td>\n",
       "      <td>0</td>\n",
       "      <td>0.040959</td>\n",
       "      <td>0</td>\n",
       "      <td>4</td>\n",
       "    </tr>\n",
       "    <tr>\n",
       "      <th>18</th>\n",
       "      <td>585</td>\n",
       "      <td>1</td>\n",
       "      <td>0.969758</td>\n",
       "      <td>1</td>\n",
       "      <td>97</td>\n",
       "    </tr>\n",
       "    <tr>\n",
       "      <th>19</th>\n",
       "      <td>2968</td>\n",
       "      <td>0</td>\n",
       "      <td>0.081383</td>\n",
       "      <td>0</td>\n",
       "      <td>8</td>\n",
       "    </tr>\n",
       "  </tbody>\n",
       "</table>\n",
       "</div>"
      ],
      "text/plain": [
       "    Lead Number  Converted  Converted_Prob  final_predicted  Lead_Score\n",
       "0           343          0        0.044707                0           4\n",
       "1          8371          0        0.041594                0           4\n",
       "2          1640          0        0.012435                0           1\n",
       "3          1949          1        0.201973                0          20\n",
       "4          3673          0        0.019566                0           2\n",
       "5          5690          0        0.011914                0           1\n",
       "6          8072          1        0.980019                1          98\n",
       "7          8334          1        0.801538                1          80\n",
       "8           349          0        0.004027                0           0\n",
       "9          9225          0        0.001239                0           0\n",
       "10         1882          1        0.996172                1         100\n",
       "11         5658          0        0.040959                0           4\n",
       "12         8751          0        0.069228                0           7\n",
       "13         4177          0        0.062801                0           6\n",
       "14         7534          0        0.065342                0           7\n",
       "15         8989          1        0.946189                1          95\n",
       "16         5317          0        0.044639                0           4\n",
       "17         5107          0        0.040959                0           4\n",
       "18          585          1        0.969758                1          97\n",
       "19         2968          0        0.081383                0           8"
      ]
     },
     "execution_count": 155,
     "metadata": {},
     "output_type": "execute_result"
    }
   ],
   "source": [
    "#Calculating and including the lead score column\n",
    "y_pred_final['Lead_Score'] = y_pred_final.Converted_Prob.map( lambda x: round(x*100))\n",
    "\n",
    "y_pred_final.head(20)"
   ]
  },
  {
   "cell_type": "markdown",
   "id": "56d60e1d",
   "metadata": {},
   "source": [
    "#### The lead score for each entry in the test set has been calculated from the converted probability in the above table.A high score close to 100 indicates a hot lead and a low score indicates a cold lead which will not get converted."
   ]
  },
  {
   "cell_type": "markdown",
   "id": "43e8bbc1",
   "metadata": {},
   "source": [
    "#### INFERENCE\n",
    "#### The top features which may contribute to the conversion rate are,\n",
    "     - Total time spent on the website\n",
    "     - Lead source Welingak website\n",
    "     - Last Activity-SMS sent\n",
    "#### The company should concentrate on customers\n",
    "     - With MBA specializations\n",
    "     - who are unemployed or working professionals\n",
    "     - who have spent more time on the website.\n",
    "     - who have been tagged “Will revert after reading the mail”\n",
    "#### To attract more customers the company can concentrate on \n",
    "     - sources like the Welingak website and Google\n",
    "     - References by existing customers\n"
   ]
  },
  {
   "cell_type": "code",
   "execution_count": null,
   "id": "19d13835",
   "metadata": {},
   "outputs": [],
   "source": []
  }
 ],
 "metadata": {
  "kernelspec": {
   "display_name": "Python 3",
   "language": "python",
   "name": "python3"
  },
  "language_info": {
   "codemirror_mode": {
    "name": "ipython",
    "version": 3
   },
   "file_extension": ".py",
   "mimetype": "text/x-python",
   "name": "python",
   "nbconvert_exporter": "python",
   "pygments_lexer": "ipython3",
   "version": "3.8.8"
  }
 },
 "nbformat": 4,
 "nbformat_minor": 5
}
